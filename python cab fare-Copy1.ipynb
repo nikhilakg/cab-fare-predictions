{
 "cells": [
  {
   "cell_type": "code",
   "execution_count": 1,
   "metadata": {},
   "outputs": [],
   "source": [
    "############# cab fare predictions ############"
   ]
  },
  {
   "cell_type": "code",
   "execution_count": 2,
   "metadata": {
    "scrolled": true
   },
   "outputs": [],
   "source": [
    "#importing libraries\n",
    "import os\n",
    "import pandas as pd\n",
    "import numpy as np\n",
    "import matplotlib.pyplot as plt\n",
    "import seaborn as sns\n",
    "import scipy.stats as stats\n",
    "import statsmodels.api as sm\n",
    "from statsmodels.formula.api import ols\n",
    "from patsy import dmatrices\n",
    "from statsmodels.stats.outliers_influence import variance_inflation_factor\n",
    "from sklearn.model_selection import train_test_split\n",
    "from sklearn.metrics import mean_squared_error\n",
    "from sklearn import metrics\n",
    "from sklearn.linear_model import LinearRegression\n",
    "from sklearn.model_selection import GridSearchCV\n",
    "from sklearn.model_selection import RandomizedSearchCV\n",
    "from sklearn.model_selection import cross_val_score\n",
    "from sklearn.ensemble import RandomForestRegressor\n",
    "from sklearn.tree import DecisionTreeRegressor"
   ]
  },
  {
   "cell_type": "code",
   "execution_count": 3,
   "metadata": {},
   "outputs": [],
   "source": [
    "#set current working directory\n",
    "os.chdir(\"C:/Users/nikhi/Desktop/cab fare prediction\")"
   ]
  },
  {
   "cell_type": "code",
   "execution_count": 4,
   "metadata": {},
   "outputs": [
    {
     "data": {
      "text/plain": [
       "'C:\\\\Users\\\\nikhi\\\\Desktop\\\\cab fare prediction'"
      ]
     },
     "execution_count": 4,
     "metadata": {},
     "output_type": "execute_result"
    }
   ],
   "source": [
    "#cross-check working directory\n",
    "os.getcwd()"
   ]
  },
  {
   "cell_type": "code",
   "execution_count": 5,
   "metadata": {},
   "outputs": [],
   "source": [
    "#loading train dataset\n",
    "train = pd.read_csv('train_cab.csv')"
   ]
  },
  {
   "cell_type": "code",
   "execution_count": 6,
   "metadata": {},
   "outputs": [
    {
     "name": "stdout",
     "output_type": "stream",
     "text": [
      "<class 'pandas.core.frame.DataFrame'>\n",
      "RangeIndex: 16067 entries, 0 to 16066\n",
      "Data columns (total 7 columns):\n",
      "fare_amount          16043 non-null object\n",
      "pickup_datetime      16067 non-null object\n",
      "pickup_longitude     16067 non-null float64\n",
      "pickup_latitude      16067 non-null float64\n",
      "dropoff_longitude    16067 non-null float64\n",
      "dropoff_latitude     16067 non-null float64\n",
      "passenger_count      16012 non-null float64\n",
      "dtypes: float64(5), object(2)\n",
      "memory usage: 878.8+ KB\n"
     ]
    }
   ],
   "source": [
    "train.info()"
   ]
  },
  {
   "cell_type": "code",
   "execution_count": 7,
   "metadata": {},
   "outputs": [],
   "source": [
    "#fare_amount is stored as object, converting that to float\n",
    "train = pd.read_csv('train_cab.csv',dtype={'fare_amount':np.float64},na_values={'fare_amount':'430-'})"
   ]
  },
  {
   "cell_type": "code",
   "execution_count": 8,
   "metadata": {},
   "outputs": [
    {
     "name": "stdout",
     "output_type": "stream",
     "text": [
      "<class 'pandas.core.frame.DataFrame'>\n",
      "RangeIndex: 16067 entries, 0 to 16066\n",
      "Data columns (total 7 columns):\n",
      "fare_amount          16042 non-null float64\n",
      "pickup_datetime      16067 non-null object\n",
      "pickup_longitude     16067 non-null float64\n",
      "pickup_latitude      16067 non-null float64\n",
      "dropoff_longitude    16067 non-null float64\n",
      "dropoff_latitude     16067 non-null float64\n",
      "passenger_count      16012 non-null float64\n",
      "dtypes: float64(6), object(1)\n",
      "memory usage: 878.8+ KB\n"
     ]
    }
   ],
   "source": [
    "train.info()"
   ]
  },
  {
   "cell_type": "code",
   "execution_count": 9,
   "metadata": {},
   "outputs": [
    {
     "data": {
      "text/html": [
       "<div>\n",
       "<style scoped>\n",
       "    .dataframe tbody tr th:only-of-type {\n",
       "        vertical-align: middle;\n",
       "    }\n",
       "\n",
       "    .dataframe tbody tr th {\n",
       "        vertical-align: top;\n",
       "    }\n",
       "\n",
       "    .dataframe thead th {\n",
       "        text-align: right;\n",
       "    }\n",
       "</style>\n",
       "<table border=\"1\" class=\"dataframe\">\n",
       "  <thead>\n",
       "    <tr style=\"text-align: right;\">\n",
       "      <th></th>\n",
       "      <th>fare_amount</th>\n",
       "      <th>pickup_longitude</th>\n",
       "      <th>pickup_latitude</th>\n",
       "      <th>dropoff_longitude</th>\n",
       "      <th>dropoff_latitude</th>\n",
       "      <th>passenger_count</th>\n",
       "    </tr>\n",
       "  </thead>\n",
       "  <tbody>\n",
       "    <tr>\n",
       "      <td>count</td>\n",
       "      <td>16042.000000</td>\n",
       "      <td>16067.000000</td>\n",
       "      <td>16067.000000</td>\n",
       "      <td>16067.000000</td>\n",
       "      <td>16067.000000</td>\n",
       "      <td>16012.000000</td>\n",
       "    </tr>\n",
       "    <tr>\n",
       "      <td>mean</td>\n",
       "      <td>15.015004</td>\n",
       "      <td>-72.462787</td>\n",
       "      <td>39.914725</td>\n",
       "      <td>-72.462328</td>\n",
       "      <td>39.897906</td>\n",
       "      <td>2.625070</td>\n",
       "    </tr>\n",
       "    <tr>\n",
       "      <td>std</td>\n",
       "      <td>430.460945</td>\n",
       "      <td>10.578384</td>\n",
       "      <td>6.826587</td>\n",
       "      <td>10.575062</td>\n",
       "      <td>6.187087</td>\n",
       "      <td>60.844122</td>\n",
       "    </tr>\n",
       "    <tr>\n",
       "      <td>min</td>\n",
       "      <td>-3.000000</td>\n",
       "      <td>-74.438233</td>\n",
       "      <td>-74.006893</td>\n",
       "      <td>-74.429332</td>\n",
       "      <td>-74.006377</td>\n",
       "      <td>0.000000</td>\n",
       "    </tr>\n",
       "    <tr>\n",
       "      <td>25%</td>\n",
       "      <td>6.000000</td>\n",
       "      <td>-73.992156</td>\n",
       "      <td>40.734927</td>\n",
       "      <td>-73.991182</td>\n",
       "      <td>40.734651</td>\n",
       "      <td>1.000000</td>\n",
       "    </tr>\n",
       "    <tr>\n",
       "      <td>50%</td>\n",
       "      <td>8.500000</td>\n",
       "      <td>-73.981698</td>\n",
       "      <td>40.752603</td>\n",
       "      <td>-73.980172</td>\n",
       "      <td>40.753567</td>\n",
       "      <td>1.000000</td>\n",
       "    </tr>\n",
       "    <tr>\n",
       "      <td>75%</td>\n",
       "      <td>12.500000</td>\n",
       "      <td>-73.966838</td>\n",
       "      <td>40.767381</td>\n",
       "      <td>-73.963643</td>\n",
       "      <td>40.768013</td>\n",
       "      <td>2.000000</td>\n",
       "    </tr>\n",
       "    <tr>\n",
       "      <td>max</td>\n",
       "      <td>54343.000000</td>\n",
       "      <td>40.766125</td>\n",
       "      <td>401.083332</td>\n",
       "      <td>40.802437</td>\n",
       "      <td>41.366138</td>\n",
       "      <td>5345.000000</td>\n",
       "    </tr>\n",
       "  </tbody>\n",
       "</table>\n",
       "</div>"
      ],
      "text/plain": [
       "        fare_amount  pickup_longitude  pickup_latitude  dropoff_longitude  \\\n",
       "count  16042.000000      16067.000000     16067.000000       16067.000000   \n",
       "mean      15.015004        -72.462787        39.914725         -72.462328   \n",
       "std      430.460945         10.578384         6.826587          10.575062   \n",
       "min       -3.000000        -74.438233       -74.006893         -74.429332   \n",
       "25%        6.000000        -73.992156        40.734927         -73.991182   \n",
       "50%        8.500000        -73.981698        40.752603         -73.980172   \n",
       "75%       12.500000        -73.966838        40.767381         -73.963643   \n",
       "max    54343.000000         40.766125       401.083332          40.802437   \n",
       "\n",
       "       dropoff_latitude  passenger_count  \n",
       "count      16067.000000     16012.000000  \n",
       "mean          39.897906         2.625070  \n",
       "std            6.187087        60.844122  \n",
       "min          -74.006377         0.000000  \n",
       "25%           40.734651         1.000000  \n",
       "50%           40.753567         1.000000  \n",
       "75%           40.768013         2.000000  \n",
       "max           41.366138      5345.000000  "
      ]
     },
     "execution_count": 9,
     "metadata": {},
     "output_type": "execute_result"
    }
   ],
   "source": [
    "train.describe()"
   ]
  },
  {
   "cell_type": "code",
   "execution_count": 10,
   "metadata": {},
   "outputs": [
    {
     "data": {
      "text/html": [
       "<div>\n",
       "<style scoped>\n",
       "    .dataframe tbody tr th:only-of-type {\n",
       "        vertical-align: middle;\n",
       "    }\n",
       "\n",
       "    .dataframe tbody tr th {\n",
       "        vertical-align: top;\n",
       "    }\n",
       "\n",
       "    .dataframe thead th {\n",
       "        text-align: right;\n",
       "    }\n",
       "</style>\n",
       "<table border=\"1\" class=\"dataframe\">\n",
       "  <thead>\n",
       "    <tr style=\"text-align: right;\">\n",
       "      <th></th>\n",
       "      <th>fare_amount</th>\n",
       "      <th>pickup_datetime</th>\n",
       "      <th>pickup_longitude</th>\n",
       "      <th>pickup_latitude</th>\n",
       "      <th>dropoff_longitude</th>\n",
       "      <th>dropoff_latitude</th>\n",
       "      <th>passenger_count</th>\n",
       "    </tr>\n",
       "  </thead>\n",
       "  <tbody>\n",
       "    <tr>\n",
       "      <td>0</td>\n",
       "      <td>4.5</td>\n",
       "      <td>2009-06-15 17:26:21 UTC</td>\n",
       "      <td>-73.844311</td>\n",
       "      <td>40.721319</td>\n",
       "      <td>-73.841610</td>\n",
       "      <td>40.712278</td>\n",
       "      <td>1.0</td>\n",
       "    </tr>\n",
       "    <tr>\n",
       "      <td>1</td>\n",
       "      <td>16.9</td>\n",
       "      <td>2010-01-05 16:52:16 UTC</td>\n",
       "      <td>-74.016048</td>\n",
       "      <td>40.711303</td>\n",
       "      <td>-73.979268</td>\n",
       "      <td>40.782004</td>\n",
       "      <td>1.0</td>\n",
       "    </tr>\n",
       "    <tr>\n",
       "      <td>2</td>\n",
       "      <td>5.7</td>\n",
       "      <td>2011-08-18 00:35:00 UTC</td>\n",
       "      <td>-73.982738</td>\n",
       "      <td>40.761270</td>\n",
       "      <td>-73.991242</td>\n",
       "      <td>40.750562</td>\n",
       "      <td>2.0</td>\n",
       "    </tr>\n",
       "    <tr>\n",
       "      <td>3</td>\n",
       "      <td>7.7</td>\n",
       "      <td>2012-04-21 04:30:42 UTC</td>\n",
       "      <td>-73.987130</td>\n",
       "      <td>40.733143</td>\n",
       "      <td>-73.991567</td>\n",
       "      <td>40.758092</td>\n",
       "      <td>1.0</td>\n",
       "    </tr>\n",
       "    <tr>\n",
       "      <td>4</td>\n",
       "      <td>5.3</td>\n",
       "      <td>2010-03-09 07:51:00 UTC</td>\n",
       "      <td>-73.968095</td>\n",
       "      <td>40.768008</td>\n",
       "      <td>-73.956655</td>\n",
       "      <td>40.783762</td>\n",
       "      <td>1.0</td>\n",
       "    </tr>\n",
       "  </tbody>\n",
       "</table>\n",
       "</div>"
      ],
      "text/plain": [
       "   fare_amount          pickup_datetime  pickup_longitude  pickup_latitude  \\\n",
       "0          4.5  2009-06-15 17:26:21 UTC        -73.844311        40.721319   \n",
       "1         16.9  2010-01-05 16:52:16 UTC        -74.016048        40.711303   \n",
       "2          5.7  2011-08-18 00:35:00 UTC        -73.982738        40.761270   \n",
       "3          7.7  2012-04-21 04:30:42 UTC        -73.987130        40.733143   \n",
       "4          5.3  2010-03-09 07:51:00 UTC        -73.968095        40.768008   \n",
       "\n",
       "   dropoff_longitude  dropoff_latitude  passenger_count  \n",
       "0         -73.841610         40.712278              1.0  \n",
       "1         -73.979268         40.782004              1.0  \n",
       "2         -73.991242         40.750562              2.0  \n",
       "3         -73.991567         40.758092              1.0  \n",
       "4         -73.956655         40.783762              1.0  "
      ]
     },
     "execution_count": 10,
     "metadata": {},
     "output_type": "execute_result"
    }
   ],
   "source": [
    "train.head(5)"
   ]
  },
  {
   "cell_type": "code",
   "execution_count": 11,
   "metadata": {},
   "outputs": [],
   "source": [
    "#loading test dataset\n",
    "test = pd.read_csv('test.csv')"
   ]
  },
  {
   "cell_type": "code",
   "execution_count": 12,
   "metadata": {},
   "outputs": [
    {
     "name": "stdout",
     "output_type": "stream",
     "text": [
      "<class 'pandas.core.frame.DataFrame'>\n",
      "RangeIndex: 9914 entries, 0 to 9913\n",
      "Data columns (total 6 columns):\n",
      "pickup_datetime      9914 non-null object\n",
      "pickup_longitude     9914 non-null float64\n",
      "pickup_latitude      9914 non-null float64\n",
      "dropoff_longitude    9914 non-null float64\n",
      "dropoff_latitude     9914 non-null float64\n",
      "passenger_count      9914 non-null int64\n",
      "dtypes: float64(4), int64(1), object(1)\n",
      "memory usage: 464.8+ KB\n"
     ]
    }
   ],
   "source": [
    "test.info()"
   ]
  },
  {
   "cell_type": "code",
   "execution_count": 13,
   "metadata": {},
   "outputs": [
    {
     "data": {
      "text/html": [
       "<div>\n",
       "<style scoped>\n",
       "    .dataframe tbody tr th:only-of-type {\n",
       "        vertical-align: middle;\n",
       "    }\n",
       "\n",
       "    .dataframe tbody tr th {\n",
       "        vertical-align: top;\n",
       "    }\n",
       "\n",
       "    .dataframe thead th {\n",
       "        text-align: right;\n",
       "    }\n",
       "</style>\n",
       "<table border=\"1\" class=\"dataframe\">\n",
       "  <thead>\n",
       "    <tr style=\"text-align: right;\">\n",
       "      <th></th>\n",
       "      <th>pickup_longitude</th>\n",
       "      <th>pickup_latitude</th>\n",
       "      <th>dropoff_longitude</th>\n",
       "      <th>dropoff_latitude</th>\n",
       "      <th>passenger_count</th>\n",
       "    </tr>\n",
       "  </thead>\n",
       "  <tbody>\n",
       "    <tr>\n",
       "      <td>count</td>\n",
       "      <td>9914.000000</td>\n",
       "      <td>9914.000000</td>\n",
       "      <td>9914.000000</td>\n",
       "      <td>9914.000000</td>\n",
       "      <td>9914.000000</td>\n",
       "    </tr>\n",
       "    <tr>\n",
       "      <td>mean</td>\n",
       "      <td>-73.974722</td>\n",
       "      <td>40.751041</td>\n",
       "      <td>-73.973657</td>\n",
       "      <td>40.751743</td>\n",
       "      <td>1.671273</td>\n",
       "    </tr>\n",
       "    <tr>\n",
       "      <td>std</td>\n",
       "      <td>0.042774</td>\n",
       "      <td>0.033541</td>\n",
       "      <td>0.039072</td>\n",
       "      <td>0.035435</td>\n",
       "      <td>1.278747</td>\n",
       "    </tr>\n",
       "    <tr>\n",
       "      <td>min</td>\n",
       "      <td>-74.252193</td>\n",
       "      <td>40.573143</td>\n",
       "      <td>-74.263242</td>\n",
       "      <td>40.568973</td>\n",
       "      <td>1.000000</td>\n",
       "    </tr>\n",
       "    <tr>\n",
       "      <td>25%</td>\n",
       "      <td>-73.992501</td>\n",
       "      <td>40.736125</td>\n",
       "      <td>-73.991247</td>\n",
       "      <td>40.735254</td>\n",
       "      <td>1.000000</td>\n",
       "    </tr>\n",
       "    <tr>\n",
       "      <td>50%</td>\n",
       "      <td>-73.982326</td>\n",
       "      <td>40.753051</td>\n",
       "      <td>-73.980015</td>\n",
       "      <td>40.754065</td>\n",
       "      <td>1.000000</td>\n",
       "    </tr>\n",
       "    <tr>\n",
       "      <td>75%</td>\n",
       "      <td>-73.968013</td>\n",
       "      <td>40.767113</td>\n",
       "      <td>-73.964059</td>\n",
       "      <td>40.768757</td>\n",
       "      <td>2.000000</td>\n",
       "    </tr>\n",
       "    <tr>\n",
       "      <td>max</td>\n",
       "      <td>-72.986532</td>\n",
       "      <td>41.709555</td>\n",
       "      <td>-72.990963</td>\n",
       "      <td>41.696683</td>\n",
       "      <td>6.000000</td>\n",
       "    </tr>\n",
       "  </tbody>\n",
       "</table>\n",
       "</div>"
      ],
      "text/plain": [
       "       pickup_longitude  pickup_latitude  dropoff_longitude  dropoff_latitude  \\\n",
       "count       9914.000000      9914.000000        9914.000000       9914.000000   \n",
       "mean         -73.974722        40.751041         -73.973657         40.751743   \n",
       "std            0.042774         0.033541           0.039072          0.035435   \n",
       "min          -74.252193        40.573143         -74.263242         40.568973   \n",
       "25%          -73.992501        40.736125         -73.991247         40.735254   \n",
       "50%          -73.982326        40.753051         -73.980015         40.754065   \n",
       "75%          -73.968013        40.767113         -73.964059         40.768757   \n",
       "max          -72.986532        41.709555         -72.990963         41.696683   \n",
       "\n",
       "       passenger_count  \n",
       "count      9914.000000  \n",
       "mean          1.671273  \n",
       "std           1.278747  \n",
       "min           1.000000  \n",
       "25%           1.000000  \n",
       "50%           1.000000  \n",
       "75%           2.000000  \n",
       "max           6.000000  "
      ]
     },
     "execution_count": 13,
     "metadata": {},
     "output_type": "execute_result"
    }
   ],
   "source": [
    "test.describe()"
   ]
  },
  {
   "cell_type": "code",
   "execution_count": 14,
   "metadata": {},
   "outputs": [
    {
     "data": {
      "text/html": [
       "<div>\n",
       "<style scoped>\n",
       "    .dataframe tbody tr th:only-of-type {\n",
       "        vertical-align: middle;\n",
       "    }\n",
       "\n",
       "    .dataframe tbody tr th {\n",
       "        vertical-align: top;\n",
       "    }\n",
       "\n",
       "    .dataframe thead th {\n",
       "        text-align: right;\n",
       "    }\n",
       "</style>\n",
       "<table border=\"1\" class=\"dataframe\">\n",
       "  <thead>\n",
       "    <tr style=\"text-align: right;\">\n",
       "      <th></th>\n",
       "      <th>pickup_datetime</th>\n",
       "      <th>pickup_longitude</th>\n",
       "      <th>pickup_latitude</th>\n",
       "      <th>dropoff_longitude</th>\n",
       "      <th>dropoff_latitude</th>\n",
       "      <th>passenger_count</th>\n",
       "    </tr>\n",
       "  </thead>\n",
       "  <tbody>\n",
       "    <tr>\n",
       "      <td>0</td>\n",
       "      <td>2015-01-27 13:08:24 UTC</td>\n",
       "      <td>-73.973320</td>\n",
       "      <td>40.763805</td>\n",
       "      <td>-73.981430</td>\n",
       "      <td>40.743835</td>\n",
       "      <td>1</td>\n",
       "    </tr>\n",
       "    <tr>\n",
       "      <td>1</td>\n",
       "      <td>2015-01-27 13:08:24 UTC</td>\n",
       "      <td>-73.986862</td>\n",
       "      <td>40.719383</td>\n",
       "      <td>-73.998886</td>\n",
       "      <td>40.739201</td>\n",
       "      <td>1</td>\n",
       "    </tr>\n",
       "    <tr>\n",
       "      <td>2</td>\n",
       "      <td>2011-10-08 11:53:44 UTC</td>\n",
       "      <td>-73.982524</td>\n",
       "      <td>40.751260</td>\n",
       "      <td>-73.979654</td>\n",
       "      <td>40.746139</td>\n",
       "      <td>1</td>\n",
       "    </tr>\n",
       "    <tr>\n",
       "      <td>3</td>\n",
       "      <td>2012-12-01 21:12:12 UTC</td>\n",
       "      <td>-73.981160</td>\n",
       "      <td>40.767807</td>\n",
       "      <td>-73.990448</td>\n",
       "      <td>40.751635</td>\n",
       "      <td>1</td>\n",
       "    </tr>\n",
       "    <tr>\n",
       "      <td>4</td>\n",
       "      <td>2012-12-01 21:12:12 UTC</td>\n",
       "      <td>-73.966046</td>\n",
       "      <td>40.789775</td>\n",
       "      <td>-73.988565</td>\n",
       "      <td>40.744427</td>\n",
       "      <td>1</td>\n",
       "    </tr>\n",
       "  </tbody>\n",
       "</table>\n",
       "</div>"
      ],
      "text/plain": [
       "           pickup_datetime  pickup_longitude  pickup_latitude  \\\n",
       "0  2015-01-27 13:08:24 UTC        -73.973320        40.763805   \n",
       "1  2015-01-27 13:08:24 UTC        -73.986862        40.719383   \n",
       "2  2011-10-08 11:53:44 UTC        -73.982524        40.751260   \n",
       "3  2012-12-01 21:12:12 UTC        -73.981160        40.767807   \n",
       "4  2012-12-01 21:12:12 UTC        -73.966046        40.789775   \n",
       "\n",
       "   dropoff_longitude  dropoff_latitude  passenger_count  \n",
       "0         -73.981430         40.743835                1  \n",
       "1         -73.998886         40.739201                1  \n",
       "2         -73.979654         40.746139                1  \n",
       "3         -73.990448         40.751635                1  \n",
       "4         -73.988565         40.744427                1  "
      ]
     },
     "execution_count": 14,
     "metadata": {},
     "output_type": "execute_result"
    }
   ],
   "source": [
    "test.head(5)"
   ]
  },
  {
   "cell_type": "code",
   "execution_count": 15,
   "metadata": {},
   "outputs": [],
   "source": [
    "#converting pickup_datetime from object to datetime in both train and test dataset\n",
    "data=[train,test]"
   ]
  },
  {
   "cell_type": "code",
   "execution_count": 16,
   "metadata": {},
   "outputs": [],
   "source": [
    "for i in data:\n",
    "    i['pickup_datetime']  = pd.to_datetime(i['pickup_datetime'],errors='coerce')"
   ]
  },
  {
   "cell_type": "code",
   "execution_count": 17,
   "metadata": {},
   "outputs": [
    {
     "name": "stdout",
     "output_type": "stream",
     "text": [
      "<class 'pandas.core.frame.DataFrame'>\n",
      "RangeIndex: 16067 entries, 0 to 16066\n",
      "Data columns (total 7 columns):\n",
      "fare_amount          16042 non-null float64\n",
      "pickup_datetime      16066 non-null datetime64[ns, UTC]\n",
      "pickup_longitude     16067 non-null float64\n",
      "pickup_latitude      16067 non-null float64\n",
      "dropoff_longitude    16067 non-null float64\n",
      "dropoff_latitude     16067 non-null float64\n",
      "passenger_count      16012 non-null float64\n",
      "dtypes: datetime64[ns, UTC](1), float64(6)\n",
      "memory usage: 878.8 KB\n"
     ]
    }
   ],
   "source": [
    "train.info()"
   ]
  },
  {
   "cell_type": "code",
   "execution_count": 18,
   "metadata": {},
   "outputs": [
    {
     "name": "stdout",
     "output_type": "stream",
     "text": [
      "<class 'pandas.core.frame.DataFrame'>\n",
      "RangeIndex: 9914 entries, 0 to 9913\n",
      "Data columns (total 6 columns):\n",
      "pickup_datetime      9914 non-null datetime64[ns, UTC]\n",
      "pickup_longitude     9914 non-null float64\n",
      "pickup_latitude      9914 non-null float64\n",
      "dropoff_longitude    9914 non-null float64\n",
      "dropoff_latitude     9914 non-null float64\n",
      "passenger_count      9914 non-null int64\n",
      "dtypes: datetime64[ns, UTC](1), float64(4), int64(1)\n",
      "memory usage: 464.8 KB\n"
     ]
    }
   ],
   "source": [
    "test.info()"
   ]
  },
  {
   "cell_type": "code",
   "execution_count": 19,
   "metadata": {},
   "outputs": [],
   "source": [
    "########################### data pre-processing ################"
   ]
  },
  {
   "cell_type": "code",
   "execution_count": 20,
   "metadata": {},
   "outputs": [],
   "source": [
    "####################### 1. exploratory data analysis ##############"
   ]
  },
  {
   "cell_type": "code",
   "execution_count": 21,
   "metadata": {},
   "outputs": [
    {
     "data": {
      "text/plain": [
       "5"
      ]
     },
     "execution_count": 21,
     "metadata": {},
     "output_type": "execute_result"
    }
   ],
   "source": [
    "#1. fare_amount variable\n",
    "#Remove all 0 and negative values\n",
    "sum(train['fare_amount']<1)"
   ]
  },
  {
   "cell_type": "code",
   "execution_count": 22,
   "metadata": {},
   "outputs": [
    {
     "data": {
      "text/html": [
       "<div>\n",
       "<style scoped>\n",
       "    .dataframe tbody tr th:only-of-type {\n",
       "        vertical-align: middle;\n",
       "    }\n",
       "\n",
       "    .dataframe tbody tr th {\n",
       "        vertical-align: top;\n",
       "    }\n",
       "\n",
       "    .dataframe thead th {\n",
       "        text-align: right;\n",
       "    }\n",
       "</style>\n",
       "<table border=\"1\" class=\"dataframe\">\n",
       "  <thead>\n",
       "    <tr style=\"text-align: right;\">\n",
       "      <th></th>\n",
       "      <th>fare_amount</th>\n",
       "      <th>pickup_datetime</th>\n",
       "      <th>pickup_longitude</th>\n",
       "      <th>pickup_latitude</th>\n",
       "      <th>dropoff_longitude</th>\n",
       "      <th>dropoff_latitude</th>\n",
       "      <th>passenger_count</th>\n",
       "    </tr>\n",
       "  </thead>\n",
       "  <tbody>\n",
       "    <tr>\n",
       "      <td>2039</td>\n",
       "      <td>-2.90</td>\n",
       "      <td>2010-03-09 23:37:10+00:00</td>\n",
       "      <td>-73.789450</td>\n",
       "      <td>40.643498</td>\n",
       "      <td>-73.788665</td>\n",
       "      <td>40.641952</td>\n",
       "      <td>1.0</td>\n",
       "    </tr>\n",
       "    <tr>\n",
       "      <td>2486</td>\n",
       "      <td>-2.50</td>\n",
       "      <td>2015-03-22 05:14:27+00:00</td>\n",
       "      <td>-74.000031</td>\n",
       "      <td>40.720631</td>\n",
       "      <td>-73.999809</td>\n",
       "      <td>40.720539</td>\n",
       "      <td>1.0</td>\n",
       "    </tr>\n",
       "    <tr>\n",
       "      <td>2780</td>\n",
       "      <td>0.01</td>\n",
       "      <td>2015-05-01 15:38:41+00:00</td>\n",
       "      <td>-73.939041</td>\n",
       "      <td>40.713963</td>\n",
       "      <td>-73.941673</td>\n",
       "      <td>40.713997</td>\n",
       "      <td>1.0</td>\n",
       "    </tr>\n",
       "    <tr>\n",
       "      <td>10002</td>\n",
       "      <td>0.00</td>\n",
       "      <td>2010-02-15 14:26:01+00:00</td>\n",
       "      <td>-73.987115</td>\n",
       "      <td>40.738808</td>\n",
       "      <td>-74.005911</td>\n",
       "      <td>40.713960</td>\n",
       "      <td>1.0</td>\n",
       "    </tr>\n",
       "    <tr>\n",
       "      <td>13032</td>\n",
       "      <td>-3.00</td>\n",
       "      <td>2013-08-30 08:57:10+00:00</td>\n",
       "      <td>-73.995062</td>\n",
       "      <td>40.740755</td>\n",
       "      <td>-73.995885</td>\n",
       "      <td>40.741357</td>\n",
       "      <td>4.0</td>\n",
       "    </tr>\n",
       "  </tbody>\n",
       "</table>\n",
       "</div>"
      ],
      "text/plain": [
       "       fare_amount           pickup_datetime  pickup_longitude  \\\n",
       "2039         -2.90 2010-03-09 23:37:10+00:00        -73.789450   \n",
       "2486         -2.50 2015-03-22 05:14:27+00:00        -74.000031   \n",
       "2780          0.01 2015-05-01 15:38:41+00:00        -73.939041   \n",
       "10002         0.00 2010-02-15 14:26:01+00:00        -73.987115   \n",
       "13032        -3.00 2013-08-30 08:57:10+00:00        -73.995062   \n",
       "\n",
       "       pickup_latitude  dropoff_longitude  dropoff_latitude  passenger_count  \n",
       "2039         40.643498         -73.788665         40.641952              1.0  \n",
       "2486         40.720631         -73.999809         40.720539              1.0  \n",
       "2780         40.713963         -73.941673         40.713997              1.0  \n",
       "10002        40.738808         -74.005911         40.713960              1.0  \n",
       "13032        40.740755         -73.995885         40.741357              4.0  "
      ]
     },
     "execution_count": 22,
     "metadata": {},
     "output_type": "execute_result"
    }
   ],
   "source": [
    "train[train['fare_amount']<1]"
   ]
  },
  {
   "cell_type": "code",
   "execution_count": 23,
   "metadata": {},
   "outputs": [],
   "source": [
    "train = train.drop(train[train['fare_amount']<1].index, axis=0)"
   ]
  },
  {
   "cell_type": "code",
   "execution_count": 24,
   "metadata": {},
   "outputs": [
    {
     "data": {
      "text/html": [
       "<div>\n",
       "<style scoped>\n",
       "    .dataframe tbody tr th:only-of-type {\n",
       "        vertical-align: middle;\n",
       "    }\n",
       "\n",
       "    .dataframe tbody tr th {\n",
       "        vertical-align: top;\n",
       "    }\n",
       "\n",
       "    .dataframe thead th {\n",
       "        text-align: right;\n",
       "    }\n",
       "</style>\n",
       "<table border=\"1\" class=\"dataframe\">\n",
       "  <thead>\n",
       "    <tr style=\"text-align: right;\">\n",
       "      <th></th>\n",
       "      <th>fare_amount</th>\n",
       "      <th>pickup_datetime</th>\n",
       "      <th>pickup_longitude</th>\n",
       "      <th>pickup_latitude</th>\n",
       "      <th>dropoff_longitude</th>\n",
       "      <th>dropoff_latitude</th>\n",
       "      <th>passenger_count</th>\n",
       "    </tr>\n",
       "  </thead>\n",
       "  <tbody>\n",
       "  </tbody>\n",
       "</table>\n",
       "</div>"
      ],
      "text/plain": [
       "Empty DataFrame\n",
       "Columns: [fare_amount, pickup_datetime, pickup_longitude, pickup_latitude, dropoff_longitude, dropoff_latitude, passenger_count]\n",
       "Index: []"
      ]
     },
     "execution_count": 24,
     "metadata": {},
     "output_type": "execute_result"
    }
   ],
   "source": [
    "train[train['fare_amount']<1]"
   ]
  },
  {
   "cell_type": "code",
   "execution_count": 25,
   "metadata": {},
   "outputs": [
    {
     "data": {
      "text/plain": [
       "20"
      ]
     },
     "execution_count": 25,
     "metadata": {},
     "output_type": "execute_result"
    }
   ],
   "source": [
    "#2.Passenger_count variable\n",
    "#It shouldn't exceed more than 6 passengers\n",
    "sum(train['passenger_count']>6)"
   ]
  },
  {
   "cell_type": "code",
   "execution_count": 26,
   "metadata": {},
   "outputs": [
    {
     "data": {
      "text/html": [
       "<div>\n",
       "<style scoped>\n",
       "    .dataframe tbody tr th:only-of-type {\n",
       "        vertical-align: middle;\n",
       "    }\n",
       "\n",
       "    .dataframe tbody tr th {\n",
       "        vertical-align: top;\n",
       "    }\n",
       "\n",
       "    .dataframe thead th {\n",
       "        text-align: right;\n",
       "    }\n",
       "</style>\n",
       "<table border=\"1\" class=\"dataframe\">\n",
       "  <thead>\n",
       "    <tr style=\"text-align: right;\">\n",
       "      <th></th>\n",
       "      <th>fare_amount</th>\n",
       "      <th>pickup_datetime</th>\n",
       "      <th>pickup_longitude</th>\n",
       "      <th>pickup_latitude</th>\n",
       "      <th>dropoff_longitude</th>\n",
       "      <th>dropoff_latitude</th>\n",
       "      <th>passenger_count</th>\n",
       "    </tr>\n",
       "  </thead>\n",
       "  <tbody>\n",
       "    <tr>\n",
       "      <td>233</td>\n",
       "      <td>8.5</td>\n",
       "      <td>2011-07-24 01:14:35+00:00</td>\n",
       "      <td>0.000000</td>\n",
       "      <td>0.000000</td>\n",
       "      <td>0.000000</td>\n",
       "      <td>0.000000</td>\n",
       "      <td>236.0</td>\n",
       "    </tr>\n",
       "    <tr>\n",
       "      <td>263</td>\n",
       "      <td>4.9</td>\n",
       "      <td>2010-07-12 09:44:33+00:00</td>\n",
       "      <td>-73.983249</td>\n",
       "      <td>40.734655</td>\n",
       "      <td>-73.991278</td>\n",
       "      <td>40.738918</td>\n",
       "      <td>456.0</td>\n",
       "    </tr>\n",
       "    <tr>\n",
       "      <td>293</td>\n",
       "      <td>6.1</td>\n",
       "      <td>2011-01-18 23:48:00+00:00</td>\n",
       "      <td>-74.006642</td>\n",
       "      <td>40.738927</td>\n",
       "      <td>-74.010828</td>\n",
       "      <td>40.717907</td>\n",
       "      <td>5334.0</td>\n",
       "    </tr>\n",
       "    <tr>\n",
       "      <td>356</td>\n",
       "      <td>8.5</td>\n",
       "      <td>2013-06-18 10:27:05+00:00</td>\n",
       "      <td>-73.992108</td>\n",
       "      <td>40.764203</td>\n",
       "      <td>-73.973000</td>\n",
       "      <td>40.762695</td>\n",
       "      <td>535.0</td>\n",
       "    </tr>\n",
       "    <tr>\n",
       "      <td>386</td>\n",
       "      <td>8.1</td>\n",
       "      <td>2009-08-21 19:35:05+00:00</td>\n",
       "      <td>-73.960853</td>\n",
       "      <td>40.761557</td>\n",
       "      <td>-73.976335</td>\n",
       "      <td>40.748361</td>\n",
       "      <td>354.0</td>\n",
       "    </tr>\n",
       "    <tr>\n",
       "      <td>413</td>\n",
       "      <td>NaN</td>\n",
       "      <td>2013-09-12 11:32:00+00:00</td>\n",
       "      <td>-73.982060</td>\n",
       "      <td>40.772705</td>\n",
       "      <td>-73.956213</td>\n",
       "      <td>40.771777</td>\n",
       "      <td>55.0</td>\n",
       "    </tr>\n",
       "    <tr>\n",
       "      <td>971</td>\n",
       "      <td>10.1</td>\n",
       "      <td>2010-11-21 01:41:00+00:00</td>\n",
       "      <td>-74.004500</td>\n",
       "      <td>40.742143</td>\n",
       "      <td>-73.994330</td>\n",
       "      <td>40.720412</td>\n",
       "      <td>554.0</td>\n",
       "    </tr>\n",
       "    <tr>\n",
       "      <td>1007</td>\n",
       "      <td>3.7</td>\n",
       "      <td>2010-12-14 14:46:00+00:00</td>\n",
       "      <td>-73.969157</td>\n",
       "      <td>40.759000</td>\n",
       "      <td>-73.968763</td>\n",
       "      <td>40.764617</td>\n",
       "      <td>53.0</td>\n",
       "    </tr>\n",
       "    <tr>\n",
       "      <td>1043</td>\n",
       "      <td>5.7</td>\n",
       "      <td>2012-08-22 22:08:29+00:00</td>\n",
       "      <td>-73.973573</td>\n",
       "      <td>40.760184</td>\n",
       "      <td>-73.953564</td>\n",
       "      <td>40.767392</td>\n",
       "      <td>35.0</td>\n",
       "    </tr>\n",
       "    <tr>\n",
       "      <td>1107</td>\n",
       "      <td>4.9</td>\n",
       "      <td>2009-08-08 21:50:50+00:00</td>\n",
       "      <td>-73.988977</td>\n",
       "      <td>40.721068</td>\n",
       "      <td>-73.982368</td>\n",
       "      <td>40.732064</td>\n",
       "      <td>345.0</td>\n",
       "    </tr>\n",
       "    <tr>\n",
       "      <td>1146</td>\n",
       "      <td>8.0</td>\n",
       "      <td>2014-03-27 08:05:01+00:00</td>\n",
       "      <td>-73.991098</td>\n",
       "      <td>40.770655</td>\n",
       "      <td>-73.976933</td>\n",
       "      <td>40.790070</td>\n",
       "      <td>5345.0</td>\n",
       "    </tr>\n",
       "    <tr>\n",
       "      <td>1200</td>\n",
       "      <td>9.7</td>\n",
       "      <td>2011-08-16 09:29:00+00:00</td>\n",
       "      <td>-73.980487</td>\n",
       "      <td>40.741610</td>\n",
       "      <td>-73.980617</td>\n",
       "      <td>40.746868</td>\n",
       "      <td>536.0</td>\n",
       "    </tr>\n",
       "    <tr>\n",
       "      <td>1242</td>\n",
       "      <td>5.3</td>\n",
       "      <td>2011-10-16 00:22:00+00:00</td>\n",
       "      <td>-73.981095</td>\n",
       "      <td>40.738160</td>\n",
       "      <td>-73.990587</td>\n",
       "      <td>40.740105</td>\n",
       "      <td>43.0</td>\n",
       "    </tr>\n",
       "    <tr>\n",
       "      <td>8406</td>\n",
       "      <td>6.9</td>\n",
       "      <td>2010-08-25 11:41:00+00:00</td>\n",
       "      <td>0.000000</td>\n",
       "      <td>0.000000</td>\n",
       "      <td>0.000000</td>\n",
       "      <td>0.000000</td>\n",
       "      <td>53.0</td>\n",
       "    </tr>\n",
       "    <tr>\n",
       "      <td>8445</td>\n",
       "      <td>5.7</td>\n",
       "      <td>2009-03-28 22:00:00+00:00</td>\n",
       "      <td>-73.982413</td>\n",
       "      <td>40.751320</td>\n",
       "      <td>-73.971292</td>\n",
       "      <td>40.748502</td>\n",
       "      <td>58.0</td>\n",
       "    </tr>\n",
       "    <tr>\n",
       "      <td>8506</td>\n",
       "      <td>11.3</td>\n",
       "      <td>2010-05-23 20:06:37+00:00</td>\n",
       "      <td>-73.985424</td>\n",
       "      <td>40.738468</td>\n",
       "      <td>-74.001698</td>\n",
       "      <td>40.707758</td>\n",
       "      <td>537.0</td>\n",
       "    </tr>\n",
       "    <tr>\n",
       "      <td>8571</td>\n",
       "      <td>12.5</td>\n",
       "      <td>2011-12-03 03:21:00+00:00</td>\n",
       "      <td>-73.993718</td>\n",
       "      <td>40.762039</td>\n",
       "      <td>-73.977527</td>\n",
       "      <td>40.734024</td>\n",
       "      <td>87.0</td>\n",
       "    </tr>\n",
       "    <tr>\n",
       "      <td>8631</td>\n",
       "      <td>20.0</td>\n",
       "      <td>2012-12-10 22:28:00+00:00</td>\n",
       "      <td>-73.955445</td>\n",
       "      <td>40.670232</td>\n",
       "      <td>-74.004795</td>\n",
       "      <td>40.731477</td>\n",
       "      <td>43.0</td>\n",
       "    </tr>\n",
       "    <tr>\n",
       "      <td>8715</td>\n",
       "      <td>4.5</td>\n",
       "      <td>2009-09-04 09:14:03+00:00</td>\n",
       "      <td>-73.977518</td>\n",
       "      <td>40.758480</td>\n",
       "      <td>-73.983252</td>\n",
       "      <td>40.749837</td>\n",
       "      <td>531.2</td>\n",
       "    </tr>\n",
       "    <tr>\n",
       "      <td>8985</td>\n",
       "      <td>8.5</td>\n",
       "      <td>2015-01-14 15:10:21+00:00</td>\n",
       "      <td>-73.955444</td>\n",
       "      <td>40.787605</td>\n",
       "      <td>-73.965561</td>\n",
       "      <td>40.798691</td>\n",
       "      <td>557.0</td>\n",
       "    </tr>\n",
       "  </tbody>\n",
       "</table>\n",
       "</div>"
      ],
      "text/plain": [
       "      fare_amount           pickup_datetime  pickup_longitude  \\\n",
       "233           8.5 2011-07-24 01:14:35+00:00          0.000000   \n",
       "263           4.9 2010-07-12 09:44:33+00:00        -73.983249   \n",
       "293           6.1 2011-01-18 23:48:00+00:00        -74.006642   \n",
       "356           8.5 2013-06-18 10:27:05+00:00        -73.992108   \n",
       "386           8.1 2009-08-21 19:35:05+00:00        -73.960853   \n",
       "413           NaN 2013-09-12 11:32:00+00:00        -73.982060   \n",
       "971          10.1 2010-11-21 01:41:00+00:00        -74.004500   \n",
       "1007          3.7 2010-12-14 14:46:00+00:00        -73.969157   \n",
       "1043          5.7 2012-08-22 22:08:29+00:00        -73.973573   \n",
       "1107          4.9 2009-08-08 21:50:50+00:00        -73.988977   \n",
       "1146          8.0 2014-03-27 08:05:01+00:00        -73.991098   \n",
       "1200          9.7 2011-08-16 09:29:00+00:00        -73.980487   \n",
       "1242          5.3 2011-10-16 00:22:00+00:00        -73.981095   \n",
       "8406          6.9 2010-08-25 11:41:00+00:00          0.000000   \n",
       "8445          5.7 2009-03-28 22:00:00+00:00        -73.982413   \n",
       "8506         11.3 2010-05-23 20:06:37+00:00        -73.985424   \n",
       "8571         12.5 2011-12-03 03:21:00+00:00        -73.993718   \n",
       "8631         20.0 2012-12-10 22:28:00+00:00        -73.955445   \n",
       "8715          4.5 2009-09-04 09:14:03+00:00        -73.977518   \n",
       "8985          8.5 2015-01-14 15:10:21+00:00        -73.955444   \n",
       "\n",
       "      pickup_latitude  dropoff_longitude  dropoff_latitude  passenger_count  \n",
       "233          0.000000           0.000000          0.000000            236.0  \n",
       "263         40.734655         -73.991278         40.738918            456.0  \n",
       "293         40.738927         -74.010828         40.717907           5334.0  \n",
       "356         40.764203         -73.973000         40.762695            535.0  \n",
       "386         40.761557         -73.976335         40.748361            354.0  \n",
       "413         40.772705         -73.956213         40.771777             55.0  \n",
       "971         40.742143         -73.994330         40.720412            554.0  \n",
       "1007        40.759000         -73.968763         40.764617             53.0  \n",
       "1043        40.760184         -73.953564         40.767392             35.0  \n",
       "1107        40.721068         -73.982368         40.732064            345.0  \n",
       "1146        40.770655         -73.976933         40.790070           5345.0  \n",
       "1200        40.741610         -73.980617         40.746868            536.0  \n",
       "1242        40.738160         -73.990587         40.740105             43.0  \n",
       "8406         0.000000           0.000000          0.000000             53.0  \n",
       "8445        40.751320         -73.971292         40.748502             58.0  \n",
       "8506        40.738468         -74.001698         40.707758            537.0  \n",
       "8571        40.762039         -73.977527         40.734024             87.0  \n",
       "8631        40.670232         -74.004795         40.731477             43.0  \n",
       "8715        40.758480         -73.983252         40.749837            531.2  \n",
       "8985        40.787605         -73.965561         40.798691            557.0  "
      ]
     },
     "execution_count": 26,
     "metadata": {},
     "output_type": "execute_result"
    }
   ],
   "source": [
    "train[train['passenger_count']>6]"
   ]
  },
  {
   "cell_type": "code",
   "execution_count": 27,
   "metadata": {},
   "outputs": [],
   "source": [
    "train = train.drop(train[train['passenger_count']>6].index, axis=0)"
   ]
  },
  {
   "cell_type": "code",
   "execution_count": 28,
   "metadata": {},
   "outputs": [
    {
     "data": {
      "text/html": [
       "<div>\n",
       "<style scoped>\n",
       "    .dataframe tbody tr th:only-of-type {\n",
       "        vertical-align: middle;\n",
       "    }\n",
       "\n",
       "    .dataframe tbody tr th {\n",
       "        vertical-align: top;\n",
       "    }\n",
       "\n",
       "    .dataframe thead th {\n",
       "        text-align: right;\n",
       "    }\n",
       "</style>\n",
       "<table border=\"1\" class=\"dataframe\">\n",
       "  <thead>\n",
       "    <tr style=\"text-align: right;\">\n",
       "      <th></th>\n",
       "      <th>fare_amount</th>\n",
       "      <th>pickup_datetime</th>\n",
       "      <th>pickup_longitude</th>\n",
       "      <th>pickup_latitude</th>\n",
       "      <th>dropoff_longitude</th>\n",
       "      <th>dropoff_latitude</th>\n",
       "      <th>passenger_count</th>\n",
       "    </tr>\n",
       "  </thead>\n",
       "  <tbody>\n",
       "  </tbody>\n",
       "</table>\n",
       "</div>"
      ],
      "text/plain": [
       "Empty DataFrame\n",
       "Columns: [fare_amount, pickup_datetime, pickup_longitude, pickup_latitude, dropoff_longitude, dropoff_latitude, passenger_count]\n",
       "Index: []"
      ]
     },
     "execution_count": 28,
     "metadata": {},
     "output_type": "execute_result"
    }
   ],
   "source": [
    "train[train['passenger_count']>6]"
   ]
  },
  {
   "cell_type": "code",
   "execution_count": 29,
   "metadata": {},
   "outputs": [
    {
     "data": {
      "text/plain": [
       "58"
      ]
     },
     "execution_count": 29,
     "metadata": {},
     "output_type": "execute_result"
    }
   ],
   "source": [
    "#It shouldn't be less than 1 passenger\n",
    "sum(train['passenger_count']<1)"
   ]
  },
  {
   "cell_type": "code",
   "execution_count": 30,
   "metadata": {},
   "outputs": [
    {
     "data": {
      "text/html": [
       "<div>\n",
       "<style scoped>\n",
       "    .dataframe tbody tr th:only-of-type {\n",
       "        vertical-align: middle;\n",
       "    }\n",
       "\n",
       "    .dataframe tbody tr th {\n",
       "        vertical-align: top;\n",
       "    }\n",
       "\n",
       "    .dataframe thead th {\n",
       "        text-align: right;\n",
       "    }\n",
       "</style>\n",
       "<table border=\"1\" class=\"dataframe\">\n",
       "  <thead>\n",
       "    <tr style=\"text-align: right;\">\n",
       "      <th></th>\n",
       "      <th>fare_amount</th>\n",
       "      <th>pickup_datetime</th>\n",
       "      <th>pickup_longitude</th>\n",
       "      <th>pickup_latitude</th>\n",
       "      <th>dropoff_longitude</th>\n",
       "      <th>dropoff_latitude</th>\n",
       "      <th>passenger_count</th>\n",
       "    </tr>\n",
       "  </thead>\n",
       "  <tbody>\n",
       "    <tr>\n",
       "      <td>314</td>\n",
       "      <td>34.0</td>\n",
       "      <td>2015-06-02 23:16:15+00:00</td>\n",
       "      <td>-73.974899</td>\n",
       "      <td>40.751095</td>\n",
       "      <td>-73.908546</td>\n",
       "      <td>40.881878</td>\n",
       "      <td>0.00</td>\n",
       "    </tr>\n",
       "    <tr>\n",
       "      <td>566</td>\n",
       "      <td>4.9</td>\n",
       "      <td>2012-01-28 21:33:18+00:00</td>\n",
       "      <td>-73.955322</td>\n",
       "      <td>40.782840</td>\n",
       "      <td>-73.955797</td>\n",
       "      <td>40.773673</td>\n",
       "      <td>0.00</td>\n",
       "    </tr>\n",
       "    <tr>\n",
       "      <td>678</td>\n",
       "      <td>6.5</td>\n",
       "      <td>2012-02-27 07:24:20+00:00</td>\n",
       "      <td>-73.983397</td>\n",
       "      <td>40.738183</td>\n",
       "      <td>-73.971395</td>\n",
       "      <td>40.758023</td>\n",
       "      <td>0.00</td>\n",
       "    </tr>\n",
       "    <tr>\n",
       "      <td>1160</td>\n",
       "      <td>13.3</td>\n",
       "      <td>2011-05-25 23:58:48+00:00</td>\n",
       "      <td>-73.998360</td>\n",
       "      <td>40.740348</td>\n",
       "      <td>-73.946455</td>\n",
       "      <td>40.777348</td>\n",
       "      <td>0.00</td>\n",
       "    </tr>\n",
       "    <tr>\n",
       "      <td>1935</td>\n",
       "      <td>10.1</td>\n",
       "      <td>2011-10-23 11:09:28+00:00</td>\n",
       "      <td>-73.971400</td>\n",
       "      <td>40.795000</td>\n",
       "      <td>-73.967900</td>\n",
       "      <td>40.768600</td>\n",
       "      <td>0.00</td>\n",
       "    </tr>\n",
       "    <tr>\n",
       "      <td>2200</td>\n",
       "      <td>8.1</td>\n",
       "      <td>2011-05-23 16:54:19+00:00</td>\n",
       "      <td>-73.988008</td>\n",
       "      <td>40.748303</td>\n",
       "      <td>-74.005185</td>\n",
       "      <td>40.738733</td>\n",
       "      <td>0.00</td>\n",
       "    </tr>\n",
       "    <tr>\n",
       "      <td>2425</td>\n",
       "      <td>8.9</td>\n",
       "      <td>2011-11-25 22:47:33+00:00</td>\n",
       "      <td>-73.999900</td>\n",
       "      <td>40.738600</td>\n",
       "      <td>-73.971800</td>\n",
       "      <td>40.746300</td>\n",
       "      <td>0.00</td>\n",
       "    </tr>\n",
       "    <tr>\n",
       "      <td>3034</td>\n",
       "      <td>5.7</td>\n",
       "      <td>2011-03-06 12:03:14+00:00</td>\n",
       "      <td>-73.986557</td>\n",
       "      <td>40.745783</td>\n",
       "      <td>-73.994545</td>\n",
       "      <td>40.729995</td>\n",
       "      <td>0.00</td>\n",
       "    </tr>\n",
       "    <tr>\n",
       "      <td>3413</td>\n",
       "      <td>7.3</td>\n",
       "      <td>2011-02-28 06:39:16+00:00</td>\n",
       "      <td>-73.973413</td>\n",
       "      <td>40.743708</td>\n",
       "      <td>-73.985220</td>\n",
       "      <td>40.741583</td>\n",
       "      <td>0.00</td>\n",
       "    </tr>\n",
       "    <tr>\n",
       "      <td>3481</td>\n",
       "      <td>11.3</td>\n",
       "      <td>2011-11-30 17:23:02+00:00</td>\n",
       "      <td>-73.968100</td>\n",
       "      <td>40.762500</td>\n",
       "      <td>-73.984400</td>\n",
       "      <td>40.760900</td>\n",
       "      <td>0.00</td>\n",
       "    </tr>\n",
       "    <tr>\n",
       "      <td>3489</td>\n",
       "      <td>7.3</td>\n",
       "      <td>2011-10-18 08:18:18+00:00</td>\n",
       "      <td>-73.966100</td>\n",
       "      <td>40.794500</td>\n",
       "      <td>-73.960300</td>\n",
       "      <td>40.779800</td>\n",
       "      <td>0.00</td>\n",
       "    </tr>\n",
       "    <tr>\n",
       "      <td>3599</td>\n",
       "      <td>8.9</td>\n",
       "      <td>2011-03-06 18:24:50+00:00</td>\n",
       "      <td>-73.982657</td>\n",
       "      <td>40.746145</td>\n",
       "      <td>-74.005580</td>\n",
       "      <td>40.724402</td>\n",
       "      <td>0.00</td>\n",
       "    </tr>\n",
       "    <tr>\n",
       "      <td>4114</td>\n",
       "      <td>4.5</td>\n",
       "      <td>2011-07-22 05:51:00+00:00</td>\n",
       "      <td>-73.975500</td>\n",
       "      <td>40.760800</td>\n",
       "      <td>-73.990200</td>\n",
       "      <td>40.760000</td>\n",
       "      <td>0.00</td>\n",
       "    </tr>\n",
       "    <tr>\n",
       "      <td>4248</td>\n",
       "      <td>4.1</td>\n",
       "      <td>2012-02-15 11:19:50+00:00</td>\n",
       "      <td>-73.982112</td>\n",
       "      <td>40.721073</td>\n",
       "      <td>-73.992240</td>\n",
       "      <td>40.725313</td>\n",
       "      <td>0.00</td>\n",
       "    </tr>\n",
       "    <tr>\n",
       "      <td>4344</td>\n",
       "      <td>24.9</td>\n",
       "      <td>2011-05-19 13:28:17+00:00</td>\n",
       "      <td>-73.789230</td>\n",
       "      <td>40.646622</td>\n",
       "      <td>-73.725032</td>\n",
       "      <td>40.614140</td>\n",
       "      <td>0.00</td>\n",
       "    </tr>\n",
       "    <tr>\n",
       "      <td>4354</td>\n",
       "      <td>5.3</td>\n",
       "      <td>2012-01-15 12:06:43+00:00</td>\n",
       "      <td>-73.964400</td>\n",
       "      <td>40.767500</td>\n",
       "      <td>-73.981600</td>\n",
       "      <td>40.774000</td>\n",
       "      <td>0.00</td>\n",
       "    </tr>\n",
       "    <tr>\n",
       "      <td>5058</td>\n",
       "      <td>12.9</td>\n",
       "      <td>2011-11-05 18:29:30+00:00</td>\n",
       "      <td>-74.008900</td>\n",
       "      <td>40.709400</td>\n",
       "      <td>-73.985400</td>\n",
       "      <td>40.756200</td>\n",
       "      <td>0.00</td>\n",
       "    </tr>\n",
       "    <tr>\n",
       "      <td>5150</td>\n",
       "      <td>7.7</td>\n",
       "      <td>2011-11-07 22:07:24+00:00</td>\n",
       "      <td>-73.984900</td>\n",
       "      <td>40.675300</td>\n",
       "      <td>-74.010400</td>\n",
       "      <td>40.655200</td>\n",
       "      <td>0.00</td>\n",
       "    </tr>\n",
       "    <tr>\n",
       "      <td>5161</td>\n",
       "      <td>11.3</td>\n",
       "      <td>2011-12-20 06:59:57+00:00</td>\n",
       "      <td>-73.983700</td>\n",
       "      <td>40.775800</td>\n",
       "      <td>-73.985300</td>\n",
       "      <td>40.741300</td>\n",
       "      <td>0.00</td>\n",
       "    </tr>\n",
       "    <tr>\n",
       "      <td>5277</td>\n",
       "      <td>6.1</td>\n",
       "      <td>2012-04-12 09:35:22+00:00</td>\n",
       "      <td>-73.967003</td>\n",
       "      <td>40.772417</td>\n",
       "      <td>-73.968860</td>\n",
       "      <td>40.761147</td>\n",
       "      <td>0.00</td>\n",
       "    </tr>\n",
       "    <tr>\n",
       "      <td>5517</td>\n",
       "      <td>3.3</td>\n",
       "      <td>2012-07-02 16:11:55+00:00</td>\n",
       "      <td>-74.007110</td>\n",
       "      <td>40.743862</td>\n",
       "      <td>-74.003337</td>\n",
       "      <td>40.748877</td>\n",
       "      <td>0.00</td>\n",
       "    </tr>\n",
       "    <tr>\n",
       "      <td>5557</td>\n",
       "      <td>27.3</td>\n",
       "      <td>2011-02-08 13:31:18+00:00</td>\n",
       "      <td>-73.873318</td>\n",
       "      <td>40.773948</td>\n",
       "      <td>-74.010205</td>\n",
       "      <td>40.711158</td>\n",
       "      <td>0.00</td>\n",
       "    </tr>\n",
       "    <tr>\n",
       "      <td>5688</td>\n",
       "      <td>4.9</td>\n",
       "      <td>2011-09-07 21:50:40+00:00</td>\n",
       "      <td>-73.986700</td>\n",
       "      <td>40.761300</td>\n",
       "      <td>-73.982300</td>\n",
       "      <td>40.773900</td>\n",
       "      <td>0.00</td>\n",
       "    </tr>\n",
       "    <tr>\n",
       "      <td>5914</td>\n",
       "      <td>8.5</td>\n",
       "      <td>2011-12-19 22:44:42+00:00</td>\n",
       "      <td>-73.982000</td>\n",
       "      <td>40.755900</td>\n",
       "      <td>-73.955600</td>\n",
       "      <td>40.769600</td>\n",
       "      <td>0.00</td>\n",
       "    </tr>\n",
       "    <tr>\n",
       "      <td>6036</td>\n",
       "      <td>7.7</td>\n",
       "      <td>2011-02-26 12:41:03+00:00</td>\n",
       "      <td>-73.976715</td>\n",
       "      <td>40.775708</td>\n",
       "      <td>-73.972785</td>\n",
       "      <td>40.764467</td>\n",
       "      <td>0.00</td>\n",
       "    </tr>\n",
       "    <tr>\n",
       "      <td>6575</td>\n",
       "      <td>4.5</td>\n",
       "      <td>2012-04-19 19:44:48+00:00</td>\n",
       "      <td>-73.964598</td>\n",
       "      <td>40.807213</td>\n",
       "      <td>-73.970875</td>\n",
       "      <td>40.797955</td>\n",
       "      <td>0.00</td>\n",
       "    </tr>\n",
       "    <tr>\n",
       "      <td>6713</td>\n",
       "      <td>10.5</td>\n",
       "      <td>2012-03-06 15:35:37+00:00</td>\n",
       "      <td>-73.965115</td>\n",
       "      <td>40.766463</td>\n",
       "      <td>-73.997523</td>\n",
       "      <td>40.744878</td>\n",
       "      <td>0.00</td>\n",
       "    </tr>\n",
       "    <tr>\n",
       "      <td>6881</td>\n",
       "      <td>5.7</td>\n",
       "      <td>2011-06-14 10:12:16+00:00</td>\n",
       "      <td>-73.959000</td>\n",
       "      <td>40.781000</td>\n",
       "      <td>-73.950300</td>\n",
       "      <td>40.775400</td>\n",
       "      <td>0.00</td>\n",
       "    </tr>\n",
       "    <tr>\n",
       "      <td>7279</td>\n",
       "      <td>10.9</td>\n",
       "      <td>2012-04-18 18:44:15+00:00</td>\n",
       "      <td>-73.982930</td>\n",
       "      <td>40.722645</td>\n",
       "      <td>-73.971108</td>\n",
       "      <td>40.760172</td>\n",
       "      <td>0.00</td>\n",
       "    </tr>\n",
       "    <tr>\n",
       "      <td>7520</td>\n",
       "      <td>6.9</td>\n",
       "      <td>2011-06-08 13:11:10+00:00</td>\n",
       "      <td>-73.975100</td>\n",
       "      <td>40.755200</td>\n",
       "      <td>-73.980000</td>\n",
       "      <td>40.765900</td>\n",
       "      <td>0.00</td>\n",
       "    </tr>\n",
       "    <tr>\n",
       "      <td>7640</td>\n",
       "      <td>10.9</td>\n",
       "      <td>2012-01-21 16:17:50+00:00</td>\n",
       "      <td>-73.999505</td>\n",
       "      <td>40.725002</td>\n",
       "      <td>-73.973262</td>\n",
       "      <td>40.763290</td>\n",
       "      <td>0.00</td>\n",
       "    </tr>\n",
       "    <tr>\n",
       "      <td>7909</td>\n",
       "      <td>6.9</td>\n",
       "      <td>2011-03-12 17:03:23+00:00</td>\n",
       "      <td>-73.974793</td>\n",
       "      <td>40.759865</td>\n",
       "      <td>-73.955718</td>\n",
       "      <td>40.772732</td>\n",
       "      <td>0.00</td>\n",
       "    </tr>\n",
       "    <tr>\n",
       "      <td>8321</td>\n",
       "      <td>7.3</td>\n",
       "      <td>2012-02-25 19:19:41+00:00</td>\n",
       "      <td>-74.003725</td>\n",
       "      <td>40.742108</td>\n",
       "      <td>-73.988270</td>\n",
       "      <td>40.759308</td>\n",
       "      <td>0.00</td>\n",
       "    </tr>\n",
       "    <tr>\n",
       "      <td>8661</td>\n",
       "      <td>8.1</td>\n",
       "      <td>2012-01-13 13:47:57+00:00</td>\n",
       "      <td>-73.999700</td>\n",
       "      <td>40.721800</td>\n",
       "      <td>-74.005600</td>\n",
       "      <td>40.741100</td>\n",
       "      <td>0.00</td>\n",
       "    </tr>\n",
       "    <tr>\n",
       "      <td>8862</td>\n",
       "      <td>11.5</td>\n",
       "      <td>2013-05-17 07:15:00+00:00</td>\n",
       "      <td>-73.969835</td>\n",
       "      <td>40.753017</td>\n",
       "      <td>-73.998580</td>\n",
       "      <td>40.712927</td>\n",
       "      <td>0.12</td>\n",
       "    </tr>\n",
       "    <tr>\n",
       "      <td>8916</td>\n",
       "      <td>2.5</td>\n",
       "      <td>2011-09-13 18:45:31+00:00</td>\n",
       "      <td>-73.783300</td>\n",
       "      <td>40.648600</td>\n",
       "      <td>-73.783300</td>\n",
       "      <td>40.648600</td>\n",
       "      <td>0.00</td>\n",
       "    </tr>\n",
       "    <tr>\n",
       "      <td>8971</td>\n",
       "      <td>7.7</td>\n",
       "      <td>2011-10-22 20:50:34+00:00</td>\n",
       "      <td>-73.998600</td>\n",
       "      <td>40.761000</td>\n",
       "      <td>-73.977900</td>\n",
       "      <td>40.777200</td>\n",
       "      <td>0.00</td>\n",
       "    </tr>\n",
       "    <tr>\n",
       "      <td>9159</td>\n",
       "      <td>3.3</td>\n",
       "      <td>2011-06-04 10:38:47+00:00</td>\n",
       "      <td>-73.987300</td>\n",
       "      <td>40.729200</td>\n",
       "      <td>-73.994000</td>\n",
       "      <td>40.732100</td>\n",
       "      <td>0.00</td>\n",
       "    </tr>\n",
       "    <tr>\n",
       "      <td>9965</td>\n",
       "      <td>9.3</td>\n",
       "      <td>2012-01-04 22:04:14+00:00</td>\n",
       "      <td>-73.971000</td>\n",
       "      <td>40.754900</td>\n",
       "      <td>-74.004500</td>\n",
       "      <td>40.736100</td>\n",
       "      <td>0.00</td>\n",
       "    </tr>\n",
       "    <tr>\n",
       "      <td>10642</td>\n",
       "      <td>10.1</td>\n",
       "      <td>2012-03-10 18:21:16+00:00</td>\n",
       "      <td>-73.972272</td>\n",
       "      <td>40.754037</td>\n",
       "      <td>-73.994090</td>\n",
       "      <td>40.734440</td>\n",
       "      <td>0.00</td>\n",
       "    </tr>\n",
       "    <tr>\n",
       "      <td>10663</td>\n",
       "      <td>18.1</td>\n",
       "      <td>2011-05-06 13:38:48+00:00</td>\n",
       "      <td>-73.973818</td>\n",
       "      <td>40.789362</td>\n",
       "      <td>-73.942252</td>\n",
       "      <td>40.754120</td>\n",
       "      <td>0.00</td>\n",
       "    </tr>\n",
       "    <tr>\n",
       "      <td>10711</td>\n",
       "      <td>6.5</td>\n",
       "      <td>2012-03-31 20:16:01+00:00</td>\n",
       "      <td>-74.004323</td>\n",
       "      <td>40.724073</td>\n",
       "      <td>-74.006453</td>\n",
       "      <td>40.738420</td>\n",
       "      <td>0.00</td>\n",
       "    </tr>\n",
       "    <tr>\n",
       "      <td>11462</td>\n",
       "      <td>15.7</td>\n",
       "      <td>2011-10-20 23:09:45+00:00</td>\n",
       "      <td>-73.994800</td>\n",
       "      <td>40.750400</td>\n",
       "      <td>-73.959200</td>\n",
       "      <td>40.710600</td>\n",
       "      <td>0.00</td>\n",
       "    </tr>\n",
       "    <tr>\n",
       "      <td>11803</td>\n",
       "      <td>12.1</td>\n",
       "      <td>2011-06-21 08:58:36+00:00</td>\n",
       "      <td>-73.999000</td>\n",
       "      <td>40.724800</td>\n",
       "      <td>-73.980600</td>\n",
       "      <td>40.754900</td>\n",
       "      <td>0.00</td>\n",
       "    </tr>\n",
       "    <tr>\n",
       "      <td>12216</td>\n",
       "      <td>5.7</td>\n",
       "      <td>2012-03-27 16:06:09+00:00</td>\n",
       "      <td>-73.982017</td>\n",
       "      <td>40.756338</td>\n",
       "      <td>-73.980987</td>\n",
       "      <td>40.745442</td>\n",
       "      <td>0.00</td>\n",
       "    </tr>\n",
       "    <tr>\n",
       "      <td>12611</td>\n",
       "      <td>8.1</td>\n",
       "      <td>2011-07-22 23:13:58+00:00</td>\n",
       "      <td>-73.978000</td>\n",
       "      <td>40.752300</td>\n",
       "      <td>-73.991800</td>\n",
       "      <td>40.763900</td>\n",
       "      <td>0.00</td>\n",
       "    </tr>\n",
       "    <tr>\n",
       "      <td>13029</td>\n",
       "      <td>4.5</td>\n",
       "      <td>2012-02-01 21:18:24+00:00</td>\n",
       "      <td>-73.982117</td>\n",
       "      <td>40.770408</td>\n",
       "      <td>-73.980057</td>\n",
       "      <td>40.762155</td>\n",
       "      <td>0.00</td>\n",
       "    </tr>\n",
       "    <tr>\n",
       "      <td>13227</td>\n",
       "      <td>10.9</td>\n",
       "      <td>2011-04-22 18:13:12+00:00</td>\n",
       "      <td>-73.999512</td>\n",
       "      <td>40.722078</td>\n",
       "      <td>-73.989495</td>\n",
       "      <td>40.747422</td>\n",
       "      <td>0.00</td>\n",
       "    </tr>\n",
       "    <tr>\n",
       "      <td>13379</td>\n",
       "      <td>7.3</td>\n",
       "      <td>2012-03-14 07:20:10+00:00</td>\n",
       "      <td>-73.964512</td>\n",
       "      <td>40.771577</td>\n",
       "      <td>-73.945595</td>\n",
       "      <td>40.778032</td>\n",
       "      <td>0.00</td>\n",
       "    </tr>\n",
       "    <tr>\n",
       "      <td>13714</td>\n",
       "      <td>4.1</td>\n",
       "      <td>2011-12-15 07:05:33+00:00</td>\n",
       "      <td>-73.979400</td>\n",
       "      <td>40.731100</td>\n",
       "      <td>-73.981500</td>\n",
       "      <td>40.724800</td>\n",
       "      <td>0.00</td>\n",
       "    </tr>\n",
       "    <tr>\n",
       "      <td>13742</td>\n",
       "      <td>21.7</td>\n",
       "      <td>2011-04-29 12:51:14+00:00</td>\n",
       "      <td>-74.009472</td>\n",
       "      <td>40.702140</td>\n",
       "      <td>-73.959185</td>\n",
       "      <td>40.783245</td>\n",
       "      <td>0.00</td>\n",
       "    </tr>\n",
       "    <tr>\n",
       "      <td>14196</td>\n",
       "      <td>8.1</td>\n",
       "      <td>2011-10-06 23:31:04+00:00</td>\n",
       "      <td>-73.999400</td>\n",
       "      <td>40.743800</td>\n",
       "      <td>-73.990400</td>\n",
       "      <td>40.724800</td>\n",
       "      <td>0.00</td>\n",
       "    </tr>\n",
       "    <tr>\n",
       "      <td>14308</td>\n",
       "      <td>8.1</td>\n",
       "      <td>2011-11-11 12:03:38+00:00</td>\n",
       "      <td>0.000000</td>\n",
       "      <td>0.000000</td>\n",
       "      <td>-73.990000</td>\n",
       "      <td>40.755400</td>\n",
       "      <td>0.00</td>\n",
       "    </tr>\n",
       "    <tr>\n",
       "      <td>14872</td>\n",
       "      <td>3.3</td>\n",
       "      <td>2011-03-02 19:25:46+00:00</td>\n",
       "      <td>-73.948553</td>\n",
       "      <td>40.773972</td>\n",
       "      <td>-73.945098</td>\n",
       "      <td>40.778413</td>\n",
       "      <td>0.00</td>\n",
       "    </tr>\n",
       "    <tr>\n",
       "      <td>15286</td>\n",
       "      <td>4.9</td>\n",
       "      <td>2012-03-20 22:23:34+00:00</td>\n",
       "      <td>-73.971808</td>\n",
       "      <td>40.760143</td>\n",
       "      <td>-73.962027</td>\n",
       "      <td>40.767677</td>\n",
       "      <td>0.00</td>\n",
       "    </tr>\n",
       "    <tr>\n",
       "      <td>15514</td>\n",
       "      <td>6.5</td>\n",
       "      <td>2012-02-12 02:03:50+00:00</td>\n",
       "      <td>-73.999342</td>\n",
       "      <td>40.718872</td>\n",
       "      <td>-73.984112</td>\n",
       "      <td>40.725242</td>\n",
       "      <td>0.00</td>\n",
       "    </tr>\n",
       "    <tr>\n",
       "      <td>15554</td>\n",
       "      <td>6.5</td>\n",
       "      <td>2011-08-03 08:31:19+00:00</td>\n",
       "      <td>-73.991700</td>\n",
       "      <td>40.750100</td>\n",
       "      <td>-73.981000</td>\n",
       "      <td>40.750900</td>\n",
       "      <td>0.00</td>\n",
       "    </tr>\n",
       "    <tr>\n",
       "      <td>15919</td>\n",
       "      <td>16.5</td>\n",
       "      <td>2011-10-17 08:58:54+00:00</td>\n",
       "      <td>0.000000</td>\n",
       "      <td>0.000000</td>\n",
       "      <td>-73.999700</td>\n",
       "      <td>40.734500</td>\n",
       "      <td>0.00</td>\n",
       "    </tr>\n",
       "  </tbody>\n",
       "</table>\n",
       "</div>"
      ],
      "text/plain": [
       "       fare_amount           pickup_datetime  pickup_longitude  \\\n",
       "314           34.0 2015-06-02 23:16:15+00:00        -73.974899   \n",
       "566            4.9 2012-01-28 21:33:18+00:00        -73.955322   \n",
       "678            6.5 2012-02-27 07:24:20+00:00        -73.983397   \n",
       "1160          13.3 2011-05-25 23:58:48+00:00        -73.998360   \n",
       "1935          10.1 2011-10-23 11:09:28+00:00        -73.971400   \n",
       "2200           8.1 2011-05-23 16:54:19+00:00        -73.988008   \n",
       "2425           8.9 2011-11-25 22:47:33+00:00        -73.999900   \n",
       "3034           5.7 2011-03-06 12:03:14+00:00        -73.986557   \n",
       "3413           7.3 2011-02-28 06:39:16+00:00        -73.973413   \n",
       "3481          11.3 2011-11-30 17:23:02+00:00        -73.968100   \n",
       "3489           7.3 2011-10-18 08:18:18+00:00        -73.966100   \n",
       "3599           8.9 2011-03-06 18:24:50+00:00        -73.982657   \n",
       "4114           4.5 2011-07-22 05:51:00+00:00        -73.975500   \n",
       "4248           4.1 2012-02-15 11:19:50+00:00        -73.982112   \n",
       "4344          24.9 2011-05-19 13:28:17+00:00        -73.789230   \n",
       "4354           5.3 2012-01-15 12:06:43+00:00        -73.964400   \n",
       "5058          12.9 2011-11-05 18:29:30+00:00        -74.008900   \n",
       "5150           7.7 2011-11-07 22:07:24+00:00        -73.984900   \n",
       "5161          11.3 2011-12-20 06:59:57+00:00        -73.983700   \n",
       "5277           6.1 2012-04-12 09:35:22+00:00        -73.967003   \n",
       "5517           3.3 2012-07-02 16:11:55+00:00        -74.007110   \n",
       "5557          27.3 2011-02-08 13:31:18+00:00        -73.873318   \n",
       "5688           4.9 2011-09-07 21:50:40+00:00        -73.986700   \n",
       "5914           8.5 2011-12-19 22:44:42+00:00        -73.982000   \n",
       "6036           7.7 2011-02-26 12:41:03+00:00        -73.976715   \n",
       "6575           4.5 2012-04-19 19:44:48+00:00        -73.964598   \n",
       "6713          10.5 2012-03-06 15:35:37+00:00        -73.965115   \n",
       "6881           5.7 2011-06-14 10:12:16+00:00        -73.959000   \n",
       "7279          10.9 2012-04-18 18:44:15+00:00        -73.982930   \n",
       "7520           6.9 2011-06-08 13:11:10+00:00        -73.975100   \n",
       "7640          10.9 2012-01-21 16:17:50+00:00        -73.999505   \n",
       "7909           6.9 2011-03-12 17:03:23+00:00        -73.974793   \n",
       "8321           7.3 2012-02-25 19:19:41+00:00        -74.003725   \n",
       "8661           8.1 2012-01-13 13:47:57+00:00        -73.999700   \n",
       "8862          11.5 2013-05-17 07:15:00+00:00        -73.969835   \n",
       "8916           2.5 2011-09-13 18:45:31+00:00        -73.783300   \n",
       "8971           7.7 2011-10-22 20:50:34+00:00        -73.998600   \n",
       "9159           3.3 2011-06-04 10:38:47+00:00        -73.987300   \n",
       "9965           9.3 2012-01-04 22:04:14+00:00        -73.971000   \n",
       "10642         10.1 2012-03-10 18:21:16+00:00        -73.972272   \n",
       "10663         18.1 2011-05-06 13:38:48+00:00        -73.973818   \n",
       "10711          6.5 2012-03-31 20:16:01+00:00        -74.004323   \n",
       "11462         15.7 2011-10-20 23:09:45+00:00        -73.994800   \n",
       "11803         12.1 2011-06-21 08:58:36+00:00        -73.999000   \n",
       "12216          5.7 2012-03-27 16:06:09+00:00        -73.982017   \n",
       "12611          8.1 2011-07-22 23:13:58+00:00        -73.978000   \n",
       "13029          4.5 2012-02-01 21:18:24+00:00        -73.982117   \n",
       "13227         10.9 2011-04-22 18:13:12+00:00        -73.999512   \n",
       "13379          7.3 2012-03-14 07:20:10+00:00        -73.964512   \n",
       "13714          4.1 2011-12-15 07:05:33+00:00        -73.979400   \n",
       "13742         21.7 2011-04-29 12:51:14+00:00        -74.009472   \n",
       "14196          8.1 2011-10-06 23:31:04+00:00        -73.999400   \n",
       "14308          8.1 2011-11-11 12:03:38+00:00          0.000000   \n",
       "14872          3.3 2011-03-02 19:25:46+00:00        -73.948553   \n",
       "15286          4.9 2012-03-20 22:23:34+00:00        -73.971808   \n",
       "15514          6.5 2012-02-12 02:03:50+00:00        -73.999342   \n",
       "15554          6.5 2011-08-03 08:31:19+00:00        -73.991700   \n",
       "15919         16.5 2011-10-17 08:58:54+00:00          0.000000   \n",
       "\n",
       "       pickup_latitude  dropoff_longitude  dropoff_latitude  passenger_count  \n",
       "314          40.751095         -73.908546         40.881878             0.00  \n",
       "566          40.782840         -73.955797         40.773673             0.00  \n",
       "678          40.738183         -73.971395         40.758023             0.00  \n",
       "1160         40.740348         -73.946455         40.777348             0.00  \n",
       "1935         40.795000         -73.967900         40.768600             0.00  \n",
       "2200         40.748303         -74.005185         40.738733             0.00  \n",
       "2425         40.738600         -73.971800         40.746300             0.00  \n",
       "3034         40.745783         -73.994545         40.729995             0.00  \n",
       "3413         40.743708         -73.985220         40.741583             0.00  \n",
       "3481         40.762500         -73.984400         40.760900             0.00  \n",
       "3489         40.794500         -73.960300         40.779800             0.00  \n",
       "3599         40.746145         -74.005580         40.724402             0.00  \n",
       "4114         40.760800         -73.990200         40.760000             0.00  \n",
       "4248         40.721073         -73.992240         40.725313             0.00  \n",
       "4344         40.646622         -73.725032         40.614140             0.00  \n",
       "4354         40.767500         -73.981600         40.774000             0.00  \n",
       "5058         40.709400         -73.985400         40.756200             0.00  \n",
       "5150         40.675300         -74.010400         40.655200             0.00  \n",
       "5161         40.775800         -73.985300         40.741300             0.00  \n",
       "5277         40.772417         -73.968860         40.761147             0.00  \n",
       "5517         40.743862         -74.003337         40.748877             0.00  \n",
       "5557         40.773948         -74.010205         40.711158             0.00  \n",
       "5688         40.761300         -73.982300         40.773900             0.00  \n",
       "5914         40.755900         -73.955600         40.769600             0.00  \n",
       "6036         40.775708         -73.972785         40.764467             0.00  \n",
       "6575         40.807213         -73.970875         40.797955             0.00  \n",
       "6713         40.766463         -73.997523         40.744878             0.00  \n",
       "6881         40.781000         -73.950300         40.775400             0.00  \n",
       "7279         40.722645         -73.971108         40.760172             0.00  \n",
       "7520         40.755200         -73.980000         40.765900             0.00  \n",
       "7640         40.725002         -73.973262         40.763290             0.00  \n",
       "7909         40.759865         -73.955718         40.772732             0.00  \n",
       "8321         40.742108         -73.988270         40.759308             0.00  \n",
       "8661         40.721800         -74.005600         40.741100             0.00  \n",
       "8862         40.753017         -73.998580         40.712927             0.12  \n",
       "8916         40.648600         -73.783300         40.648600             0.00  \n",
       "8971         40.761000         -73.977900         40.777200             0.00  \n",
       "9159         40.729200         -73.994000         40.732100             0.00  \n",
       "9965         40.754900         -74.004500         40.736100             0.00  \n",
       "10642        40.754037         -73.994090         40.734440             0.00  \n",
       "10663        40.789362         -73.942252         40.754120             0.00  \n",
       "10711        40.724073         -74.006453         40.738420             0.00  \n",
       "11462        40.750400         -73.959200         40.710600             0.00  \n",
       "11803        40.724800         -73.980600         40.754900             0.00  \n",
       "12216        40.756338         -73.980987         40.745442             0.00  \n",
       "12611        40.752300         -73.991800         40.763900             0.00  \n",
       "13029        40.770408         -73.980057         40.762155             0.00  \n",
       "13227        40.722078         -73.989495         40.747422             0.00  \n",
       "13379        40.771577         -73.945595         40.778032             0.00  \n",
       "13714        40.731100         -73.981500         40.724800             0.00  \n",
       "13742        40.702140         -73.959185         40.783245             0.00  \n",
       "14196        40.743800         -73.990400         40.724800             0.00  \n",
       "14308         0.000000         -73.990000         40.755400             0.00  \n",
       "14872        40.773972         -73.945098         40.778413             0.00  \n",
       "15286        40.760143         -73.962027         40.767677             0.00  \n",
       "15514        40.718872         -73.984112         40.725242             0.00  \n",
       "15554        40.750100         -73.981000         40.750900             0.00  \n",
       "15919         0.000000         -73.999700         40.734500             0.00  "
      ]
     },
     "execution_count": 30,
     "metadata": {},
     "output_type": "execute_result"
    }
   ],
   "source": [
    "train[train['passenger_count']<1]"
   ]
  },
  {
   "cell_type": "code",
   "execution_count": 31,
   "metadata": {},
   "outputs": [],
   "source": [
    "train = train.drop(train[train['passenger_count']<1].index, axis=0)"
   ]
  },
  {
   "cell_type": "code",
   "execution_count": 32,
   "metadata": {},
   "outputs": [
    {
     "data": {
      "text/html": [
       "<div>\n",
       "<style scoped>\n",
       "    .dataframe tbody tr th:only-of-type {\n",
       "        vertical-align: middle;\n",
       "    }\n",
       "\n",
       "    .dataframe tbody tr th {\n",
       "        vertical-align: top;\n",
       "    }\n",
       "\n",
       "    .dataframe thead th {\n",
       "        text-align: right;\n",
       "    }\n",
       "</style>\n",
       "<table border=\"1\" class=\"dataframe\">\n",
       "  <thead>\n",
       "    <tr style=\"text-align: right;\">\n",
       "      <th></th>\n",
       "      <th>fare_amount</th>\n",
       "      <th>pickup_datetime</th>\n",
       "      <th>pickup_longitude</th>\n",
       "      <th>pickup_latitude</th>\n",
       "      <th>dropoff_longitude</th>\n",
       "      <th>dropoff_latitude</th>\n",
       "      <th>passenger_count</th>\n",
       "    </tr>\n",
       "  </thead>\n",
       "  <tbody>\n",
       "  </tbody>\n",
       "</table>\n",
       "</div>"
      ],
      "text/plain": [
       "Empty DataFrame\n",
       "Columns: [fare_amount, pickup_datetime, pickup_longitude, pickup_latitude, dropoff_longitude, dropoff_latitude, passenger_count]\n",
       "Index: []"
      ]
     },
     "execution_count": 32,
     "metadata": {},
     "output_type": "execute_result"
    }
   ],
   "source": [
    "train[train['passenger_count']<1]"
   ]
  },
  {
   "cell_type": "code",
   "execution_count": 33,
   "metadata": {},
   "outputs": [
    {
     "name": "stdout",
     "output_type": "stream",
     "text": [
      "pickup_latitude above 90=1\n"
     ]
    }
   ],
   "source": [
    "#3.pickup_latitude variable\n",
    "#latitude range = +90 to -90\n",
    "print('pickup_latitude above 90={}'.format(sum(train['pickup_latitude']>90)))"
   ]
  },
  {
   "cell_type": "code",
   "execution_count": 34,
   "metadata": {},
   "outputs": [],
   "source": [
    "train = train.drop(train[train['pickup_latitude']>90].index, axis=0)"
   ]
  },
  {
   "cell_type": "code",
   "execution_count": 35,
   "metadata": {},
   "outputs": [
    {
     "name": "stdout",
     "output_type": "stream",
     "text": [
      "pickup_latitude below -90=0\n"
     ]
    }
   ],
   "source": [
    "print('pickup_latitude below -90={}'.format(sum(train['pickup_latitude']<-90)))"
   ]
  },
  {
   "cell_type": "code",
   "execution_count": 36,
   "metadata": {},
   "outputs": [
    {
     "name": "stdout",
     "output_type": "stream",
     "text": [
      "pickup_latitude equal to 0=311\n"
     ]
    }
   ],
   "source": [
    "print('pickup_latitude equal to 0={}'.format(sum(train['pickup_latitude']== 0)))"
   ]
  },
  {
   "cell_type": "code",
   "execution_count": 37,
   "metadata": {},
   "outputs": [],
   "source": [
    "train = train.drop(train[train['pickup_latitude']== 0].index, axis=0)"
   ]
  },
  {
   "cell_type": "code",
   "execution_count": 38,
   "metadata": {},
   "outputs": [
    {
     "name": "stdout",
     "output_type": "stream",
     "text": [
      "dropoff_latitude above 90=0\n"
     ]
    }
   ],
   "source": [
    "#4.dropoff_latitude variable\n",
    "print('dropoff_latitude above 90={}'.format(sum(train['dropoff_latitude']>90)))"
   ]
  },
  {
   "cell_type": "code",
   "execution_count": 39,
   "metadata": {},
   "outputs": [
    {
     "name": "stdout",
     "output_type": "stream",
     "text": [
      "dropoff_latitude below -90=0\n"
     ]
    }
   ],
   "source": [
    "print('dropoff_latitude below -90={}'.format(sum(train['dropoff_latitude']<-90)))"
   ]
  },
  {
   "cell_type": "code",
   "execution_count": 40,
   "metadata": {},
   "outputs": [
    {
     "name": "stdout",
     "output_type": "stream",
     "text": [
      "dropoff_latitude equal to 0=9\n"
     ]
    }
   ],
   "source": [
    "print('dropoff_latitude equal to 0={}'.format(sum(train['dropoff_latitude']== 0)))"
   ]
  },
  {
   "cell_type": "code",
   "execution_count": 41,
   "metadata": {},
   "outputs": [],
   "source": [
    "train = train.drop(train[train['dropoff_latitude']== 0].index, axis=0)"
   ]
  },
  {
   "cell_type": "code",
   "execution_count": 42,
   "metadata": {},
   "outputs": [
    {
     "name": "stdout",
     "output_type": "stream",
     "text": [
      "pickup_longitude above 180=0\n"
     ]
    }
   ],
   "source": [
    "#5.pickup_longitude variable\n",
    "#(longitude range = +180 to -180)\n",
    "print('pickup_longitude above 180={}'.format(sum(train['pickup_longitude']>180)))"
   ]
  },
  {
   "cell_type": "code",
   "execution_count": 43,
   "metadata": {},
   "outputs": [
    {
     "name": "stdout",
     "output_type": "stream",
     "text": [
      "pickup_longitude below -180=0\n"
     ]
    }
   ],
   "source": [
    "print('pickup_longitude below -180={}'.format(sum(train['pickup_longitude']<-180)))"
   ]
  },
  {
   "cell_type": "code",
   "execution_count": 44,
   "metadata": {},
   "outputs": [
    {
     "name": "stdout",
     "output_type": "stream",
     "text": [
      "pickup_longitude equal to 0=0\n"
     ]
    }
   ],
   "source": [
    "print('pickup_longitude equal to 0={}'.format(sum(train['pickup_longitude']== 0)))"
   ]
  },
  {
   "cell_type": "code",
   "execution_count": 45,
   "metadata": {},
   "outputs": [
    {
     "name": "stdout",
     "output_type": "stream",
     "text": [
      "dropoff_longitude above 180=0\n"
     ]
    }
   ],
   "source": [
    "#6.dropoff_longitude variable\n",
    "print('dropoff_longitude above 180={}'.format(sum(train['dropoff_longitude']>180)))"
   ]
  },
  {
   "cell_type": "code",
   "execution_count": 46,
   "metadata": {},
   "outputs": [
    {
     "name": "stdout",
     "output_type": "stream",
     "text": [
      "dropoff_longitude below -180=0\n"
     ]
    }
   ],
   "source": [
    "print('dropoff_longitude below -180={}'.format(sum(train['dropoff_longitude']<-180)))"
   ]
  },
  {
   "cell_type": "code",
   "execution_count": 47,
   "metadata": {},
   "outputs": [
    {
     "name": "stdout",
     "output_type": "stream",
     "text": [
      "dropoff_longitude equal to 0=2\n"
     ]
    }
   ],
   "source": [
    "print('dropoff_longitude equal to 0={}'.format(sum(train['dropoff_longitude']== 0)))"
   ]
  },
  {
   "cell_type": "code",
   "execution_count": 48,
   "metadata": {},
   "outputs": [],
   "source": [
    "train = train.drop(train[train['dropoff_longitude']== 0].index, axis=0)"
   ]
  },
  {
   "cell_type": "code",
   "execution_count": 49,
   "metadata": {},
   "outputs": [
    {
     "data": {
      "text/plain": [
       "(15661, 7)"
      ]
     },
     "execution_count": 49,
     "metadata": {},
     "output_type": "execute_result"
    }
   ],
   "source": [
    "train.shape"
   ]
  },
  {
   "cell_type": "code",
   "execution_count": 50,
   "metadata": {},
   "outputs": [],
   "source": [
    "# Make a copy\n",
    "df=train.copy()"
   ]
  },
  {
   "cell_type": "code",
   "execution_count": 51,
   "metadata": {},
   "outputs": [],
   "source": [
    "####################### 2. missing value analysis ########################"
   ]
  },
  {
   "cell_type": "code",
   "execution_count": 52,
   "metadata": {},
   "outputs": [],
   "source": [
    "#creating a dataframe with sum of missing values\n",
    "missing_val = pd.DataFrame(train.isnull().sum())"
   ]
  },
  {
   "cell_type": "code",
   "execution_count": 53,
   "metadata": {},
   "outputs": [
    {
     "data": {
      "text/html": [
       "<div>\n",
       "<style scoped>\n",
       "    .dataframe tbody tr th:only-of-type {\n",
       "        vertical-align: middle;\n",
       "    }\n",
       "\n",
       "    .dataframe tbody tr th {\n",
       "        vertical-align: top;\n",
       "    }\n",
       "\n",
       "    .dataframe thead th {\n",
       "        text-align: right;\n",
       "    }\n",
       "</style>\n",
       "<table border=\"1\" class=\"dataframe\">\n",
       "  <thead>\n",
       "    <tr style=\"text-align: right;\">\n",
       "      <th></th>\n",
       "      <th>0</th>\n",
       "    </tr>\n",
       "  </thead>\n",
       "  <tbody>\n",
       "    <tr>\n",
       "      <td>fare_amount</td>\n",
       "      <td>22</td>\n",
       "    </tr>\n",
       "    <tr>\n",
       "      <td>pickup_datetime</td>\n",
       "      <td>1</td>\n",
       "    </tr>\n",
       "    <tr>\n",
       "      <td>pickup_longitude</td>\n",
       "      <td>0</td>\n",
       "    </tr>\n",
       "    <tr>\n",
       "      <td>pickup_latitude</td>\n",
       "      <td>0</td>\n",
       "    </tr>\n",
       "    <tr>\n",
       "      <td>dropoff_longitude</td>\n",
       "      <td>0</td>\n",
       "    </tr>\n",
       "    <tr>\n",
       "      <td>dropoff_latitude</td>\n",
       "      <td>0</td>\n",
       "    </tr>\n",
       "    <tr>\n",
       "      <td>passenger_count</td>\n",
       "      <td>55</td>\n",
       "    </tr>\n",
       "  </tbody>\n",
       "</table>\n",
       "</div>"
      ],
      "text/plain": [
       "                    0\n",
       "fare_amount        22\n",
       "pickup_datetime     1\n",
       "pickup_longitude    0\n",
       "pickup_latitude     0\n",
       "dropoff_longitude   0\n",
       "dropoff_latitude    0\n",
       "passenger_count    55"
      ]
     },
     "execution_count": 53,
     "metadata": {},
     "output_type": "execute_result"
    }
   ],
   "source": [
    "missing_val"
   ]
  },
  {
   "cell_type": "code",
   "execution_count": 54,
   "metadata": {},
   "outputs": [],
   "source": [
    "#Converting row index into column.\n",
    "missing_val = missing_val.reset_index()"
   ]
  },
  {
   "cell_type": "code",
   "execution_count": 55,
   "metadata": {},
   "outputs": [
    {
     "data": {
      "text/html": [
       "<div>\n",
       "<style scoped>\n",
       "    .dataframe tbody tr th:only-of-type {\n",
       "        vertical-align: middle;\n",
       "    }\n",
       "\n",
       "    .dataframe tbody tr th {\n",
       "        vertical-align: top;\n",
       "    }\n",
       "\n",
       "    .dataframe thead th {\n",
       "        text-align: right;\n",
       "    }\n",
       "</style>\n",
       "<table border=\"1\" class=\"dataframe\">\n",
       "  <thead>\n",
       "    <tr style=\"text-align: right;\">\n",
       "      <th></th>\n",
       "      <th>index</th>\n",
       "      <th>0</th>\n",
       "    </tr>\n",
       "  </thead>\n",
       "  <tbody>\n",
       "    <tr>\n",
       "      <td>0</td>\n",
       "      <td>fare_amount</td>\n",
       "      <td>22</td>\n",
       "    </tr>\n",
       "    <tr>\n",
       "      <td>1</td>\n",
       "      <td>pickup_datetime</td>\n",
       "      <td>1</td>\n",
       "    </tr>\n",
       "    <tr>\n",
       "      <td>2</td>\n",
       "      <td>pickup_longitude</td>\n",
       "      <td>0</td>\n",
       "    </tr>\n",
       "    <tr>\n",
       "      <td>3</td>\n",
       "      <td>pickup_latitude</td>\n",
       "      <td>0</td>\n",
       "    </tr>\n",
       "    <tr>\n",
       "      <td>4</td>\n",
       "      <td>dropoff_longitude</td>\n",
       "      <td>0</td>\n",
       "    </tr>\n",
       "    <tr>\n",
       "      <td>5</td>\n",
       "      <td>dropoff_latitude</td>\n",
       "      <td>0</td>\n",
       "    </tr>\n",
       "    <tr>\n",
       "      <td>6</td>\n",
       "      <td>passenger_count</td>\n",
       "      <td>55</td>\n",
       "    </tr>\n",
       "  </tbody>\n",
       "</table>\n",
       "</div>"
      ],
      "text/plain": [
       "               index   0\n",
       "0        fare_amount  22\n",
       "1    pickup_datetime   1\n",
       "2   pickup_longitude   0\n",
       "3    pickup_latitude   0\n",
       "4  dropoff_longitude   0\n",
       "5   dropoff_latitude   0\n",
       "6    passenger_count  55"
      ]
     },
     "execution_count": 55,
     "metadata": {},
     "output_type": "execute_result"
    }
   ],
   "source": [
    "missing_val"
   ]
  },
  {
   "cell_type": "code",
   "execution_count": 56,
   "metadata": {},
   "outputs": [],
   "source": [
    "#Rename the column as variable and missing_percentage.\n",
    "missing_val = missing_val.rename(columns = {'index': 'Variables', 0: 'Missing_percentage'})"
   ]
  },
  {
   "cell_type": "code",
   "execution_count": 57,
   "metadata": {},
   "outputs": [
    {
     "data": {
      "text/html": [
       "<div>\n",
       "<style scoped>\n",
       "    .dataframe tbody tr th:only-of-type {\n",
       "        vertical-align: middle;\n",
       "    }\n",
       "\n",
       "    .dataframe tbody tr th {\n",
       "        vertical-align: top;\n",
       "    }\n",
       "\n",
       "    .dataframe thead th {\n",
       "        text-align: right;\n",
       "    }\n",
       "</style>\n",
       "<table border=\"1\" class=\"dataframe\">\n",
       "  <thead>\n",
       "    <tr style=\"text-align: right;\">\n",
       "      <th></th>\n",
       "      <th>Variables</th>\n",
       "      <th>Missing_percentage</th>\n",
       "    </tr>\n",
       "  </thead>\n",
       "  <tbody>\n",
       "    <tr>\n",
       "      <td>0</td>\n",
       "      <td>fare_amount</td>\n",
       "      <td>22</td>\n",
       "    </tr>\n",
       "    <tr>\n",
       "      <td>1</td>\n",
       "      <td>pickup_datetime</td>\n",
       "      <td>1</td>\n",
       "    </tr>\n",
       "    <tr>\n",
       "      <td>2</td>\n",
       "      <td>pickup_longitude</td>\n",
       "      <td>0</td>\n",
       "    </tr>\n",
       "    <tr>\n",
       "      <td>3</td>\n",
       "      <td>pickup_latitude</td>\n",
       "      <td>0</td>\n",
       "    </tr>\n",
       "    <tr>\n",
       "      <td>4</td>\n",
       "      <td>dropoff_longitude</td>\n",
       "      <td>0</td>\n",
       "    </tr>\n",
       "    <tr>\n",
       "      <td>5</td>\n",
       "      <td>dropoff_latitude</td>\n",
       "      <td>0</td>\n",
       "    </tr>\n",
       "    <tr>\n",
       "      <td>6</td>\n",
       "      <td>passenger_count</td>\n",
       "      <td>55</td>\n",
       "    </tr>\n",
       "  </tbody>\n",
       "</table>\n",
       "</div>"
      ],
      "text/plain": [
       "           Variables  Missing_percentage\n",
       "0        fare_amount                  22\n",
       "1    pickup_datetime                   1\n",
       "2   pickup_longitude                   0\n",
       "3    pickup_latitude                   0\n",
       "4  dropoff_longitude                   0\n",
       "5   dropoff_latitude                   0\n",
       "6    passenger_count                  55"
      ]
     },
     "execution_count": 57,
     "metadata": {},
     "output_type": "execute_result"
    }
   ],
   "source": [
    "missing_val"
   ]
  },
  {
   "cell_type": "code",
   "execution_count": 58,
   "metadata": {},
   "outputs": [],
   "source": [
    "#Calculating in terms of percentage\n",
    "missing_val['Missing_percentage'] = (missing_val['Missing_percentage']/len(train))*100"
   ]
  },
  {
   "cell_type": "code",
   "execution_count": 59,
   "metadata": {},
   "outputs": [
    {
     "data": {
      "text/html": [
       "<div>\n",
       "<style scoped>\n",
       "    .dataframe tbody tr th:only-of-type {\n",
       "        vertical-align: middle;\n",
       "    }\n",
       "\n",
       "    .dataframe tbody tr th {\n",
       "        vertical-align: top;\n",
       "    }\n",
       "\n",
       "    .dataframe thead th {\n",
       "        text-align: right;\n",
       "    }\n",
       "</style>\n",
       "<table border=\"1\" class=\"dataframe\">\n",
       "  <thead>\n",
       "    <tr style=\"text-align: right;\">\n",
       "      <th></th>\n",
       "      <th>Variables</th>\n",
       "      <th>Missing_percentage</th>\n",
       "    </tr>\n",
       "  </thead>\n",
       "  <tbody>\n",
       "    <tr>\n",
       "      <td>0</td>\n",
       "      <td>fare_amount</td>\n",
       "      <td>0.140476</td>\n",
       "    </tr>\n",
       "    <tr>\n",
       "      <td>1</td>\n",
       "      <td>pickup_datetime</td>\n",
       "      <td>0.006385</td>\n",
       "    </tr>\n",
       "    <tr>\n",
       "      <td>2</td>\n",
       "      <td>pickup_longitude</td>\n",
       "      <td>0.000000</td>\n",
       "    </tr>\n",
       "    <tr>\n",
       "      <td>3</td>\n",
       "      <td>pickup_latitude</td>\n",
       "      <td>0.000000</td>\n",
       "    </tr>\n",
       "    <tr>\n",
       "      <td>4</td>\n",
       "      <td>dropoff_longitude</td>\n",
       "      <td>0.000000</td>\n",
       "    </tr>\n",
       "    <tr>\n",
       "      <td>5</td>\n",
       "      <td>dropoff_latitude</td>\n",
       "      <td>0.000000</td>\n",
       "    </tr>\n",
       "    <tr>\n",
       "      <td>6</td>\n",
       "      <td>passenger_count</td>\n",
       "      <td>0.351191</td>\n",
       "    </tr>\n",
       "  </tbody>\n",
       "</table>\n",
       "</div>"
      ],
      "text/plain": [
       "           Variables  Missing_percentage\n",
       "0        fare_amount            0.140476\n",
       "1    pickup_datetime            0.006385\n",
       "2   pickup_longitude            0.000000\n",
       "3    pickup_latitude            0.000000\n",
       "4  dropoff_longitude            0.000000\n",
       "5   dropoff_latitude            0.000000\n",
       "6    passenger_count            0.351191"
      ]
     },
     "execution_count": 59,
     "metadata": {},
     "output_type": "execute_result"
    }
   ],
   "source": [
    "missing_val"
   ]
  },
  {
   "cell_type": "code",
   "execution_count": 60,
   "metadata": {},
   "outputs": [],
   "source": [
    "#Arranging in descending order.\n",
    "missing_val = missing_val.sort_values('Missing_percentage', ascending = False).reset_index(drop = True)"
   ]
  },
  {
   "cell_type": "code",
   "execution_count": 61,
   "metadata": {},
   "outputs": [
    {
     "data": {
      "text/html": [
       "<div>\n",
       "<style scoped>\n",
       "    .dataframe tbody tr th:only-of-type {\n",
       "        vertical-align: middle;\n",
       "    }\n",
       "\n",
       "    .dataframe tbody tr th {\n",
       "        vertical-align: top;\n",
       "    }\n",
       "\n",
       "    .dataframe thead th {\n",
       "        text-align: right;\n",
       "    }\n",
       "</style>\n",
       "<table border=\"1\" class=\"dataframe\">\n",
       "  <thead>\n",
       "    <tr style=\"text-align: right;\">\n",
       "      <th></th>\n",
       "      <th>Variables</th>\n",
       "      <th>Missing_percentage</th>\n",
       "    </tr>\n",
       "  </thead>\n",
       "  <tbody>\n",
       "    <tr>\n",
       "      <td>0</td>\n",
       "      <td>passenger_count</td>\n",
       "      <td>0.351191</td>\n",
       "    </tr>\n",
       "    <tr>\n",
       "      <td>1</td>\n",
       "      <td>fare_amount</td>\n",
       "      <td>0.140476</td>\n",
       "    </tr>\n",
       "    <tr>\n",
       "      <td>2</td>\n",
       "      <td>pickup_datetime</td>\n",
       "      <td>0.006385</td>\n",
       "    </tr>\n",
       "    <tr>\n",
       "      <td>3</td>\n",
       "      <td>pickup_longitude</td>\n",
       "      <td>0.000000</td>\n",
       "    </tr>\n",
       "    <tr>\n",
       "      <td>4</td>\n",
       "      <td>pickup_latitude</td>\n",
       "      <td>0.000000</td>\n",
       "    </tr>\n",
       "    <tr>\n",
       "      <td>5</td>\n",
       "      <td>dropoff_longitude</td>\n",
       "      <td>0.000000</td>\n",
       "    </tr>\n",
       "    <tr>\n",
       "      <td>6</td>\n",
       "      <td>dropoff_latitude</td>\n",
       "      <td>0.000000</td>\n",
       "    </tr>\n",
       "  </tbody>\n",
       "</table>\n",
       "</div>"
      ],
      "text/plain": [
       "           Variables  Missing_percentage\n",
       "0    passenger_count            0.351191\n",
       "1        fare_amount            0.140476\n",
       "2    pickup_datetime            0.006385\n",
       "3   pickup_longitude            0.000000\n",
       "4    pickup_latitude            0.000000\n",
       "5  dropoff_longitude            0.000000\n",
       "6   dropoff_latitude            0.000000"
      ]
     },
     "execution_count": 61,
     "metadata": {},
     "output_type": "execute_result"
    }
   ],
   "source": [
    "missing_val"
   ]
  },
  {
   "cell_type": "code",
   "execution_count": 62,
   "metadata": {},
   "outputs": [
    {
     "data": {
      "text/plain": [
       "1.0"
      ]
     },
     "execution_count": 62,
     "metadata": {},
     "output_type": "execute_result"
    }
   ],
   "source": [
    "#imputation\n",
    "#1.passenger_count variable\n",
    "train['passenger_count'].loc[1887]"
   ]
  },
  {
   "cell_type": "code",
   "execution_count": 63,
   "metadata": {},
   "outputs": [],
   "source": [
    "#actual value = 1"
   ]
  },
  {
   "cell_type": "code",
   "execution_count": 64,
   "metadata": {},
   "outputs": [
    {
     "name": "stderr",
     "output_type": "stream",
     "text": [
      "C:\\Users\\nikhi\\Anaconda3\\lib\\site-packages\\pandas\\core\\indexing.py:205: SettingWithCopyWarning: \n",
      "A value is trying to be set on a copy of a slice from a DataFrame\n",
      "\n",
      "See the caveats in the documentation: http://pandas.pydata.org/pandas-docs/stable/user_guide/indexing.html#returning-a-view-versus-a-copy\n",
      "  self._setitem_with_indexer(indexer, value)\n"
     ]
    },
    {
     "data": {
      "text/plain": [
       "nan"
      ]
     },
     "execution_count": 64,
     "metadata": {},
     "output_type": "execute_result"
    }
   ],
   "source": [
    "train['passenger_count'].loc[1887] = np.nan\n",
    "train['passenger_count'].loc[1887]"
   ]
  },
  {
   "cell_type": "code",
   "execution_count": 65,
   "metadata": {},
   "outputs": [],
   "source": [
    "#mean\n",
    "train['passenger_count'] = train['passenger_count'].fillna(train['passenger_count'].mean())"
   ]
  },
  {
   "cell_type": "code",
   "execution_count": 66,
   "metadata": {},
   "outputs": [
    {
     "data": {
      "text/plain": [
       "1.6505799423261776"
      ]
     },
     "execution_count": 66,
     "metadata": {},
     "output_type": "execute_result"
    }
   ],
   "source": [
    "train['passenger_count'].loc[1887]"
   ]
  },
  {
   "cell_type": "code",
   "execution_count": 67,
   "metadata": {},
   "outputs": [],
   "source": [
    "# mean = 1.65"
   ]
  },
  {
   "cell_type": "code",
   "execution_count": 68,
   "metadata": {},
   "outputs": [],
   "source": [
    "#conclusion: mean is chosen for imputation as KNN couldn't be imported"
   ]
  },
  {
   "cell_type": "code",
   "execution_count": 69,
   "metadata": {},
   "outputs": [
    {
     "data": {
      "text/plain": [
       "10.0"
      ]
     },
     "execution_count": 69,
     "metadata": {},
     "output_type": "execute_result"
    }
   ],
   "source": [
    "#2.fare_amount variable\n",
    "train['fare_amount'].loc[6879]"
   ]
  },
  {
   "cell_type": "code",
   "execution_count": 70,
   "metadata": {},
   "outputs": [
    {
     "data": {
      "text/plain": [
       "nan"
      ]
     },
     "execution_count": 70,
     "metadata": {},
     "output_type": "execute_result"
    }
   ],
   "source": [
    "train['fare_amount'].loc[6879] = np.nan\n",
    "train['fare_amount'].loc[6879]"
   ]
  },
  {
   "cell_type": "code",
   "execution_count": 71,
   "metadata": {},
   "outputs": [],
   "source": [
    "#mean\n",
    "train['fare_amount'] = train['fare_amount'].fillna(train['fare_amount'].mean())"
   ]
  },
  {
   "cell_type": "code",
   "execution_count": 72,
   "metadata": {},
   "outputs": [
    {
     "data": {
      "text/plain": [
       "15.118004220488405"
      ]
     },
     "execution_count": 72,
     "metadata": {},
     "output_type": "execute_result"
    }
   ],
   "source": [
    "train['fare_amount'].loc[6879]"
   ]
  },
  {
   "cell_type": "code",
   "execution_count": 73,
   "metadata": {},
   "outputs": [],
   "source": [
    "#mean = 15.11"
   ]
  },
  {
   "cell_type": "code",
   "execution_count": 74,
   "metadata": {},
   "outputs": [
    {
     "data": {
      "text/plain": [
       "nan"
      ]
     },
     "execution_count": 74,
     "metadata": {},
     "output_type": "execute_result"
    }
   ],
   "source": [
    "train['fare_amount'].loc[6879] = np.nan\n",
    "train['fare_amount'].loc[6879]"
   ]
  },
  {
   "cell_type": "code",
   "execution_count": 75,
   "metadata": {},
   "outputs": [],
   "source": [
    "#median\n",
    "train['fare_amount'] = train['fare_amount'].fillna(train['fare_amount'].median())"
   ]
  },
  {
   "cell_type": "code",
   "execution_count": 76,
   "metadata": {},
   "outputs": [
    {
     "data": {
      "text/plain": [
       "8.5"
      ]
     },
     "execution_count": 76,
     "metadata": {},
     "output_type": "execute_result"
    }
   ],
   "source": [
    "train['fare_amount'].loc[6879]"
   ]
  },
  {
   "cell_type": "code",
   "execution_count": 77,
   "metadata": {},
   "outputs": [],
   "source": [
    "#median = 8.5"
   ]
  },
  {
   "cell_type": "code",
   "execution_count": 78,
   "metadata": {},
   "outputs": [],
   "source": [
    "#conclusion: median is chosen for imputation as KNN couldn't be imported"
   ]
  },
  {
   "cell_type": "code",
   "execution_count": 79,
   "metadata": {},
   "outputs": [],
   "source": [
    "#saving continous variable names\n",
    "columns=['fare_amount', 'pickup_longitude', 'pickup_latitude','dropoff_longitude', 'dropoff_latitude', 'passenger_count']"
   ]
  },
  {
   "cell_type": "code",
   "execution_count": 80,
   "metadata": {},
   "outputs": [],
   "source": [
    "#separating pickup_datetime into a different dataframe and then merge with train in feature engineering step.\n",
    "pickup_datetime=pd.DataFrame(train['pickup_datetime'])"
   ]
  },
  {
   "cell_type": "code",
   "execution_count": 81,
   "metadata": {},
   "outputs": [],
   "source": [
    "#passenger_count is stored as float, converting that to int\n",
    "train['passenger_count']=train['passenger_count'].astype('int')"
   ]
  },
  {
   "cell_type": "code",
   "execution_count": 82,
   "metadata": {},
   "outputs": [],
   "source": [
    "train['passenger_count']=train['passenger_count'].round().astype('object').astype('category',order=True)"
   ]
  },
  {
   "cell_type": "code",
   "execution_count": 83,
   "metadata": {},
   "outputs": [
    {
     "data": {
      "text/html": [
       "<div>\n",
       "<style scoped>\n",
       "    .dataframe tbody tr th:only-of-type {\n",
       "        vertical-align: middle;\n",
       "    }\n",
       "\n",
       "    .dataframe tbody tr th {\n",
       "        vertical-align: top;\n",
       "    }\n",
       "\n",
       "    .dataframe thead th {\n",
       "        text-align: right;\n",
       "    }\n",
       "</style>\n",
       "<table border=\"1\" class=\"dataframe\">\n",
       "  <thead>\n",
       "    <tr style=\"text-align: right;\">\n",
       "      <th></th>\n",
       "      <th>index</th>\n",
       "      <th>0</th>\n",
       "    </tr>\n",
       "  </thead>\n",
       "  <tbody>\n",
       "    <tr>\n",
       "      <td>0</td>\n",
       "      <td>pickup_datetime</td>\n",
       "      <td>1</td>\n",
       "    </tr>\n",
       "  </tbody>\n",
       "</table>\n",
       "</div>"
      ],
      "text/plain": [
       "             index  0\n",
       "0  pickup_datetime  1"
      ]
     },
     "execution_count": 83,
     "metadata": {},
     "output_type": "execute_result"
    }
   ],
   "source": [
    "#missing value in pickup_datetime\n",
    "#Create dataframe with missing percentage\n",
    "missing_val = pd.DataFrame(pickup_datetime.isnull().sum())\n",
    "#Reset index\n",
    "missing_val = missing_val.reset_index()\n",
    "missing_val"
   ]
  },
  {
   "cell_type": "code",
   "execution_count": 84,
   "metadata": {},
   "outputs": [
    {
     "data": {
      "text/plain": [
       "(15661, 1)"
      ]
     },
     "execution_count": 84,
     "metadata": {},
     "output_type": "execute_result"
    }
   ],
   "source": [
    "pickup_datetime.shape"
   ]
  },
  {
   "cell_type": "code",
   "execution_count": 85,
   "metadata": {},
   "outputs": [
    {
     "data": {
      "text/plain": [
       "(15661, 7)"
      ]
     },
     "execution_count": 85,
     "metadata": {},
     "output_type": "execute_result"
    }
   ],
   "source": [
    "train.shape"
   ]
  },
  {
   "cell_type": "code",
   "execution_count": 86,
   "metadata": {},
   "outputs": [],
   "source": [
    "#We will drop 1 row which has missing value for pickup_datetime variable after feature engineering step because if we drop now, pickup_datetime dataframe will have 16040 rows and our train has 1641 rows, then if we merge these 2 dataframes then pickup_datetime variable will gain 1 missing value.\n",
    "#And if we merge and then drop now then we would require to split again before outlier analysis and then merge again in feature engineering step.\n",
    "#So, instead of doing the work 2 times we will drop 1 time i.e. after feature engineering process."
   ]
  },
  {
   "cell_type": "code",
   "execution_count": 87,
   "metadata": {},
   "outputs": [],
   "source": [
    "#make a copy\n",
    "df1 = train.copy()"
   ]
  },
  {
   "cell_type": "code",
   "execution_count": 88,
   "metadata": {},
   "outputs": [
    {
     "data": {
      "text/plain": [
       "count     15661\n",
       "unique        6\n",
       "top           1\n",
       "freq      11071\n",
       "Name: passenger_count, dtype: int64"
      ]
     },
     "execution_count": 88,
     "metadata": {},
     "output_type": "execute_result"
    }
   ],
   "source": [
    "train['passenger_count'].describe()"
   ]
  },
  {
   "cell_type": "code",
   "execution_count": 89,
   "metadata": {},
   "outputs": [
    {
     "data": {
      "text/html": [
       "<div>\n",
       "<style scoped>\n",
       "    .dataframe tbody tr th:only-of-type {\n",
       "        vertical-align: middle;\n",
       "    }\n",
       "\n",
       "    .dataframe tbody tr th {\n",
       "        vertical-align: top;\n",
       "    }\n",
       "\n",
       "    .dataframe thead th {\n",
       "        text-align: right;\n",
       "    }\n",
       "</style>\n",
       "<table border=\"1\" class=\"dataframe\">\n",
       "  <thead>\n",
       "    <tr style=\"text-align: right;\">\n",
       "      <th></th>\n",
       "      <th>fare_amount</th>\n",
       "      <th>pickup_longitude</th>\n",
       "      <th>pickup_latitude</th>\n",
       "      <th>dropoff_longitude</th>\n",
       "      <th>dropoff_latitude</th>\n",
       "    </tr>\n",
       "  </thead>\n",
       "  <tbody>\n",
       "    <tr>\n",
       "      <td>count</td>\n",
       "      <td>15661.000000</td>\n",
       "      <td>15661.000000</td>\n",
       "      <td>15661.000000</td>\n",
       "      <td>15661.000000</td>\n",
       "      <td>15661.000000</td>\n",
       "    </tr>\n",
       "    <tr>\n",
       "      <td>mean</td>\n",
       "      <td>15.117582</td>\n",
       "      <td>-73.911514</td>\n",
       "      <td>40.689712</td>\n",
       "      <td>-73.906315</td>\n",
       "      <td>40.687655</td>\n",
       "    </tr>\n",
       "    <tr>\n",
       "      <td>std</td>\n",
       "      <td>435.661894</td>\n",
       "      <td>2.659050</td>\n",
       "      <td>2.613305</td>\n",
       "      <td>2.710835</td>\n",
       "      <td>2.632400</td>\n",
       "    </tr>\n",
       "    <tr>\n",
       "      <td>min</td>\n",
       "      <td>1.140000</td>\n",
       "      <td>-74.438233</td>\n",
       "      <td>-74.006893</td>\n",
       "      <td>-74.429332</td>\n",
       "      <td>-74.006377</td>\n",
       "    </tr>\n",
       "    <tr>\n",
       "      <td>25%</td>\n",
       "      <td>6.000000</td>\n",
       "      <td>-73.992390</td>\n",
       "      <td>40.736530</td>\n",
       "      <td>-73.991369</td>\n",
       "      <td>40.736293</td>\n",
       "    </tr>\n",
       "    <tr>\n",
       "      <td>50%</td>\n",
       "      <td>8.500000</td>\n",
       "      <td>-73.982049</td>\n",
       "      <td>40.753300</td>\n",
       "      <td>-73.980555</td>\n",
       "      <td>40.754242</td>\n",
       "    </tr>\n",
       "    <tr>\n",
       "      <td>75%</td>\n",
       "      <td>12.500000</td>\n",
       "      <td>-73.968080</td>\n",
       "      <td>40.767805</td>\n",
       "      <td>-73.965360</td>\n",
       "      <td>40.768312</td>\n",
       "    </tr>\n",
       "    <tr>\n",
       "      <td>max</td>\n",
       "      <td>54343.000000</td>\n",
       "      <td>40.766125</td>\n",
       "      <td>41.366138</td>\n",
       "      <td>40.802437</td>\n",
       "      <td>41.366138</td>\n",
       "    </tr>\n",
       "  </tbody>\n",
       "</table>\n",
       "</div>"
      ],
      "text/plain": [
       "        fare_amount  pickup_longitude  pickup_latitude  dropoff_longitude  \\\n",
       "count  15661.000000      15661.000000     15661.000000       15661.000000   \n",
       "mean      15.117582        -73.911514        40.689712         -73.906315   \n",
       "std      435.661894          2.659050         2.613305           2.710835   \n",
       "min        1.140000        -74.438233       -74.006893         -74.429332   \n",
       "25%        6.000000        -73.992390        40.736530         -73.991369   \n",
       "50%        8.500000        -73.982049        40.753300         -73.980555   \n",
       "75%       12.500000        -73.968080        40.767805         -73.965360   \n",
       "max    54343.000000         40.766125        41.366138          40.802437   \n",
       "\n",
       "       dropoff_latitude  \n",
       "count      15661.000000  \n",
       "mean          40.687655  \n",
       "std            2.632400  \n",
       "min          -74.006377  \n",
       "25%           40.736293  \n",
       "50%           40.754242  \n",
       "75%           40.768312  \n",
       "max           41.366138  "
      ]
     },
     "execution_count": 89,
     "metadata": {},
     "output_type": "execute_result"
    }
   ],
   "source": [
    "train.describe()"
   ]
  },
  {
   "cell_type": "code",
   "execution_count": 90,
   "metadata": {},
   "outputs": [],
   "source": [
    "################################# 3.outlier analysis ####################"
   ]
  },
  {
   "cell_type": "code",
   "execution_count": 91,
   "metadata": {
    "scrolled": true
   },
   "outputs": [
    {
     "data": {
      "image/png": "[encoded data removed]",
      "text/plain": [
       "<Figure size 1440x360 with 1 Axes>"
      ]
     },
     "metadata": {
      "needs_background": "light"
     },
     "output_type": "display_data"
    }
   ],
   "source": [
    "#1.fare_amount variable\n",
    "plt.figure(figsize=(20,5)) \n",
    "plt.xlim(0,100)\n",
    "sns.boxplot(x=train['fare_amount'],data=train,orient='h')\n",
    "plt.title('Boxplot of fare_amount')\n",
    "\n",
    "plt.show()"
   ]
  },
  {
   "cell_type": "code",
   "execution_count": 92,
   "metadata": {},
   "outputs": [
    {
     "data": {
      "text/plain": [
       "91.34793435923632"
      ]
     },
     "execution_count": 92,
     "metadata": {},
     "output_type": "execute_result"
    }
   ],
   "source": [
    "sum(train['fare_amount']<22.5)/len(train['fare_amount'])*100"
   ]
  },
  {
   "cell_type": "code",
   "execution_count": 93,
   "metadata": {},
   "outputs": [],
   "source": [
    "def outlier_treatment(col):\n",
    "    ''' calculating outlier indices and replacing them with NA  '''\n",
    "    #Extract quartiles\n",
    "    q75, q25 = np.percentile(train[col], [75 ,25])\n",
    "    print(q75,q25)\n",
    "    #Calculate IQR\n",
    "    iqr = q75 - q25\n",
    "    #Calculate inner and outer fence\n",
    "    minimum = q25 - (iqr*1.5)\n",
    "    maximum = q75 + (iqr*1.5)\n",
    "    print(minimum,maximum)\n",
    "    #Replace with NA\n",
    "    train.loc[train[col] < minimum,col] = np.nan\n",
    "    train.loc[train[col] > maximum,col] = np.nan"
   ]
  },
  {
   "cell_type": "code",
   "execution_count": 94,
   "metadata": {},
   "outputs": [
    {
     "name": "stdout",
     "output_type": "stream",
     "text": [
      "12.5 6.0\n",
      "-3.75 22.25\n"
     ]
    }
   ],
   "source": [
    "outlier_treatment('fare_amount')"
   ]
  },
  {
   "cell_type": "code",
   "execution_count": 95,
   "metadata": {},
   "outputs": [],
   "source": [
    "train = train.drop('pickup_datetime', axis =1)"
   ]
  },
  {
   "cell_type": "code",
   "execution_count": 96,
   "metadata": {},
   "outputs": [
    {
     "data": {
      "text/html": [
       "<div>\n",
       "<style scoped>\n",
       "    .dataframe tbody tr th:only-of-type {\n",
       "        vertical-align: middle;\n",
       "    }\n",
       "\n",
       "    .dataframe tbody tr th {\n",
       "        vertical-align: top;\n",
       "    }\n",
       "\n",
       "    .dataframe thead th {\n",
       "        text-align: right;\n",
       "    }\n",
       "</style>\n",
       "<table border=\"1\" class=\"dataframe\">\n",
       "  <thead>\n",
       "    <tr style=\"text-align: right;\">\n",
       "      <th></th>\n",
       "      <th>0</th>\n",
       "    </tr>\n",
       "  </thead>\n",
       "  <tbody>\n",
       "    <tr>\n",
       "      <td>fare_amount</td>\n",
       "      <td>1358</td>\n",
       "    </tr>\n",
       "    <tr>\n",
       "      <td>pickup_longitude</td>\n",
       "      <td>0</td>\n",
       "    </tr>\n",
       "    <tr>\n",
       "      <td>pickup_latitude</td>\n",
       "      <td>0</td>\n",
       "    </tr>\n",
       "    <tr>\n",
       "      <td>dropoff_longitude</td>\n",
       "      <td>0</td>\n",
       "    </tr>\n",
       "    <tr>\n",
       "      <td>dropoff_latitude</td>\n",
       "      <td>0</td>\n",
       "    </tr>\n",
       "    <tr>\n",
       "      <td>passenger_count</td>\n",
       "      <td>0</td>\n",
       "    </tr>\n",
       "  </tbody>\n",
       "</table>\n",
       "</div>"
      ],
      "text/plain": [
       "                      0\n",
       "fare_amount        1358\n",
       "pickup_longitude      0\n",
       "pickup_latitude       0\n",
       "dropoff_longitude     0\n",
       "dropoff_latitude      0\n",
       "passenger_count       0"
      ]
     },
     "execution_count": 96,
     "metadata": {},
     "output_type": "execute_result"
    }
   ],
   "source": [
    "pd.DataFrame(train.isnull().sum())"
   ]
  },
  {
   "cell_type": "code",
   "execution_count": 97,
   "metadata": {},
   "outputs": [
    {
     "data": {
      "text/plain": [
       "fare_amount          4.139605\n",
       "pickup_longitude     2.659050\n",
       "pickup_latitude      2.613305\n",
       "dropoff_longitude    2.710835\n",
       "dropoff_latitude     2.632400\n",
       "passenger_count      1.264435\n",
       "dtype: float64"
      ]
     },
     "execution_count": 97,
     "metadata": {},
     "output_type": "execute_result"
    }
   ],
   "source": [
    "train.std()"
   ]
  },
  {
   "cell_type": "code",
   "execution_count": 98,
   "metadata": {},
   "outputs": [],
   "source": [
    "#imputation of missing values by median\n",
    "train['fare_amount'] = train['fare_amount'].fillna(train['fare_amount'].median())"
   ]
  },
  {
   "cell_type": "code",
   "execution_count": 99,
   "metadata": {},
   "outputs": [
    {
     "data": {
      "text/plain": [
       "count     15661\n",
       "unique        6\n",
       "top           1\n",
       "freq      11071\n",
       "Name: passenger_count, dtype: int64"
      ]
     },
     "execution_count": 99,
     "metadata": {},
     "output_type": "execute_result"
    }
   ],
   "source": [
    "train['passenger_count'].describe()"
   ]
  },
  {
   "cell_type": "code",
   "execution_count": 100,
   "metadata": {},
   "outputs": [
    {
     "data": {
      "text/html": [
       "<div>\n",
       "<style scoped>\n",
       "    .dataframe tbody tr th:only-of-type {\n",
       "        vertical-align: middle;\n",
       "    }\n",
       "\n",
       "    .dataframe tbody tr th {\n",
       "        vertical-align: top;\n",
       "    }\n",
       "\n",
       "    .dataframe thead th {\n",
       "        text-align: right;\n",
       "    }\n",
       "</style>\n",
       "<table border=\"1\" class=\"dataframe\">\n",
       "  <thead>\n",
       "    <tr style=\"text-align: right;\">\n",
       "      <th></th>\n",
       "      <th>fare_amount</th>\n",
       "      <th>pickup_longitude</th>\n",
       "      <th>pickup_latitude</th>\n",
       "      <th>dropoff_longitude</th>\n",
       "      <th>dropoff_latitude</th>\n",
       "      <th>passenger_count</th>\n",
       "    </tr>\n",
       "  </thead>\n",
       "  <tbody>\n",
       "    <tr>\n",
       "      <td>0</td>\n",
       "      <td>4.5</td>\n",
       "      <td>-73.844311</td>\n",
       "      <td>40.721319</td>\n",
       "      <td>-73.841610</td>\n",
       "      <td>40.712278</td>\n",
       "      <td>1</td>\n",
       "    </tr>\n",
       "    <tr>\n",
       "      <td>1</td>\n",
       "      <td>16.9</td>\n",
       "      <td>-74.016048</td>\n",
       "      <td>40.711303</td>\n",
       "      <td>-73.979268</td>\n",
       "      <td>40.782004</td>\n",
       "      <td>1</td>\n",
       "    </tr>\n",
       "    <tr>\n",
       "      <td>2</td>\n",
       "      <td>5.7</td>\n",
       "      <td>-73.982738</td>\n",
       "      <td>40.761270</td>\n",
       "      <td>-73.991242</td>\n",
       "      <td>40.750562</td>\n",
       "      <td>2</td>\n",
       "    </tr>\n",
       "    <tr>\n",
       "      <td>3</td>\n",
       "      <td>7.7</td>\n",
       "      <td>-73.987130</td>\n",
       "      <td>40.733143</td>\n",
       "      <td>-73.991567</td>\n",
       "      <td>40.758092</td>\n",
       "      <td>1</td>\n",
       "    </tr>\n",
       "    <tr>\n",
       "      <td>4</td>\n",
       "      <td>5.3</td>\n",
       "      <td>-73.968095</td>\n",
       "      <td>40.768008</td>\n",
       "      <td>-73.956655</td>\n",
       "      <td>40.783762</td>\n",
       "      <td>1</td>\n",
       "    </tr>\n",
       "  </tbody>\n",
       "</table>\n",
       "</div>"
      ],
      "text/plain": [
       "   fare_amount  pickup_longitude  pickup_latitude  dropoff_longitude  \\\n",
       "0          4.5        -73.844311        40.721319         -73.841610   \n",
       "1         16.9        -74.016048        40.711303         -73.979268   \n",
       "2          5.7        -73.982738        40.761270         -73.991242   \n",
       "3          7.7        -73.987130        40.733143         -73.991567   \n",
       "4          5.3        -73.968095        40.768008         -73.956655   \n",
       "\n",
       "   dropoff_latitude passenger_count  \n",
       "0         40.712278               1  \n",
       "1         40.782004               1  \n",
       "2         40.750562               2  \n",
       "3         40.758092               1  \n",
       "4         40.783762               1  "
      ]
     },
     "execution_count": 100,
     "metadata": {},
     "output_type": "execute_result"
    }
   ],
   "source": [
    "train.head()"
   ]
  },
  {
   "cell_type": "code",
   "execution_count": 101,
   "metadata": {},
   "outputs": [],
   "source": [
    "#make a copy\n",
    "df2 = train.copy()"
   ]
  },
  {
   "cell_type": "code",
   "execution_count": 102,
   "metadata": {},
   "outputs": [
    {
     "data": {
      "text/plain": [
       "(15661, 6)"
      ]
     },
     "execution_count": 102,
     "metadata": {},
     "output_type": "execute_result"
    }
   ],
   "source": [
    "train.shape"
   ]
  },
  {
   "cell_type": "code",
   "execution_count": 103,
   "metadata": {},
   "outputs": [],
   "source": [
    "############################ 4.feature engineering #############"
   ]
  },
  {
   "cell_type": "code",
   "execution_count": 104,
   "metadata": {},
   "outputs": [],
   "source": [
    "#1. pickup_datetime variable"
   ]
  },
  {
   "cell_type": "code",
   "execution_count": 105,
   "metadata": {},
   "outputs": [],
   "source": [
    "# we will Join 2 Dataframes pickup_datetime and train\n",
    "train = pd.merge(pickup_datetime,train,right_index=True,left_index=True)"
   ]
  },
  {
   "cell_type": "code",
   "execution_count": 106,
   "metadata": {},
   "outputs": [
    {
     "data": {
      "text/html": [
       "<div>\n",
       "<style scoped>\n",
       "    .dataframe tbody tr th:only-of-type {\n",
       "        vertical-align: middle;\n",
       "    }\n",
       "\n",
       "    .dataframe tbody tr th {\n",
       "        vertical-align: top;\n",
       "    }\n",
       "\n",
       "    .dataframe thead th {\n",
       "        text-align: right;\n",
       "    }\n",
       "</style>\n",
       "<table border=\"1\" class=\"dataframe\">\n",
       "  <thead>\n",
       "    <tr style=\"text-align: right;\">\n",
       "      <th></th>\n",
       "      <th>pickup_datetime</th>\n",
       "      <th>fare_amount</th>\n",
       "      <th>pickup_longitude</th>\n",
       "      <th>pickup_latitude</th>\n",
       "      <th>dropoff_longitude</th>\n",
       "      <th>dropoff_latitude</th>\n",
       "      <th>passenger_count</th>\n",
       "    </tr>\n",
       "  </thead>\n",
       "  <tbody>\n",
       "    <tr>\n",
       "      <td>0</td>\n",
       "      <td>2009-06-15 17:26:21+00:00</td>\n",
       "      <td>4.5</td>\n",
       "      <td>-73.844311</td>\n",
       "      <td>40.721319</td>\n",
       "      <td>-73.841610</td>\n",
       "      <td>40.712278</td>\n",
       "      <td>1</td>\n",
       "    </tr>\n",
       "    <tr>\n",
       "      <td>1</td>\n",
       "      <td>2010-01-05 16:52:16+00:00</td>\n",
       "      <td>16.9</td>\n",
       "      <td>-74.016048</td>\n",
       "      <td>40.711303</td>\n",
       "      <td>-73.979268</td>\n",
       "      <td>40.782004</td>\n",
       "      <td>1</td>\n",
       "    </tr>\n",
       "    <tr>\n",
       "      <td>2</td>\n",
       "      <td>2011-08-18 00:35:00+00:00</td>\n",
       "      <td>5.7</td>\n",
       "      <td>-73.982738</td>\n",
       "      <td>40.761270</td>\n",
       "      <td>-73.991242</td>\n",
       "      <td>40.750562</td>\n",
       "      <td>2</td>\n",
       "    </tr>\n",
       "    <tr>\n",
       "      <td>3</td>\n",
       "      <td>2012-04-21 04:30:42+00:00</td>\n",
       "      <td>7.7</td>\n",
       "      <td>-73.987130</td>\n",
       "      <td>40.733143</td>\n",
       "      <td>-73.991567</td>\n",
       "      <td>40.758092</td>\n",
       "      <td>1</td>\n",
       "    </tr>\n",
       "    <tr>\n",
       "      <td>4</td>\n",
       "      <td>2010-03-09 07:51:00+00:00</td>\n",
       "      <td>5.3</td>\n",
       "      <td>-73.968095</td>\n",
       "      <td>40.768008</td>\n",
       "      <td>-73.956655</td>\n",
       "      <td>40.783762</td>\n",
       "      <td>1</td>\n",
       "    </tr>\n",
       "  </tbody>\n",
       "</table>\n",
       "</div>"
      ],
      "text/plain": [
       "            pickup_datetime  fare_amount  pickup_longitude  pickup_latitude  \\\n",
       "0 2009-06-15 17:26:21+00:00          4.5        -73.844311        40.721319   \n",
       "1 2010-01-05 16:52:16+00:00         16.9        -74.016048        40.711303   \n",
       "2 2011-08-18 00:35:00+00:00          5.7        -73.982738        40.761270   \n",
       "3 2012-04-21 04:30:42+00:00          7.7        -73.987130        40.733143   \n",
       "4 2010-03-09 07:51:00+00:00          5.3        -73.968095        40.768008   \n",
       "\n",
       "   dropoff_longitude  dropoff_latitude passenger_count  \n",
       "0         -73.841610         40.712278               1  \n",
       "1         -73.979268         40.782004               1  \n",
       "2         -73.991242         40.750562               2  \n",
       "3         -73.991567         40.758092               1  \n",
       "4         -73.956655         40.783762               1  "
      ]
     },
     "execution_count": 106,
     "metadata": {},
     "output_type": "execute_result"
    }
   ],
   "source": [
    "train.head()"
   ]
  },
  {
   "cell_type": "code",
   "execution_count": 107,
   "metadata": {},
   "outputs": [],
   "source": [
    "train=train.reset_index(drop=True)"
   ]
  },
  {
   "cell_type": "code",
   "execution_count": 108,
   "metadata": {},
   "outputs": [
    {
     "data": {
      "text/html": [
       "<div>\n",
       "<style scoped>\n",
       "    .dataframe tbody tr th:only-of-type {\n",
       "        vertical-align: middle;\n",
       "    }\n",
       "\n",
       "    .dataframe tbody tr th {\n",
       "        vertical-align: top;\n",
       "    }\n",
       "\n",
       "    .dataframe thead th {\n",
       "        text-align: right;\n",
       "    }\n",
       "</style>\n",
       "<table border=\"1\" class=\"dataframe\">\n",
       "  <thead>\n",
       "    <tr style=\"text-align: right;\">\n",
       "      <th></th>\n",
       "      <th>pickup_datetime</th>\n",
       "      <th>fare_amount</th>\n",
       "      <th>pickup_longitude</th>\n",
       "      <th>pickup_latitude</th>\n",
       "      <th>dropoff_longitude</th>\n",
       "      <th>dropoff_latitude</th>\n",
       "      <th>passenger_count</th>\n",
       "    </tr>\n",
       "  </thead>\n",
       "  <tbody>\n",
       "    <tr>\n",
       "      <td>0</td>\n",
       "      <td>2009-06-15 17:26:21+00:00</td>\n",
       "      <td>4.5</td>\n",
       "      <td>-73.844311</td>\n",
       "      <td>40.721319</td>\n",
       "      <td>-73.841610</td>\n",
       "      <td>40.712278</td>\n",
       "      <td>1</td>\n",
       "    </tr>\n",
       "    <tr>\n",
       "      <td>1</td>\n",
       "      <td>2010-01-05 16:52:16+00:00</td>\n",
       "      <td>16.9</td>\n",
       "      <td>-74.016048</td>\n",
       "      <td>40.711303</td>\n",
       "      <td>-73.979268</td>\n",
       "      <td>40.782004</td>\n",
       "      <td>1</td>\n",
       "    </tr>\n",
       "    <tr>\n",
       "      <td>2</td>\n",
       "      <td>2011-08-18 00:35:00+00:00</td>\n",
       "      <td>5.7</td>\n",
       "      <td>-73.982738</td>\n",
       "      <td>40.761270</td>\n",
       "      <td>-73.991242</td>\n",
       "      <td>40.750562</td>\n",
       "      <td>2</td>\n",
       "    </tr>\n",
       "    <tr>\n",
       "      <td>3</td>\n",
       "      <td>2012-04-21 04:30:42+00:00</td>\n",
       "      <td>7.7</td>\n",
       "      <td>-73.987130</td>\n",
       "      <td>40.733143</td>\n",
       "      <td>-73.991567</td>\n",
       "      <td>40.758092</td>\n",
       "      <td>1</td>\n",
       "    </tr>\n",
       "    <tr>\n",
       "      <td>4</td>\n",
       "      <td>2010-03-09 07:51:00+00:00</td>\n",
       "      <td>5.3</td>\n",
       "      <td>-73.968095</td>\n",
       "      <td>40.768008</td>\n",
       "      <td>-73.956655</td>\n",
       "      <td>40.783762</td>\n",
       "      <td>1</td>\n",
       "    </tr>\n",
       "    <tr>\n",
       "      <td>...</td>\n",
       "      <td>...</td>\n",
       "      <td>...</td>\n",
       "      <td>...</td>\n",
       "      <td>...</td>\n",
       "      <td>...</td>\n",
       "      <td>...</td>\n",
       "      <td>...</td>\n",
       "    </tr>\n",
       "    <tr>\n",
       "      <td>15656</td>\n",
       "      <td>2014-12-12 07:41:00+00:00</td>\n",
       "      <td>6.5</td>\n",
       "      <td>-74.008820</td>\n",
       "      <td>40.718757</td>\n",
       "      <td>-73.998865</td>\n",
       "      <td>40.719987</td>\n",
       "      <td>1</td>\n",
       "    </tr>\n",
       "    <tr>\n",
       "      <td>15657</td>\n",
       "      <td>2009-07-13 07:58:00+00:00</td>\n",
       "      <td>16.1</td>\n",
       "      <td>-73.981310</td>\n",
       "      <td>40.781695</td>\n",
       "      <td>-74.014392</td>\n",
       "      <td>40.715527</td>\n",
       "      <td>2</td>\n",
       "    </tr>\n",
       "    <tr>\n",
       "      <td>15658</td>\n",
       "      <td>2009-11-11 11:19:07+00:00</td>\n",
       "      <td>8.5</td>\n",
       "      <td>-73.972507</td>\n",
       "      <td>40.753417</td>\n",
       "      <td>-73.979577</td>\n",
       "      <td>40.765495</td>\n",
       "      <td>1</td>\n",
       "    </tr>\n",
       "    <tr>\n",
       "      <td>15659</td>\n",
       "      <td>2010-05-11 23:53:00+00:00</td>\n",
       "      <td>8.1</td>\n",
       "      <td>-73.957027</td>\n",
       "      <td>40.765945</td>\n",
       "      <td>-73.981983</td>\n",
       "      <td>40.779560</td>\n",
       "      <td>1</td>\n",
       "    </tr>\n",
       "    <tr>\n",
       "      <td>15660</td>\n",
       "      <td>2011-12-14 06:24:33+00:00</td>\n",
       "      <td>8.5</td>\n",
       "      <td>-74.002111</td>\n",
       "      <td>40.729755</td>\n",
       "      <td>-73.983877</td>\n",
       "      <td>40.761975</td>\n",
       "      <td>1</td>\n",
       "    </tr>\n",
       "  </tbody>\n",
       "</table>\n",
       "<p>15661 rows × 7 columns</p>\n",
       "</div>"
      ],
      "text/plain": [
       "                pickup_datetime  fare_amount  pickup_longitude  \\\n",
       "0     2009-06-15 17:26:21+00:00          4.5        -73.844311   \n",
       "1     2010-01-05 16:52:16+00:00         16.9        -74.016048   \n",
       "2     2011-08-18 00:35:00+00:00          5.7        -73.982738   \n",
       "3     2012-04-21 04:30:42+00:00          7.7        -73.987130   \n",
       "4     2010-03-09 07:51:00+00:00          5.3        -73.968095   \n",
       "...                         ...          ...               ...   \n",
       "15656 2014-12-12 07:41:00+00:00          6.5        -74.008820   \n",
       "15657 2009-07-13 07:58:00+00:00         16.1        -73.981310   \n",
       "15658 2009-11-11 11:19:07+00:00          8.5        -73.972507   \n",
       "15659 2010-05-11 23:53:00+00:00          8.1        -73.957027   \n",
       "15660 2011-12-14 06:24:33+00:00          8.5        -74.002111   \n",
       "\n",
       "       pickup_latitude  dropoff_longitude  dropoff_latitude passenger_count  \n",
       "0            40.721319         -73.841610         40.712278               1  \n",
       "1            40.711303         -73.979268         40.782004               1  \n",
       "2            40.761270         -73.991242         40.750562               2  \n",
       "3            40.733143         -73.991567         40.758092               1  \n",
       "4            40.768008         -73.956655         40.783762               1  \n",
       "...                ...                ...               ...             ...  \n",
       "15656        40.718757         -73.998865         40.719987               1  \n",
       "15657        40.781695         -74.014392         40.715527               2  \n",
       "15658        40.753417         -73.979577         40.765495               1  \n",
       "15659        40.765945         -73.981983         40.779560               1  \n",
       "15660        40.729755         -73.983877         40.761975               1  \n",
       "\n",
       "[15661 rows x 7 columns]"
      ]
     },
     "execution_count": 108,
     "metadata": {},
     "output_type": "execute_result"
    }
   ],
   "source": [
    "train"
   ]
  },
  {
   "cell_type": "code",
   "execution_count": 109,
   "metadata": {},
   "outputs": [
    {
     "data": {
      "text/html": [
       "<div>\n",
       "<style scoped>\n",
       "    .dataframe tbody tr th:only-of-type {\n",
       "        vertical-align: middle;\n",
       "    }\n",
       "\n",
       "    .dataframe tbody tr th {\n",
       "        vertical-align: top;\n",
       "    }\n",
       "\n",
       "    .dataframe thead th {\n",
       "        text-align: right;\n",
       "    }\n",
       "</style>\n",
       "<table border=\"1\" class=\"dataframe\">\n",
       "  <thead>\n",
       "    <tr style=\"text-align: right;\">\n",
       "      <th></th>\n",
       "      <th>0</th>\n",
       "    </tr>\n",
       "  </thead>\n",
       "  <tbody>\n",
       "    <tr>\n",
       "      <td>pickup_datetime</td>\n",
       "      <td>1</td>\n",
       "    </tr>\n",
       "    <tr>\n",
       "      <td>fare_amount</td>\n",
       "      <td>0</td>\n",
       "    </tr>\n",
       "    <tr>\n",
       "      <td>pickup_longitude</td>\n",
       "      <td>0</td>\n",
       "    </tr>\n",
       "    <tr>\n",
       "      <td>pickup_latitude</td>\n",
       "      <td>0</td>\n",
       "    </tr>\n",
       "    <tr>\n",
       "      <td>dropoff_longitude</td>\n",
       "      <td>0</td>\n",
       "    </tr>\n",
       "    <tr>\n",
       "      <td>dropoff_latitude</td>\n",
       "      <td>0</td>\n",
       "    </tr>\n",
       "    <tr>\n",
       "      <td>passenger_count</td>\n",
       "      <td>0</td>\n",
       "    </tr>\n",
       "  </tbody>\n",
       "</table>\n",
       "</div>"
      ],
      "text/plain": [
       "                   0\n",
       "pickup_datetime    1\n",
       "fare_amount        0\n",
       "pickup_longitude   0\n",
       "pickup_latitude    0\n",
       "dropoff_longitude  0\n",
       "dropoff_latitude   0\n",
       "passenger_count    0"
      ]
     },
     "execution_count": 109,
     "metadata": {},
     "output_type": "execute_result"
    }
   ],
   "source": [
    "#checking for pickup_datetime missing values\n",
    "pd.DataFrame(train.isna().sum())"
   ]
  },
  {
   "cell_type": "code",
   "execution_count": 110,
   "metadata": {},
   "outputs": [],
   "source": [
    "train=train.dropna()"
   ]
  },
  {
   "cell_type": "code",
   "execution_count": 111,
   "metadata": {},
   "outputs": [
    {
     "name": "stderr",
     "output_type": "stream",
     "text": [
      "C:\\Users\\nikhi\\Anaconda3\\lib\\site-packages\\ipykernel_launcher.py:4: SettingWithCopyWarning: \n",
      "A value is trying to be set on a copy of a slice from a DataFrame.\n",
      "Try using .loc[row_indexer,col_indexer] = value instead\n",
      "\n",
      "See the caveats in the documentation: http://pandas.pydata.org/pandas-docs/stable/user_guide/indexing.html#returning-a-view-versus-a-copy\n",
      "  after removing the cwd from sys.path.\n",
      "C:\\Users\\nikhi\\Anaconda3\\lib\\site-packages\\ipykernel_launcher.py:7: SettingWithCopyWarning: \n",
      "A value is trying to be set on a copy of a slice from a DataFrame.\n",
      "Try using .loc[row_indexer,col_indexer] = value instead\n",
      "\n",
      "See the caveats in the documentation: http://pandas.pydata.org/pandas-docs/stable/user_guide/indexing.html#returning-a-view-versus-a-copy\n",
      "  import sys\n",
      "C:\\Users\\nikhi\\Anaconda3\\lib\\site-packages\\ipykernel_launcher.py:10: SettingWithCopyWarning: \n",
      "A value is trying to be set on a copy of a slice from a DataFrame.\n",
      "Try using .loc[row_indexer,col_indexer] = value instead\n",
      "\n",
      "See the caveats in the documentation: http://pandas.pydata.org/pandas-docs/stable/user_guide/indexing.html#returning-a-view-versus-a-copy\n",
      "  # Remove the CWD from sys.path while we load stuff.\n",
      "C:\\Users\\nikhi\\Anaconda3\\lib\\site-packages\\ipykernel_launcher.py:13: SettingWithCopyWarning: \n",
      "A value is trying to be set on a copy of a slice from a DataFrame.\n",
      "Try using .loc[row_indexer,col_indexer] = value instead\n",
      "\n",
      "See the caveats in the documentation: http://pandas.pydata.org/pandas-docs/stable/user_guide/indexing.html#returning-a-view-versus-a-copy\n",
      "  del sys.path[0]\n"
     ]
    }
   ],
   "source": [
    "data = [train,test]\n",
    "for i in data:\n",
    "    #year\n",
    "    i[\"year\"] = i[\"pickup_datetime\"].apply(lambda row: row.year)\n",
    "    \n",
    "    #month\n",
    "    i[\"month\"] = i[\"pickup_datetime\"].apply(lambda row: row.month)\n",
    "   \n",
    "    #day od week\n",
    "    i[\"day_of_week\"] = i[\"pickup_datetime\"].apply(lambda row: row.dayofweek)\n",
    "    \n",
    "    #hour\n",
    "    i[\"hour\"] = i[\"pickup_datetime\"].apply(lambda row: row.hour)"
   ]
  },
  {
   "cell_type": "code",
   "execution_count": 112,
   "metadata": {},
   "outputs": [],
   "source": [
    "#make a copy\n",
    "train_nodummies=train.copy()"
   ]
  },
  {
   "cell_type": "code",
   "execution_count": 113,
   "metadata": {},
   "outputs": [
    {
     "data": {
      "text/plain": [
       "(15660, 11)"
      ]
     },
     "execution_count": 113,
     "metadata": {},
     "output_type": "execute_result"
    }
   ],
   "source": [
    "train.shape"
   ]
  },
  {
   "cell_type": "code",
   "execution_count": 114,
   "metadata": {},
   "outputs": [
    {
     "data": {
      "text/plain": [
       "(9914, 10)"
      ]
     },
     "execution_count": 114,
     "metadata": {},
     "output_type": "execute_result"
    }
   ],
   "source": [
    "test.shape"
   ]
  },
  {
   "cell_type": "code",
   "execution_count": 115,
   "metadata": {},
   "outputs": [],
   "source": [
    "# 3.to calculate the distance travelled using longitude and latitude using from geopy library(couldn't be done using haversine)"
   ]
  },
  {
   "cell_type": "code",
   "execution_count": 116,
   "metadata": {},
   "outputs": [],
   "source": [
    "from geopy.distance import geodesic\n",
    "from geopy.distance import great_circle"
   ]
  },
  {
   "cell_type": "code",
   "execution_count": 117,
   "metadata": {},
   "outputs": [
    {
     "name": "stderr",
     "output_type": "stream",
     "text": [
      "C:\\Users\\nikhi\\Anaconda3\\lib\\site-packages\\ipykernel_launcher.py:3: SettingWithCopyWarning: \n",
      "A value is trying to be set on a copy of a slice from a DataFrame.\n",
      "Try using .loc[row_indexer,col_indexer] = value instead\n",
      "\n",
      "See the caveats in the documentation: http://pandas.pydata.org/pandas-docs/stable/user_guide/indexing.html#returning-a-view-versus-a-copy\n",
      "  This is separate from the ipykernel package so we can avoid doing imports until\n",
      "C:\\Users\\nikhi\\Anaconda3\\lib\\site-packages\\ipykernel_launcher.py:4: SettingWithCopyWarning: \n",
      "A value is trying to be set on a copy of a slice from a DataFrame.\n",
      "Try using .loc[row_indexer,col_indexer] = value instead\n",
      "\n",
      "See the caveats in the documentation: http://pandas.pydata.org/pandas-docs/stable/user_guide/indexing.html#returning-a-view-versus-a-copy\n",
      "  after removing the cwd from sys.path.\n"
     ]
    }
   ],
   "source": [
    "data = [train, test]\n",
    "for i in data:\n",
    "    i['great_circle']=i.apply(lambda x: great_circle((x['pickup_latitude'],x['pickup_longitude']), (x['dropoff_latitude'],   x['dropoff_longitude'])).km, axis=1)\n",
    "    i['geodesic']=i.apply(lambda x: geodesic((x['pickup_latitude'],x['pickup_longitude']), (x['dropoff_latitude'],   x['dropoff_longitude'])).km, axis=1)"
   ]
  },
  {
   "cell_type": "code",
   "execution_count": 118,
   "metadata": {},
   "outputs": [
    {
     "data": {
      "text/html": [
       "<div>\n",
       "<style scoped>\n",
       "    .dataframe tbody tr th:only-of-type {\n",
       "        vertical-align: middle;\n",
       "    }\n",
       "\n",
       "    .dataframe tbody tr th {\n",
       "        vertical-align: top;\n",
       "    }\n",
       "\n",
       "    .dataframe thead th {\n",
       "        text-align: right;\n",
       "    }\n",
       "</style>\n",
       "<table border=\"1\" class=\"dataframe\">\n",
       "  <thead>\n",
       "    <tr style=\"text-align: right;\">\n",
       "      <th></th>\n",
       "      <th>pickup_datetime</th>\n",
       "      <th>fare_amount</th>\n",
       "      <th>pickup_longitude</th>\n",
       "      <th>pickup_latitude</th>\n",
       "      <th>dropoff_longitude</th>\n",
       "      <th>dropoff_latitude</th>\n",
       "      <th>passenger_count</th>\n",
       "      <th>year</th>\n",
       "      <th>month</th>\n",
       "      <th>day_of_week</th>\n",
       "      <th>hour</th>\n",
       "      <th>great_circle</th>\n",
       "      <th>geodesic</th>\n",
       "    </tr>\n",
       "  </thead>\n",
       "  <tbody>\n",
       "    <tr>\n",
       "      <td>0</td>\n",
       "      <td>2009-06-15 17:26:21+00:00</td>\n",
       "      <td>4.5</td>\n",
       "      <td>-73.844311</td>\n",
       "      <td>40.721319</td>\n",
       "      <td>-73.841610</td>\n",
       "      <td>40.712278</td>\n",
       "      <td>1</td>\n",
       "      <td>2009</td>\n",
       "      <td>6</td>\n",
       "      <td>0</td>\n",
       "      <td>17</td>\n",
       "      <td>1.030765</td>\n",
       "      <td>1.029601</td>\n",
       "    </tr>\n",
       "    <tr>\n",
       "      <td>1</td>\n",
       "      <td>2010-01-05 16:52:16+00:00</td>\n",
       "      <td>16.9</td>\n",
       "      <td>-74.016048</td>\n",
       "      <td>40.711303</td>\n",
       "      <td>-73.979268</td>\n",
       "      <td>40.782004</td>\n",
       "      <td>1</td>\n",
       "      <td>2010</td>\n",
       "      <td>1</td>\n",
       "      <td>1</td>\n",
       "      <td>16</td>\n",
       "      <td>8.450146</td>\n",
       "      <td>8.443441</td>\n",
       "    </tr>\n",
       "    <tr>\n",
       "      <td>2</td>\n",
       "      <td>2011-08-18 00:35:00+00:00</td>\n",
       "      <td>5.7</td>\n",
       "      <td>-73.982738</td>\n",
       "      <td>40.761270</td>\n",
       "      <td>-73.991242</td>\n",
       "      <td>40.750562</td>\n",
       "      <td>2</td>\n",
       "      <td>2011</td>\n",
       "      <td>8</td>\n",
       "      <td>3</td>\n",
       "      <td>0</td>\n",
       "      <td>1.389527</td>\n",
       "      <td>1.389132</td>\n",
       "    </tr>\n",
       "    <tr>\n",
       "      <td>3</td>\n",
       "      <td>2012-04-21 04:30:42+00:00</td>\n",
       "      <td>7.7</td>\n",
       "      <td>-73.987130</td>\n",
       "      <td>40.733143</td>\n",
       "      <td>-73.991567</td>\n",
       "      <td>40.758092</td>\n",
       "      <td>1</td>\n",
       "      <td>2012</td>\n",
       "      <td>4</td>\n",
       "      <td>5</td>\n",
       "      <td>4</td>\n",
       "      <td>2.799274</td>\n",
       "      <td>2.795790</td>\n",
       "    </tr>\n",
       "    <tr>\n",
       "      <td>4</td>\n",
       "      <td>2010-03-09 07:51:00+00:00</td>\n",
       "      <td>5.3</td>\n",
       "      <td>-73.968095</td>\n",
       "      <td>40.768008</td>\n",
       "      <td>-73.956655</td>\n",
       "      <td>40.783762</td>\n",
       "      <td>1</td>\n",
       "      <td>2010</td>\n",
       "      <td>3</td>\n",
       "      <td>1</td>\n",
       "      <td>7</td>\n",
       "      <td>1.999160</td>\n",
       "      <td>1.998338</td>\n",
       "    </tr>\n",
       "  </tbody>\n",
       "</table>\n",
       "</div>"
      ],
      "text/plain": [
       "            pickup_datetime  fare_amount  pickup_longitude  pickup_latitude  \\\n",
       "0 2009-06-15 17:26:21+00:00          4.5        -73.844311        40.721319   \n",
       "1 2010-01-05 16:52:16+00:00         16.9        -74.016048        40.711303   \n",
       "2 2011-08-18 00:35:00+00:00          5.7        -73.982738        40.761270   \n",
       "3 2012-04-21 04:30:42+00:00          7.7        -73.987130        40.733143   \n",
       "4 2010-03-09 07:51:00+00:00          5.3        -73.968095        40.768008   \n",
       "\n",
       "   dropoff_longitude  dropoff_latitude passenger_count  year  month  \\\n",
       "0         -73.841610         40.712278               1  2009      6   \n",
       "1         -73.979268         40.782004               1  2010      1   \n",
       "2         -73.991242         40.750562               2  2011      8   \n",
       "3         -73.991567         40.758092               1  2012      4   \n",
       "4         -73.956655         40.783762               1  2010      3   \n",
       "\n",
       "   day_of_week  hour  great_circle  geodesic  \n",
       "0            0    17      1.030765  1.029601  \n",
       "1            1    16      8.450146  8.443441  \n",
       "2            3     0      1.389527  1.389132  \n",
       "3            5     4      2.799274  2.795790  \n",
       "4            1     7      1.999160  1.998338  "
      ]
     },
     "execution_count": 118,
     "metadata": {},
     "output_type": "execute_result"
    }
   ],
   "source": [
    "train.head()"
   ]
  },
  {
   "cell_type": "code",
   "execution_count": 119,
   "metadata": {},
   "outputs": [
    {
     "data": {
      "text/html": [
       "<div>\n",
       "<style scoped>\n",
       "    .dataframe tbody tr th:only-of-type {\n",
       "        vertical-align: middle;\n",
       "    }\n",
       "\n",
       "    .dataframe tbody tr th {\n",
       "        vertical-align: top;\n",
       "    }\n",
       "\n",
       "    .dataframe thead th {\n",
       "        text-align: right;\n",
       "    }\n",
       "</style>\n",
       "<table border=\"1\" class=\"dataframe\">\n",
       "  <thead>\n",
       "    <tr style=\"text-align: right;\">\n",
       "      <th></th>\n",
       "      <th>pickup_datetime</th>\n",
       "      <th>pickup_longitude</th>\n",
       "      <th>pickup_latitude</th>\n",
       "      <th>dropoff_longitude</th>\n",
       "      <th>dropoff_latitude</th>\n",
       "      <th>passenger_count</th>\n",
       "      <th>year</th>\n",
       "      <th>month</th>\n",
       "      <th>day_of_week</th>\n",
       "      <th>hour</th>\n",
       "      <th>great_circle</th>\n",
       "      <th>geodesic</th>\n",
       "    </tr>\n",
       "  </thead>\n",
       "  <tbody>\n",
       "    <tr>\n",
       "      <td>0</td>\n",
       "      <td>2015-01-27 13:08:24+00:00</td>\n",
       "      <td>-73.973320</td>\n",
       "      <td>40.763805</td>\n",
       "      <td>-73.981430</td>\n",
       "      <td>40.743835</td>\n",
       "      <td>1</td>\n",
       "      <td>2015</td>\n",
       "      <td>1</td>\n",
       "      <td>1</td>\n",
       "      <td>13</td>\n",
       "      <td>2.323263</td>\n",
       "      <td>2.320991</td>\n",
       "    </tr>\n",
       "    <tr>\n",
       "      <td>1</td>\n",
       "      <td>2015-01-27 13:08:24+00:00</td>\n",
       "      <td>-73.986862</td>\n",
       "      <td>40.719383</td>\n",
       "      <td>-73.998886</td>\n",
       "      <td>40.739201</td>\n",
       "      <td>1</td>\n",
       "      <td>2015</td>\n",
       "      <td>1</td>\n",
       "      <td>1</td>\n",
       "      <td>13</td>\n",
       "      <td>2.425356</td>\n",
       "      <td>2.423802</td>\n",
       "    </tr>\n",
       "    <tr>\n",
       "      <td>2</td>\n",
       "      <td>2011-10-08 11:53:44+00:00</td>\n",
       "      <td>-73.982524</td>\n",
       "      <td>40.751260</td>\n",
       "      <td>-73.979654</td>\n",
       "      <td>40.746139</td>\n",
       "      <td>1</td>\n",
       "      <td>2011</td>\n",
       "      <td>10</td>\n",
       "      <td>5</td>\n",
       "      <td>11</td>\n",
       "      <td>0.618629</td>\n",
       "      <td>0.618182</td>\n",
       "    </tr>\n",
       "    <tr>\n",
       "      <td>3</td>\n",
       "      <td>2012-12-01 21:12:12+00:00</td>\n",
       "      <td>-73.981160</td>\n",
       "      <td>40.767807</td>\n",
       "      <td>-73.990448</td>\n",
       "      <td>40.751635</td>\n",
       "      <td>1</td>\n",
       "      <td>2012</td>\n",
       "      <td>12</td>\n",
       "      <td>5</td>\n",
       "      <td>21</td>\n",
       "      <td>1.961035</td>\n",
       "      <td>1.959671</td>\n",
       "    </tr>\n",
       "    <tr>\n",
       "      <td>4</td>\n",
       "      <td>2012-12-01 21:12:12+00:00</td>\n",
       "      <td>-73.966046</td>\n",
       "      <td>40.789775</td>\n",
       "      <td>-73.988565</td>\n",
       "      <td>40.744427</td>\n",
       "      <td>1</td>\n",
       "      <td>2012</td>\n",
       "      <td>12</td>\n",
       "      <td>5</td>\n",
       "      <td>21</td>\n",
       "      <td>5.387309</td>\n",
       "      <td>5.382833</td>\n",
       "    </tr>\n",
       "  </tbody>\n",
       "</table>\n",
       "</div>"
      ],
      "text/plain": [
       "            pickup_datetime  pickup_longitude  pickup_latitude  \\\n",
       "0 2015-01-27 13:08:24+00:00        -73.973320        40.763805   \n",
       "1 2015-01-27 13:08:24+00:00        -73.986862        40.719383   \n",
       "2 2011-10-08 11:53:44+00:00        -73.982524        40.751260   \n",
       "3 2012-12-01 21:12:12+00:00        -73.981160        40.767807   \n",
       "4 2012-12-01 21:12:12+00:00        -73.966046        40.789775   \n",
       "\n",
       "   dropoff_longitude  dropoff_latitude  passenger_count  year  month  \\\n",
       "0         -73.981430         40.743835                1  2015      1   \n",
       "1         -73.998886         40.739201                1  2015      1   \n",
       "2         -73.979654         40.746139                1  2011     10   \n",
       "3         -73.990448         40.751635                1  2012     12   \n",
       "4         -73.988565         40.744427                1  2012     12   \n",
       "\n",
       "   day_of_week  hour  great_circle  geodesic  \n",
       "0            1    13      2.323263  2.320991  \n",
       "1            1    13      2.425356  2.423802  \n",
       "2            5    11      0.618629  0.618182  \n",
       "3            5    21      1.961035  1.959671  \n",
       "4            5    21      5.387309  5.382833  "
      ]
     },
     "execution_count": 119,
     "metadata": {},
     "output_type": "execute_result"
    }
   ],
   "source": [
    "test.head()"
   ]
  },
  {
   "cell_type": "code",
   "execution_count": 120,
   "metadata": {},
   "outputs": [
    {
     "data": {
      "text/html": [
       "<div>\n",
       "<style scoped>\n",
       "    .dataframe tbody tr th:only-of-type {\n",
       "        vertical-align: middle;\n",
       "    }\n",
       "\n",
       "    .dataframe tbody tr th {\n",
       "        vertical-align: top;\n",
       "    }\n",
       "\n",
       "    .dataframe thead th {\n",
       "        text-align: right;\n",
       "    }\n",
       "</style>\n",
       "<table border=\"1\" class=\"dataframe\">\n",
       "  <thead>\n",
       "    <tr style=\"text-align: right;\">\n",
       "      <th></th>\n",
       "      <th>0</th>\n",
       "    </tr>\n",
       "  </thead>\n",
       "  <tbody>\n",
       "    <tr>\n",
       "      <td>pickup_datetime</td>\n",
       "      <td>0</td>\n",
       "    </tr>\n",
       "    <tr>\n",
       "      <td>fare_amount</td>\n",
       "      <td>0</td>\n",
       "    </tr>\n",
       "    <tr>\n",
       "      <td>pickup_longitude</td>\n",
       "      <td>0</td>\n",
       "    </tr>\n",
       "    <tr>\n",
       "      <td>pickup_latitude</td>\n",
       "      <td>0</td>\n",
       "    </tr>\n",
       "    <tr>\n",
       "      <td>dropoff_longitude</td>\n",
       "      <td>0</td>\n",
       "    </tr>\n",
       "    <tr>\n",
       "      <td>dropoff_latitude</td>\n",
       "      <td>0</td>\n",
       "    </tr>\n",
       "    <tr>\n",
       "      <td>passenger_count</td>\n",
       "      <td>0</td>\n",
       "    </tr>\n",
       "    <tr>\n",
       "      <td>year</td>\n",
       "      <td>0</td>\n",
       "    </tr>\n",
       "    <tr>\n",
       "      <td>month</td>\n",
       "      <td>0</td>\n",
       "    </tr>\n",
       "    <tr>\n",
       "      <td>day_of_week</td>\n",
       "      <td>0</td>\n",
       "    </tr>\n",
       "    <tr>\n",
       "      <td>hour</td>\n",
       "      <td>0</td>\n",
       "    </tr>\n",
       "    <tr>\n",
       "      <td>great_circle</td>\n",
       "      <td>0</td>\n",
       "    </tr>\n",
       "    <tr>\n",
       "      <td>geodesic</td>\n",
       "      <td>0</td>\n",
       "    </tr>\n",
       "  </tbody>\n",
       "</table>\n",
       "</div>"
      ],
      "text/plain": [
       "                   0\n",
       "pickup_datetime    0\n",
       "fare_amount        0\n",
       "pickup_longitude   0\n",
       "pickup_latitude    0\n",
       "dropoff_longitude  0\n",
       "dropoff_latitude   0\n",
       "passenger_count    0\n",
       "year               0\n",
       "month              0\n",
       "day_of_week        0\n",
       "hour               0\n",
       "great_circle       0\n",
       "geodesic           0"
      ]
     },
     "execution_count": 120,
     "metadata": {},
     "output_type": "execute_result"
    }
   ],
   "source": [
    "pd.DataFrame(train.isna().sum())"
   ]
  },
  {
   "cell_type": "code",
   "execution_count": 121,
   "metadata": {},
   "outputs": [
    {
     "data": {
      "text/html": [
       "<div>\n",
       "<style scoped>\n",
       "    .dataframe tbody tr th:only-of-type {\n",
       "        vertical-align: middle;\n",
       "    }\n",
       "\n",
       "    .dataframe tbody tr th {\n",
       "        vertical-align: top;\n",
       "    }\n",
       "\n",
       "    .dataframe thead th {\n",
       "        text-align: right;\n",
       "    }\n",
       "</style>\n",
       "<table border=\"1\" class=\"dataframe\">\n",
       "  <thead>\n",
       "    <tr style=\"text-align: right;\">\n",
       "      <th></th>\n",
       "      <th>0</th>\n",
       "    </tr>\n",
       "  </thead>\n",
       "  <tbody>\n",
       "    <tr>\n",
       "      <td>pickup_datetime</td>\n",
       "      <td>0</td>\n",
       "    </tr>\n",
       "    <tr>\n",
       "      <td>pickup_longitude</td>\n",
       "      <td>0</td>\n",
       "    </tr>\n",
       "    <tr>\n",
       "      <td>pickup_latitude</td>\n",
       "      <td>0</td>\n",
       "    </tr>\n",
       "    <tr>\n",
       "      <td>dropoff_longitude</td>\n",
       "      <td>0</td>\n",
       "    </tr>\n",
       "    <tr>\n",
       "      <td>dropoff_latitude</td>\n",
       "      <td>0</td>\n",
       "    </tr>\n",
       "    <tr>\n",
       "      <td>passenger_count</td>\n",
       "      <td>0</td>\n",
       "    </tr>\n",
       "    <tr>\n",
       "      <td>year</td>\n",
       "      <td>0</td>\n",
       "    </tr>\n",
       "    <tr>\n",
       "      <td>month</td>\n",
       "      <td>0</td>\n",
       "    </tr>\n",
       "    <tr>\n",
       "      <td>day_of_week</td>\n",
       "      <td>0</td>\n",
       "    </tr>\n",
       "    <tr>\n",
       "      <td>hour</td>\n",
       "      <td>0</td>\n",
       "    </tr>\n",
       "    <tr>\n",
       "      <td>great_circle</td>\n",
       "      <td>0</td>\n",
       "    </tr>\n",
       "    <tr>\n",
       "      <td>geodesic</td>\n",
       "      <td>0</td>\n",
       "    </tr>\n",
       "  </tbody>\n",
       "</table>\n",
       "</div>"
      ],
      "text/plain": [
       "                   0\n",
       "pickup_datetime    0\n",
       "pickup_longitude   0\n",
       "pickup_latitude    0\n",
       "dropoff_longitude  0\n",
       "dropoff_latitude   0\n",
       "passenger_count    0\n",
       "year               0\n",
       "month              0\n",
       "day_of_week        0\n",
       "hour               0\n",
       "great_circle       0\n",
       "geodesic           0"
      ]
     },
     "execution_count": 121,
     "metadata": {},
     "output_type": "execute_result"
    }
   ],
   "source": [
    "pd.DataFrame(test.isna().sum())"
   ]
  },
  {
   "cell_type": "code",
   "execution_count": 122,
   "metadata": {},
   "outputs": [],
   "source": [
    "#We will remove the variables which were used to feature engineer new variables"
   ]
  },
  {
   "cell_type": "code",
   "execution_count": 123,
   "metadata": {
    "scrolled": false
   },
   "outputs": [],
   "source": [
    "train=train.drop(['pickup_datetime','pickup_longitude', 'pickup_latitude', 'dropoff_longitude', 'dropoff_latitude', 'great_circle'],axis=1)\n",
    "test=test.drop(['pickup_datetime','pickup_longitude', 'pickup_latitude', 'dropoff_longitude', 'dropoff_latitude', 'great_circle'],axis=1)"
   ]
  },
  {
   "cell_type": "code",
   "execution_count": 124,
   "metadata": {},
   "outputs": [
    {
     "data": {
      "text/plain": [
       "((15660, 7), (9914, 6))"
      ]
     },
     "execution_count": 124,
     "metadata": {},
     "output_type": "execute_result"
    }
   ],
   "source": [
    "train.shape,test.shape"
   ]
  },
  {
   "cell_type": "code",
   "execution_count": 125,
   "metadata": {},
   "outputs": [
    {
     "data": {
      "image/png": "[encoded data removed]",
      "text/plain": [
       "<Figure size 1440x360 with 1 Axes>"
      ]
     },
     "metadata": {
      "needs_background": "light"
     },
     "output_type": "display_data"
    }
   ],
   "source": [
    "#check for outliers\n",
    "plt.figure(figsize=(20,5)) \n",
    "plt.xlim(0,140)\n",
    "sns.boxplot(x=train['geodesic'],data=train,orient='h')\n",
    "plt.title('Boxplot of geodesic ')\n",
    "plt.show()"
   ]
  },
  {
   "cell_type": "code",
   "execution_count": 126,
   "metadata": {},
   "outputs": [
    {
     "name": "stdout",
     "output_type": "stream",
     "text": [
      "3.9037343222038094 1.25773685240001\n",
      "-2.711259352305689 7.872730526909509\n"
     ]
    }
   ],
   "source": [
    "outlier_treatment('geodesic')"
   ]
  },
  {
   "cell_type": "code",
   "execution_count": 127,
   "metadata": {},
   "outputs": [
    {
     "data": {
      "text/html": [
       "<div>\n",
       "<style scoped>\n",
       "    .dataframe tbody tr th:only-of-type {\n",
       "        vertical-align: middle;\n",
       "    }\n",
       "\n",
       "    .dataframe tbody tr th {\n",
       "        vertical-align: top;\n",
       "    }\n",
       "\n",
       "    .dataframe thead th {\n",
       "        text-align: right;\n",
       "    }\n",
       "</style>\n",
       "<table border=\"1\" class=\"dataframe\">\n",
       "  <thead>\n",
       "    <tr style=\"text-align: right;\">\n",
       "      <th></th>\n",
       "      <th>0</th>\n",
       "    </tr>\n",
       "  </thead>\n",
       "  <tbody>\n",
       "    <tr>\n",
       "      <td>fare_amount</td>\n",
       "      <td>0</td>\n",
       "    </tr>\n",
       "    <tr>\n",
       "      <td>passenger_count</td>\n",
       "      <td>0</td>\n",
       "    </tr>\n",
       "    <tr>\n",
       "      <td>year</td>\n",
       "      <td>0</td>\n",
       "    </tr>\n",
       "    <tr>\n",
       "      <td>month</td>\n",
       "      <td>0</td>\n",
       "    </tr>\n",
       "    <tr>\n",
       "      <td>day_of_week</td>\n",
       "      <td>0</td>\n",
       "    </tr>\n",
       "    <tr>\n",
       "      <td>hour</td>\n",
       "      <td>0</td>\n",
       "    </tr>\n",
       "    <tr>\n",
       "      <td>geodesic</td>\n",
       "      <td>1348</td>\n",
       "    </tr>\n",
       "  </tbody>\n",
       "</table>\n",
       "</div>"
      ],
      "text/plain": [
       "                    0\n",
       "fare_amount         0\n",
       "passenger_count     0\n",
       "year                0\n",
       "month               0\n",
       "day_of_week         0\n",
       "hour                0\n",
       "geodesic         1348"
      ]
     },
     "execution_count": 127,
     "metadata": {},
     "output_type": "execute_result"
    }
   ],
   "source": [
    "pd.DataFrame(train.isnull().sum())"
   ]
  },
  {
   "cell_type": "code",
   "execution_count": 128,
   "metadata": {},
   "outputs": [],
   "source": [
    "#Imputing with missing values using median\n",
    "train['fare_amount'] = train['fare_amount'].fillna(train['fare_amount'].median())"
   ]
  },
  {
   "cell_type": "code",
   "execution_count": 129,
   "metadata": {},
   "outputs": [],
   "source": [
    "######################### 5.feature selection ##########################"
   ]
  },
  {
   "cell_type": "code",
   "execution_count": 130,
   "metadata": {},
   "outputs": [],
   "source": [
    "cat_var=['passenger_count', 'month', 'day_of_week', 'hour', 'year']\n",
    "\n",
    "num_var=['fare_amount','geodesic']"
   ]
  },
  {
   "cell_type": "code",
   "execution_count": 131,
   "metadata": {},
   "outputs": [],
   "source": [
    "train[cat_var]=train[cat_var].apply(lambda x: x.astype('category') )\n",
    "test[cat_var]=test[cat_var].apply(lambda x: x.astype('category') ) "
   ]
  },
  {
   "cell_type": "code",
   "execution_count": 132,
   "metadata": {},
   "outputs": [
    {
     "data": {
      "image/png": "[encoded data removed]",
      "text/plain": [
       "<Figure size 1080x1080 with 2 Axes>"
      ]
     },
     "metadata": {
      "needs_background": "light"
     },
     "output_type": "display_data"
    }
   ],
   "source": [
    "# heatmap using correlation matrix\n",
    "plt.figure(figsize=(15,15))\n",
    "_ = sns.heatmap(train[num_var].corr(), square=True, cmap='RdYlGn',linewidths=0.5,linecolor='w',annot=True)\n",
    "plt.title('Correlation matrix ')\n",
    "\n",
    "plt.show()"
   ]
  },
  {
   "cell_type": "code",
   "execution_count": 133,
   "metadata": {},
   "outputs": [
    {
     "name": "stderr",
     "output_type": "stream",
     "text": [
      "C:\\Users\\nikhi\\Anaconda3\\lib\\site-packages\\seaborn\\axisgrid.py:1847: UserWarning: JointGrid annotation is deprecated and will be removed in a future release.\n",
      "  warnings.warn(UserWarning(msg))\n"
     ]
    },
    {
     "data": {
      "image/png": "[encoded data removed]",
      "text/plain": [
       "<Figure size 432x432 with 3 Axes>"
      ]
     },
     "metadata": {
      "needs_background": "light"
     },
     "output_type": "display_data"
    }
   ],
   "source": [
    "_ = sns.jointplot(x='fare_amount',y='geodesic',data=train,kind = 'reg')\n",
    "_.annotate(stats.pearsonr)\n",
    "\n",
    "plt.show()"
   ]
  },
  {
   "cell_type": "code",
   "execution_count": 134,
   "metadata": {},
   "outputs": [],
   "source": [
    "#we cannot carryout chi-square test as target variable (fare_amount) is continous in nature"
   ]
  },
  {
   "cell_type": "code",
   "execution_count": 135,
   "metadata": {},
   "outputs": [],
   "source": [
    "#ANOVA for categorical variables"
   ]
  },
  {
   "cell_type": "code",
   "execution_count": 136,
   "metadata": {},
   "outputs": [],
   "source": [
    "model = ols('fare_amount ~ C(passenger_count)+C(month)+C(day_of_week)+C(hour)+C(year)',data=train).fit()"
   ]
  },
  {
   "cell_type": "code",
   "execution_count": 137,
   "metadata": {},
   "outputs": [
    {
     "data": {
      "text/html": [
       "<div>\n",
       "<style scoped>\n",
       "    .dataframe tbody tr th:only-of-type {\n",
       "        vertical-align: middle;\n",
       "    }\n",
       "\n",
       "    .dataframe tbody tr th {\n",
       "        vertical-align: top;\n",
       "    }\n",
       "\n",
       "    .dataframe thead th {\n",
       "        text-align: right;\n",
       "    }\n",
       "</style>\n",
       "<table border=\"1\" class=\"dataframe\">\n",
       "  <thead>\n",
       "    <tr style=\"text-align: right;\">\n",
       "      <th></th>\n",
       "      <th>df</th>\n",
       "      <th>sum_sq</th>\n",
       "      <th>mean_sq</th>\n",
       "      <th>F</th>\n",
       "      <th>PR(&gt;F)</th>\n",
       "    </tr>\n",
       "  </thead>\n",
       "  <tbody>\n",
       "    <tr>\n",
       "      <td>C(passenger_count)</td>\n",
       "      <td>5.0</td>\n",
       "      <td>323.534241</td>\n",
       "      <td>64.706848</td>\n",
       "      <td>4.230212</td>\n",
       "      <td>7.625833e-04</td>\n",
       "    </tr>\n",
       "    <tr>\n",
       "      <td>C(month)</td>\n",
       "      <td>11.0</td>\n",
       "      <td>569.066564</td>\n",
       "      <td>51.733324</td>\n",
       "      <td>3.382068</td>\n",
       "      <td>1.079462e-04</td>\n",
       "    </tr>\n",
       "    <tr>\n",
       "      <td>C(day_of_week)</td>\n",
       "      <td>6.0</td>\n",
       "      <td>113.379786</td>\n",
       "      <td>18.896631</td>\n",
       "      <td>1.235368</td>\n",
       "      <td>2.844700e-01</td>\n",
       "    </tr>\n",
       "    <tr>\n",
       "      <td>C(hour)</td>\n",
       "      <td>23.0</td>\n",
       "      <td>1734.576676</td>\n",
       "      <td>75.416377</td>\n",
       "      <td>4.930348</td>\n",
       "      <td>7.231387e-14</td>\n",
       "    </tr>\n",
       "    <tr>\n",
       "      <td>C(year)</td>\n",
       "      <td>6.0</td>\n",
       "      <td>4649.967830</td>\n",
       "      <td>774.994638</td>\n",
       "      <td>50.665298</td>\n",
       "      <td>4.735782e-62</td>\n",
       "    </tr>\n",
       "    <tr>\n",
       "      <td>Residual</td>\n",
       "      <td>15608.0</td>\n",
       "      <td>238745.587002</td>\n",
       "      <td>15.296360</td>\n",
       "      <td>NaN</td>\n",
       "      <td>NaN</td>\n",
       "    </tr>\n",
       "  </tbody>\n",
       "</table>\n",
       "</div>"
      ],
      "text/plain": [
       "                         df         sum_sq     mean_sq          F  \\\n",
       "C(passenger_count)      5.0     323.534241   64.706848   4.230212   \n",
       "C(month)               11.0     569.066564   51.733324   3.382068   \n",
       "C(day_of_week)          6.0     113.379786   18.896631   1.235368   \n",
       "C(hour)                23.0    1734.576676   75.416377   4.930348   \n",
       "C(year)                 6.0    4649.967830  774.994638  50.665298   \n",
       "Residual            15608.0  238745.587002   15.296360        NaN   \n",
       "\n",
       "                          PR(>F)  \n",
       "C(passenger_count)  7.625833e-04  \n",
       "C(month)            1.079462e-04  \n",
       "C(day_of_week)      2.844700e-01  \n",
       "C(hour)             7.231387e-14  \n",
       "C(year)             4.735782e-62  \n",
       "Residual                     NaN  "
      ]
     },
     "execution_count": 137,
     "metadata": {},
     "output_type": "execute_result"
    }
   ],
   "source": [
    "aov_table = sm.stats.anova_lm(model)\n",
    "aov_table"
   ]
  },
  {
   "cell_type": "code",
   "execution_count": 138,
   "metadata": {},
   "outputs": [],
   "source": [
    "#Every variable has p-value less than 0.05 therefore we reject the null hypothesis."
   ]
  },
  {
   "cell_type": "code",
   "execution_count": 139,
   "metadata": {},
   "outputs": [],
   "source": [
    "#Multicollinearity Test"
   ]
  },
  {
   "cell_type": "code",
   "execution_count": 140,
   "metadata": {},
   "outputs": [],
   "source": [
    "outcome, predictors = dmatrices('fare_amount ~ geodesic+passenger_count+month+day_of_week+hour+year',train, return_type='dataframe')"
   ]
  },
  {
   "cell_type": "code",
   "execution_count": 141,
   "metadata": {},
   "outputs": [
    {
     "data": {
      "text/html": [
       "<div>\n",
       "<style scoped>\n",
       "    .dataframe tbody tr th:only-of-type {\n",
       "        vertical-align: middle;\n",
       "    }\n",
       "\n",
       "    .dataframe tbody tr th {\n",
       "        vertical-align: top;\n",
       "    }\n",
       "\n",
       "    .dataframe thead th {\n",
       "        text-align: right;\n",
       "    }\n",
       "</style>\n",
       "<table border=\"1\" class=\"dataframe\">\n",
       "  <thead>\n",
       "    <tr style=\"text-align: right;\">\n",
       "      <th></th>\n",
       "      <th>VIF</th>\n",
       "      <th>features</th>\n",
       "    </tr>\n",
       "  </thead>\n",
       "  <tbody>\n",
       "    <tr>\n",
       "      <td>0</td>\n",
       "      <td>54.583644</td>\n",
       "      <td>Intercept</td>\n",
       "    </tr>\n",
       "    <tr>\n",
       "      <td>1</td>\n",
       "      <td>1.044675</td>\n",
       "      <td>passenger_count[T.2]</td>\n",
       "    </tr>\n",
       "    <tr>\n",
       "      <td>2</td>\n",
       "      <td>1.022852</td>\n",
       "      <td>passenger_count[T.3]</td>\n",
       "    </tr>\n",
       "    <tr>\n",
       "      <td>3</td>\n",
       "      <td>1.015111</td>\n",
       "      <td>passenger_count[T.4]</td>\n",
       "    </tr>\n",
       "    <tr>\n",
       "      <td>4</td>\n",
       "      <td>1.027992</td>\n",
       "      <td>passenger_count[T.5]</td>\n",
       "    </tr>\n",
       "    <tr>\n",
       "      <td>5</td>\n",
       "      <td>1.019743</td>\n",
       "      <td>passenger_count[T.6]</td>\n",
       "    </tr>\n",
       "    <tr>\n",
       "      <td>6</td>\n",
       "      <td>1.740582</td>\n",
       "      <td>month[T.2]</td>\n",
       "    </tr>\n",
       "    <tr>\n",
       "      <td>7</td>\n",
       "      <td>1.830469</td>\n",
       "      <td>month[T.3]</td>\n",
       "    </tr>\n",
       "    <tr>\n",
       "      <td>8</td>\n",
       "      <td>1.786871</td>\n",
       "      <td>month[T.4]</td>\n",
       "    </tr>\n",
       "    <tr>\n",
       "      <td>9</td>\n",
       "      <td>1.834627</td>\n",
       "      <td>month[T.5]</td>\n",
       "    </tr>\n",
       "    <tr>\n",
       "      <td>10</td>\n",
       "      <td>1.819646</td>\n",
       "      <td>month[T.6]</td>\n",
       "    </tr>\n",
       "    <tr>\n",
       "      <td>11</td>\n",
       "      <td>1.696112</td>\n",
       "      <td>month[T.7]</td>\n",
       "    </tr>\n",
       "    <tr>\n",
       "      <td>12</td>\n",
       "      <td>1.642815</td>\n",
       "      <td>month[T.8]</td>\n",
       "    </tr>\n",
       "    <tr>\n",
       "      <td>13</td>\n",
       "      <td>1.688420</td>\n",
       "      <td>month[T.9]</td>\n",
       "    </tr>\n",
       "    <tr>\n",
       "      <td>14</td>\n",
       "      <td>1.729141</td>\n",
       "      <td>month[T.10]</td>\n",
       "    </tr>\n",
       "    <tr>\n",
       "      <td>15</td>\n",
       "      <td>1.696225</td>\n",
       "      <td>month[T.11]</td>\n",
       "    </tr>\n",
       "    <tr>\n",
       "      <td>16</td>\n",
       "      <td>1.729089</td>\n",
       "      <td>month[T.12]</td>\n",
       "    </tr>\n",
       "    <tr>\n",
       "      <td>17</td>\n",
       "      <td>1.794455</td>\n",
       "      <td>day_of_week[T.1]</td>\n",
       "    </tr>\n",
       "    <tr>\n",
       "      <td>18</td>\n",
       "      <td>1.808815</td>\n",
       "      <td>day_of_week[T.2]</td>\n",
       "    </tr>\n",
       "    <tr>\n",
       "      <td>19</td>\n",
       "      <td>1.807140</td>\n",
       "      <td>day_of_week[T.3]</td>\n",
       "    </tr>\n",
       "    <tr>\n",
       "      <td>20</td>\n",
       "      <td>1.827649</td>\n",
       "      <td>day_of_week[T.4]</td>\n",
       "    </tr>\n",
       "    <tr>\n",
       "      <td>21</td>\n",
       "      <td>1.877039</td>\n",
       "      <td>day_of_week[T.5]</td>\n",
       "    </tr>\n",
       "    <tr>\n",
       "      <td>22</td>\n",
       "      <td>1.794526</td>\n",
       "      <td>day_of_week[T.6]</td>\n",
       "    </tr>\n",
       "    <tr>\n",
       "      <td>23</td>\n",
       "      <td>1.706493</td>\n",
       "      <td>hour[T.1]</td>\n",
       "    </tr>\n",
       "    <tr>\n",
       "      <td>24</td>\n",
       "      <td>1.505320</td>\n",
       "      <td>hour[T.2]</td>\n",
       "    </tr>\n",
       "    <tr>\n",
       "      <td>25</td>\n",
       "      <td>1.451285</td>\n",
       "      <td>hour[T.3]</td>\n",
       "    </tr>\n",
       "    <tr>\n",
       "      <td>26</td>\n",
       "      <td>1.295147</td>\n",
       "      <td>hour[T.4]</td>\n",
       "    </tr>\n",
       "    <tr>\n",
       "      <td>27</td>\n",
       "      <td>1.235709</td>\n",
       "      <td>hour[T.5]</td>\n",
       "    </tr>\n",
       "    <tr>\n",
       "      <td>28</td>\n",
       "      <td>1.529415</td>\n",
       "      <td>hour[T.6]</td>\n",
       "    </tr>\n",
       "    <tr>\n",
       "      <td>29</td>\n",
       "      <td>2.029790</td>\n",
       "      <td>hour[T.7]</td>\n",
       "    </tr>\n",
       "    <tr>\n",
       "      <td>30</td>\n",
       "      <td>2.166257</td>\n",
       "      <td>hour[T.8]</td>\n",
       "    </tr>\n",
       "    <tr>\n",
       "      <td>31</td>\n",
       "      <td>2.279926</td>\n",
       "      <td>hour[T.9]</td>\n",
       "    </tr>\n",
       "    <tr>\n",
       "      <td>32</td>\n",
       "      <td>2.082563</td>\n",
       "      <td>hour[T.10]</td>\n",
       "    </tr>\n",
       "    <tr>\n",
       "      <td>33</td>\n",
       "      <td>2.170368</td>\n",
       "      <td>hour[T.11]</td>\n",
       "    </tr>\n",
       "    <tr>\n",
       "      <td>34</td>\n",
       "      <td>2.271888</td>\n",
       "      <td>hour[T.12]</td>\n",
       "    </tr>\n",
       "    <tr>\n",
       "      <td>35</td>\n",
       "      <td>2.248190</td>\n",
       "      <td>hour[T.13]</td>\n",
       "    </tr>\n",
       "    <tr>\n",
       "      <td>36</td>\n",
       "      <td>2.238444</td>\n",
       "      <td>hour[T.14]</td>\n",
       "    </tr>\n",
       "    <tr>\n",
       "      <td>37</td>\n",
       "      <td>2.174352</td>\n",
       "      <td>hour[T.15]</td>\n",
       "    </tr>\n",
       "    <tr>\n",
       "      <td>38</td>\n",
       "      <td>2.016457</td>\n",
       "      <td>hour[T.16]</td>\n",
       "    </tr>\n",
       "    <tr>\n",
       "      <td>39</td>\n",
       "      <td>2.234730</td>\n",
       "      <td>hour[T.17]</td>\n",
       "    </tr>\n",
       "    <tr>\n",
       "      <td>40</td>\n",
       "      <td>2.581923</td>\n",
       "      <td>hour[T.18]</td>\n",
       "    </tr>\n",
       "    <tr>\n",
       "      <td>41</td>\n",
       "      <td>2.588390</td>\n",
       "      <td>hour[T.19]</td>\n",
       "    </tr>\n",
       "    <tr>\n",
       "      <td>42</td>\n",
       "      <td>2.521187</td>\n",
       "      <td>hour[T.20]</td>\n",
       "    </tr>\n",
       "    <tr>\n",
       "      <td>43</td>\n",
       "      <td>2.439408</td>\n",
       "      <td>hour[T.21]</td>\n",
       "    </tr>\n",
       "    <tr>\n",
       "      <td>44</td>\n",
       "      <td>2.412907</td>\n",
       "      <td>hour[T.22]</td>\n",
       "    </tr>\n",
       "    <tr>\n",
       "      <td>45</td>\n",
       "      <td>2.215001</td>\n",
       "      <td>hour[T.23]</td>\n",
       "    </tr>\n",
       "    <tr>\n",
       "      <td>46</td>\n",
       "      <td>1.700562</td>\n",
       "      <td>year[T.2010]</td>\n",
       "    </tr>\n",
       "    <tr>\n",
       "      <td>47</td>\n",
       "      <td>1.694782</td>\n",
       "      <td>year[T.2011]</td>\n",
       "    </tr>\n",
       "    <tr>\n",
       "      <td>48</td>\n",
       "      <td>1.712070</td>\n",
       "      <td>year[T.2012]</td>\n",
       "    </tr>\n",
       "    <tr>\n",
       "      <td>49</td>\n",
       "      <td>1.718114</td>\n",
       "      <td>year[T.2013]</td>\n",
       "    </tr>\n",
       "    <tr>\n",
       "      <td>50</td>\n",
       "      <td>1.667458</td>\n",
       "      <td>year[T.2014]</td>\n",
       "    </tr>\n",
       "    <tr>\n",
       "      <td>51</td>\n",
       "      <td>1.441712</td>\n",
       "      <td>year[T.2015]</td>\n",
       "    </tr>\n",
       "    <tr>\n",
       "      <td>52</td>\n",
       "      <td>1.024601</td>\n",
       "      <td>geodesic</td>\n",
       "    </tr>\n",
       "  </tbody>\n",
       "</table>\n",
       "</div>"
      ],
      "text/plain": [
       "          VIF              features\n",
       "0   54.583644             Intercept\n",
       "1    1.044675  passenger_count[T.2]\n",
       "2    1.022852  passenger_count[T.3]\n",
       "3    1.015111  passenger_count[T.4]\n",
       "4    1.027992  passenger_count[T.5]\n",
       "5    1.019743  passenger_count[T.6]\n",
       "6    1.740582            month[T.2]\n",
       "7    1.830469            month[T.3]\n",
       "8    1.786871            month[T.4]\n",
       "9    1.834627            month[T.5]\n",
       "10   1.819646            month[T.6]\n",
       "11   1.696112            month[T.7]\n",
       "12   1.642815            month[T.8]\n",
       "13   1.688420            month[T.9]\n",
       "14   1.729141           month[T.10]\n",
       "15   1.696225           month[T.11]\n",
       "16   1.729089           month[T.12]\n",
       "17   1.794455      day_of_week[T.1]\n",
       "18   1.808815      day_of_week[T.2]\n",
       "19   1.807140      day_of_week[T.3]\n",
       "20   1.827649      day_of_week[T.4]\n",
       "21   1.877039      day_of_week[T.5]\n",
       "22   1.794526      day_of_week[T.6]\n",
       "23   1.706493             hour[T.1]\n",
       "24   1.505320             hour[T.2]\n",
       "25   1.451285             hour[T.3]\n",
       "26   1.295147             hour[T.4]\n",
       "27   1.235709             hour[T.5]\n",
       "28   1.529415             hour[T.6]\n",
       "29   2.029790             hour[T.7]\n",
       "30   2.166257             hour[T.8]\n",
       "31   2.279926             hour[T.9]\n",
       "32   2.082563            hour[T.10]\n",
       "33   2.170368            hour[T.11]\n",
       "34   2.271888            hour[T.12]\n",
       "35   2.248190            hour[T.13]\n",
       "36   2.238444            hour[T.14]\n",
       "37   2.174352            hour[T.15]\n",
       "38   2.016457            hour[T.16]\n",
       "39   2.234730            hour[T.17]\n",
       "40   2.581923            hour[T.18]\n",
       "41   2.588390            hour[T.19]\n",
       "42   2.521187            hour[T.20]\n",
       "43   2.439408            hour[T.21]\n",
       "44   2.412907            hour[T.22]\n",
       "45   2.215001            hour[T.23]\n",
       "46   1.700562          year[T.2010]\n",
       "47   1.694782          year[T.2011]\n",
       "48   1.712070          year[T.2012]\n",
       "49   1.718114          year[T.2013]\n",
       "50   1.667458          year[T.2014]\n",
       "51   1.441712          year[T.2015]\n",
       "52   1.024601              geodesic"
      ]
     },
     "execution_count": 141,
     "metadata": {},
     "output_type": "execute_result"
    }
   ],
   "source": [
    "vif = pd.DataFrame()\n",
    "vif[\"VIF\"] = [variance_inflation_factor(predictors.values, i) for i in range(predictors.shape[1])]\n",
    "vif[\"features\"] = predictors.columns\n",
    "vif"
   ]
  },
  {
   "cell_type": "code",
   "execution_count": 142,
   "metadata": {},
   "outputs": [],
   "source": [
    "##########################  6.feature scaling ##################"
   ]
  },
  {
   "cell_type": "code",
   "execution_count": 143,
   "metadata": {},
   "outputs": [
    {
     "data": {
      "text/plain": [
       "fare_amount    15.718508\n",
       "geodesic        2.793330\n",
       "dtype: float64"
      ]
     },
     "execution_count": 143,
     "metadata": {},
     "output_type": "execute_result"
    }
   ],
   "source": [
    "train[num_var].var()"
   ]
  },
  {
   "cell_type": "code",
   "execution_count": 144,
   "metadata": {},
   "outputs": [
    {
     "name": "stderr",
     "output_type": "stream",
     "text": [
      "C:\\Users\\nikhi\\AppData\\Roaming\\Python\\Python37\\site-packages\\numpy\\lib\\histograms.py:829: RuntimeWarning: invalid value encountered in greater_equal\n",
      "  keep = (tmp_a >= first_edge)\n",
      "C:\\Users\\nikhi\\AppData\\Roaming\\Python\\Python37\\site-packages\\numpy\\lib\\histograms.py:830: RuntimeWarning: invalid value encountered in less_equal\n",
      "  keep &= (tmp_a <= last_edge)\n",
      "C:\\Users\\nikhi\\Anaconda3\\lib\\site-packages\\statsmodels\\nonparametric\\kde.py:447: RuntimeWarning: invalid value encountered in greater\n",
      "  X = X[np.logical_and(X > clip[0], X < clip[1])] # won't work for two columns.\n",
      "C:\\Users\\nikhi\\Anaconda3\\lib\\site-packages\\statsmodels\\nonparametric\\kde.py:447: RuntimeWarning: invalid value encountered in less\n",
      "  X = X[np.logical_and(X > clip[0], X < clip[1])] # won't work for two columns.\n"
     ]
    },
    {
     "data": {
      "text/plain": [
       "<matplotlib.axes._subplots.AxesSubplot at 0x233a7d68308>"
      ]
     },
     "execution_count": 144,
     "metadata": {},
     "output_type": "execute_result"
    },
    {
     "data": {
      "image/png": "[encoded data removed]",
      "text/plain": [
       "<Figure size 432x288 with 1 Axes>"
      ]
     },
     "metadata": {
      "needs_background": "light"
     },
     "output_type": "display_data"
    }
   ],
   "source": [
    "#Normality check\n",
    "sns.distplot(train['geodesic'],bins=40)"
   ]
  },
  {
   "cell_type": "code",
   "execution_count": 145,
   "metadata": {},
   "outputs": [],
   "source": [
    "#Normalization\n",
    "train['geodesic'] = (train['geodesic'] - min(train['geodesic']))/(max(train['geodesic']) - min(train['geodesic']))\n",
    "test['geodesic'] = (test['geodesic'] - min(test['geodesic']))/(max(test['geodesic']) - min(test['geodesic']))"
   ]
  },
  {
   "cell_type": "code",
   "execution_count": 146,
   "metadata": {},
   "outputs": [
    {
     "data": {
      "text/plain": [
       "0.04512619929879313"
      ]
     },
     "execution_count": 146,
     "metadata": {},
     "output_type": "execute_result"
    }
   ],
   "source": [
    "train['geodesic'].var()"
   ]
  },
  {
   "cell_type": "code",
   "execution_count": 147,
   "metadata": {},
   "outputs": [
    {
     "data": {
      "text/plain": [
       "<matplotlib.axes._subplots.AxesSubplot at 0x233a7e0dc08>"
      ]
     },
     "execution_count": 147,
     "metadata": {},
     "output_type": "execute_result"
    },
    {
     "data": {
      "image/png": "[encoded data removed]",
      "text/plain": [
       "<Figure size 432x288 with 1 Axes>"
      ]
     },
     "metadata": {
      "needs_background": "light"
     },
     "output_type": "display_data"
    }
   ],
   "source": [
    "sns.distplot(train['geodesic'],bins=50)"
   ]
  },
  {
   "cell_type": "code",
   "execution_count": 148,
   "metadata": {},
   "outputs": [
    {
     "data": {
      "text/plain": [
       "Index(['fare_amount', 'passenger_count', 'year', 'month', 'day_of_week',\n",
       "       'hour', 'geodesic'],\n",
       "      dtype='object')"
      ]
     },
     "execution_count": 148,
     "metadata": {},
     "output_type": "execute_result"
    }
   ],
   "source": [
    "train.columns"
   ]
  },
  {
   "cell_type": "code",
   "execution_count": 149,
   "metadata": {},
   "outputs": [],
   "source": [
    "#make a copy\n",
    "df4=train.copy()\n",
    "\n",
    "f4=test.copy()"
   ]
  },
  {
   "cell_type": "code",
   "execution_count": 150,
   "metadata": {},
   "outputs": [],
   "source": [
    "################## machine learning algorithm ################"
   ]
  },
  {
   "cell_type": "code",
   "execution_count": 151,
   "metadata": {
    "scrolled": true
   },
   "outputs": [],
   "source": [
    "X = train.drop('fare_amount',axis=1).values\n",
    "y = train['fare_amount'].values"
   ]
  },
  {
   "cell_type": "code",
   "execution_count": 152,
   "metadata": {},
   "outputs": [],
   "source": [
    "#splitting X and y into training and testing sets \n",
    "X_train, X_test, y_train, y_test = train_test_split(X, y, test_size=0.25, \n",
    "                                                    random_state=42) "
   ]
  },
  {
   "cell_type": "code",
   "execution_count": null,
   "metadata": {},
   "outputs": [],
   "source": [
    "def rmsle(y,y_):\n",
    "    log1 = np.nan_to_num(np.array([np.log(v + 1) for v in y]))\n",
    "    log2 = np.nan_to_num(np.array([np.log(v + 1) for v in y_]))\n",
    "    calc = (log1 - log2) ** 2\n",
    "    return np.sqrt(np.mean(calc))\n",
    "def scores(y, y_):\n",
    "    print('r square  ', metrics.r2_score(y, y_))\n",
    "    print('Adjusted r square:{}'.format(1 - (1-metrics.r2_score(y, y_))*(len(y)-1)/(len(y)-X_train.shape[1]-1)))\n",
    "    print('MAPE:{}'.format(np.mean(np.abs((y - y_) / y))*100))\n",
    "    print('MSE:', metrics.mean_squared_error(y, y_))\n",
    "    print('RMSE:', np.sqrt(metrics.mean_squared_error(y, y_))) \n",
    "def test_scores(model):\n",
    "    print('<<<------------------- Training Data Score --------------------->')\n",
    "    print()\n",
    "    #Predicting result on Training data\n",
    "    y_pred = model.predict(X_train)\n",
    "    scores(y_train,y_pred)\n",
    "    print('RMSLE:',rmsle(y_train,y_pred))\n",
    "    print()\n",
    "    print('<<<------------------- Test Data Score --------------------->')\n",
    "    print()\n",
    "    # Evaluating on Test Set\n",
    "    y_pred = model.predict(X_test)\n",
    "    scores(y_test,y_pred)\n",
    "    print('RMSLE:',rmsle(y_test,y_pred))"
   ]
  },
  {
   "cell_type": "code",
   "execution_count": null,
   "metadata": {},
   "outputs": [],
   "source": [
    "############### linear regression ###########"
   ]
  },
  {
   "cell_type": "code",
   "execution_count": null,
   "metadata": {},
   "outputs": [],
   "source": [
    "# Setup the parameters and distributions to sample from: param_dist\n",
    "param_dist = {'copy_X':[True, False],\n",
    "          'fit_intercept':[True,False]}\n",
    "# Instantiate a Decision reg classifier: reg\n",
    "reg = LinearRegression()\n",
    "\n",
    "# Instantiate the gridSearchCV object: reg_cv\n",
    "reg_cv = GridSearchCV(reg, param_dist, cv=5,scoring='r2')\n",
    "\n",
    "# Fit it to the data\n",
    "reg.fit(X, y)\n",
    "\n",
    "# Print the tuned parameters and score\n",
    "print(\"Tuned Decision reg Parameters: {}\".format(reg_cv.best_params_))\n",
    "print(\"Best score is {}\".format(reg_cv.best_score_))"
   ]
  },
  {
   "cell_type": "code",
   "execution_count": null,
   "metadata": {},
   "outputs": [],
   "source": [
    "# Create the regressor: reg_all\n",
    "reg_all = LinearRegression(copy_X= True, fit_intercept=True)\n",
    "\n",
    "# Fit the regressor to the training data\n",
    "reg_all.fit(X_train,y_train)\n",
    "\n",
    "# Predict on the test data: y_pred\n",
    "y_pred = reg_all.predict(X_test)\n",
    "\n",
    "# Compute and print R^2 and RMSE\n",
    "print(\"R^2: {}\".format(reg_all.score(X_test, y_test)))\n",
    "rmse = np.sqrt(mean_squared_error(y_test,y_pred))\n",
    "print(\"Root Mean Squared Error: {}\".format(rmse))\n",
    "test_scores(reg_all)\n",
    "\n",
    "# Compute and print the coefficients\n",
    "reg_coef = reg_all.coef_\n",
    "print(reg_coef)"
   ]
  },
  {
   "cell_type": "code",
   "execution_count": null,
   "metadata": {},
   "outputs": [],
   "source": [
    "#################### 2. decision tree ###############################"
   ]
  },
  {
   "cell_type": "code",
   "execution_count": null,
   "metadata": {},
   "outputs": [],
   "source": [
    "# Setup the parameters and distributions to sample from: param_dist\n",
    "param_dist = {'max_depth': range(2,16,2),\n",
    "              'min_samples_split': range(2,16,2)}\n",
    "\n",
    "# Instantiate a Decision Tree classifier: tree\n",
    "tree = DecisionTreeRegressor()\n",
    "\n",
    "# Instantiate the gridSearchCV object: tree_cv\n",
    "tree_cv = GridSearchCV(tree, param_dist, cv=5)\n",
    "\n",
    "# Fit it to the data\n",
    "tree_cv.fit(X, y)\n",
    "\n",
    "# Print the tuned parameters and score\n",
    "print(\"Tuned Decision Tree Parameters: {}\".format(tree_cv.best_params_))\n",
    "print(\"Best score is {}\".format(tree_cv.best_score_))"
   ]
  },
  {
   "cell_type": "code",
   "execution_count": null,
   "metadata": {},
   "outputs": [],
   "source": [
    "# Instantiate a tree regressor: tree\n",
    "tree = DecisionTreeRegressor(max_depth= 6, min_samples_split=2)\n",
    "\n",
    "# Fit the regressor to the data\n",
    "tree.fit(X_train,y_train)\n",
    "\n",
    "# Compute and print the coefficients\n",
    "tree_features = tree.feature_importances_\n",
    "print(tree_features)\n",
    "\n",
    "# Sort test importances in descending order\n",
    "indices = np.argsort(tree_features)[::1]\n",
    "\n",
    "# Rearrange test names so they match the sorted test importances\n",
    "names = [test.columns[i] for i in indices]\n",
    "\n",
    "# Make predictions and cal error\n",
    "test_scores(tree)"
   ]
  },
  {
   "cell_type": "code",
   "execution_count": null,
   "metadata": {},
   "outputs": [],
   "source": [
    "############################ 3. random forest #####################"
   ]
  },
  {
   "cell_type": "code",
   "execution_count": null,
   "metadata": {},
   "outputs": [],
   "source": [
    "# Create the random grid\n",
    "random_grid = {'n_estimators': range(100,500,100),\n",
    "               'max_depth': range(5,20,1),\n",
    "               'min_samples_leaf':range(2,5,1),\n",
    "              'max_features':['auto','sqrt','log2'],\n",
    "              'bootstrap': [True, False],\n",
    "              'min_samples_split': range(2,5,1)}\n",
    "# Instantiate a Decision Forest classifier: Forest\n",
    "Forest = RandomForestRegressor()\n",
    "\n",
    "# Instantiate the gridSearchCV object: Forest_cv\n",
    "Forest_cv = RandomizedSearchCV(Forest, random_grid, cv=5)\n",
    "\n",
    "# Fit it to the data\n",
    "Forest_cv.fit(X, y)\n",
    "\n",
    "# Print the tuned parameters and score\n",
    "print(\"Tuned Random Forest Parameters: {}\".format(Forest_cv.best_params_))\n",
    "print(\"Best score is {}\".format(Forest_cv.best_score_))"
   ]
  },
  {
   "cell_type": "code",
   "execution_count": null,
   "metadata": {},
   "outputs": [],
   "source": [
    "# Instantiate a Forest regressor: Forest\n",
    "Forest = RandomForestRegressor(n_estimators=100, min_samples_split= 2, min_samples_leaf=4, max_features='auto', max_depth=9, bootstrap=True)\n",
    "\n",
    "# Fit the regressor to the data\n",
    "Forest.fit(X_train,y_train)\n",
    "\n",
    "# Compute and print the coefficients\n",
    "Forest_features = Forest.feature_importances_\n",
    "print(Forest_features)\n",
    "\n",
    "# Sort feature importances in descending order\n",
    "indices = np.argsort(Forest_features)[::1]\n",
    "\n",
    "# Rearrange feature names so they match the sorted feature importances\n",
    "names = [test.columns[i] for i in indices]"
   ]
  }
 ],
 "metadata": {
  "kernelspec": {
   "display_name": "Python 3",
   "language": "python",
   "name": "python3"
  },
  "language_info": {
   "codemirror_mode": {
    "name": "ipython",
    "version": 3
   },
   "file_extension": ".py",
   "mimetype": "text/x-python",
   "name": "python",
   "nbconvert_exporter": "python",
   "pygments_lexer": "ipython3",
   "version": "3.7.4"
  }
 },
 "nbformat": 4,
 "nbformat_minor": 2
}
